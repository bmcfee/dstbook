{
 "cells": [
  {
   "cell_type": "markdown",
   "id": "0fdde01a-0ba3-4fe7-bb46-4c67bdf0567b",
   "metadata": {},
   "source": [
    "(complex)=\n",
    "# Complex numbers\n",
    "\n",
    "```{image} ../images/chapter04.svg\n",
    ":width: 75%\n",
    ":align: center\n",
    ":alt: a point in the complex plane\n",
    "```\n",
    "\n",
    "This section covers the fundamentals of complex numbers, and should help give a sense of how and why they're useful for modeling periodic phenomena such as audio signals."
   ]
  },
  {
   "cell_type": "code",
   "execution_count": 2,
   "id": "a4718e21-4309-4c27-bdb2-27fcff2fa24b",
   "metadata": {
    "tags": [
     "remove_input",
     "remove_output"
    ]
   },
   "outputs": [],
   "source": [
    "%run ../setup.ipynb"
   ]
  },
  {
   "cell_type": "markdown",
   "id": "bacb0366-4a0c-4c93-9fb0-fa056fa85e22",
   "metadata": {},
   "source": [
    "**Why use complex numbers?**\n",
    "\n",
    "Complex numbers were originally developed to solve polynomial equations (e.g., find $x$ such that $x^2 + x + 1 = 0$), and it's true that many of the things we do in signal processing involve exactly these kinds of equations.\n",
    "However, this isn't a terribly satisfying motivation for using complex numbers to study signal processing, and this is the point at which many students start to get confused about why we need all of this math.\n",
    "\n",
    "There is, however, a much deeper reason why complex numbers arise in signal processing, and it has to do with the link between arithmetic and geometry.\n",
    "\n",
    "Think about what happens when you multiply one real number $x$ by another $y$.\n",
    "If $y > 1$, then $x\\cdot y$ becomes bigger than $x$, which you can think of as *stretching* the number line.\n",
    "If $y < 1$, then $x \\cdot y$ becomes smaller, which embodies the opposite effect, *compressing* the number line.\n",
    "And if $y < 0$, then the sign of $x\\cdot y$ flips from $x$'s (positive becomes negative, and vice versa), which you can think of as *mirroring* the number line horizontally.\n",
    "Stretching, compressing, and reflecting are all familiar **geometric** operations that happen to correspond to the arithmetic of real numbers."
   ]
  },
  {
   "cell_type": "code",
   "execution_count": 3,
   "id": "e2ab0dbf-e5b0-4d04-b216-5e2bc39551b7",
   "metadata": {
    "tags": [
     "remove_input",
     "remove_output"
    ]
   },
   "outputs": [],
   "source": [
    "# Plot number line operations here\n",
    "#  magnitude oscillating 1 + 0.5 * cos\n",
    "fig, ax = plt.subplots(figsize=figaspect(1./4))\n",
    "\n",
    "duration = 20\n",
    "frame_rate = 25\n",
    "#frame_rate = 4\n",
    "n_frames = duration * frame_rate\n",
    "\n",
    "x = 1.5\n",
    "y = 0.25 + 2 * np.sin(2 * np.pi * 3 * np.linspace(0, 1, num=n_frames, endpoint=False))\n",
    "\n",
    "xy = x * y\n",
    "\n",
    "xp = ax.scatter(x, 0, color=colors[0], label=r'$x$', s=60)\n",
    "xt = ax.text(x + .1,  .15, r'$x$', color=colors[0], size=25)\n",
    "\n",
    "yp = ax.scatter(y[0], 0, color=colors[1], label=r'$y$', s=60)\n",
    "yt = ax.text(y[0] + .1,  .15, r'$y$', color=colors[1], size=25)\n",
    "\n",
    "xyp = ax.scatter(xy[0], 0, color=colors[4], label=r'$x\\cdot y$')\n",
    "xyt = ax.text(xy[0] + .1, -0.05, r'$x \\cdot y$', color=colors[4], size=25, va='top')\n",
    "\n",
    "ax.axhline(0, color=colors[3], zorder=-1, linewidth=2)\n",
    "ax.axvline(0, color=colors[3], zorder=-1, linewidth=2)\n",
    "#ax.axis('off')\n",
    "ax.set_yticks([])\n",
    "ax.set_xlim(-5, 5)\n",
    "ax.set_ylim(-0.5, 0.5)\n",
    "ax.set_xlabel(r'Real numbers $\\leftrightarrow$')\n",
    "\n",
    "def init():\n",
    "    return yp, xyp, yt, xyt\n",
    "\n",
    "def animate(frame):\n",
    "    \n",
    "    yp.set_offsets(np.c_[y[frame], 0])\n",
    "    xyp.set_offsets(np.c_[xy[frame], 0])\n",
    "\n",
    "    yt.set_x(y[frame] + 0.1)\n",
    "    xyt.set_x(xy[frame] + 0.1)\n",
    "    return yp, xyp, yt, xyt\n",
    "\n",
    "\n",
    "animation = FuncAnimation(fig, animate, init_func=init,\n",
    "                               frames=np.arange(n_frames),\n",
    "                               interval=1000/frame_rate, blit=True);\n",
    "glue('line', animation, display=False)"
   ]
  },
  {
   "cell_type": "markdown",
   "id": "6f7d32a5-8fb9-44ad-be3c-bcaf5b5eeef8",
   "metadata": {},
   "source": [
    "```{glue:figure} line\n",
    "Multiplication on the real number line acts like stretching, compressing, or reflecting across the 0 point.\n",
    "```"
   ]
  },
  {
   "cell_type": "markdown",
   "id": "bc70a98e-d390-4a37-b8de-bdcdc8fc1b8a",
   "metadata": {},
   "source": [
    "But what if the numbers are complex instead of real?  It turns out that you still get the same basic types of operations (stretching, compressing, and reflecting), but now in *two* dimensions instead of 1.\n",
    "But there's an additional **twist**: complex multiplication also **rotates** points in the plane.\n",
    "Rotation is a one of the simplest models of periodicity, just ask any clock-maker.\n",
    "\n",
    "```{tip}\n",
    "**Rotation** models **repetition**.\n",
    "\n",
    "**Complex multiplication** models **rotation**.\n",
    "```"
   ]
  }
 ],
 "metadata": {
  "kernelspec": {
   "display_name": "dstbook",
   "language": "python",
   "name": "dstbook"
  },
  "language_info": {
   "codemirror_mode": {
    "name": "ipython",
    "version": 3
   },
   "file_extension": ".py",
   "mimetype": "text/x-python",
   "name": "python",
   "nbconvert_exporter": "python",
   "pygments_lexer": "ipython3",
   "version": "3.9.9"
  }
 },
 "nbformat": 4,
 "nbformat_minor": 5
}
