{
 "cells": [
  {
   "cell_type": "markdown",
   "metadata": {},
   "source": [
    "# Audio and signals\n",
    "\n",
    "We'll finish this chapter off with a quick overview of acoustic signals: how waves propagate in an environment, and how we can reason about them as signals.\n",
    "\n",
    "This introduction is superficial, and will mainly become relevant much later on when we go into convolutional filtering, but it may help to ground some of the principals in physical reality."
   ]
  },
  {
   "cell_type": "code",
   "execution_count": 1,
   "metadata": {
    "tags": [
     "remove_input",
     "remove_output"
    ]
   },
   "outputs": [],
   "source": [
    "%run ../setup.ipynb"
   ]
  },
  {
   "cell_type": "markdown",
   "metadata": {},
   "source": [
    "## Sound propagation\n",
    "\n",
    "Let's imagine a simple recording scenario.  There is some source emitting sound signal $x_s$, perhaps a musical instrument or a human voice, and a microphone is placed 5 meters away, recording the microphone signal $x_m$.\n",
    "To keep things simple, let's imagine that there are no other sounds in the environment, and there are no surfaces that could cause reflections or resonances.\n",
    "\n",
    "If the speed of sound is some $C$ ``[meters / second]``, then it will take $5 / C$ ``[seconds]`` for sound to travel from the source to the microphone.\n",
    "Put another way, the pressure we measure at time $t$ is induced by the source signal at time $t - 5/C$.\n",
    "More generally, if the distance is $D$ ``[meters]``, we have the following\n",
    "\n",
    "```{margin} Negative time offset?\n",
    "Many people find the negative time offset in {eq}`distance-delay` to be counter-intuitive, and it's a common mistake to instead write $t+D/C$.\n",
    "It can help to reason about what $x_m(t)$ represents: it's recording a signal that must have already occurred.\n",
    "If $x_m(t)$ depended on $x_s(t + D/C)$, then it must be recording from the future, which is impossible.\n",
    "```\n",
    "```{math}\n",
    ":label: distance-delay\n",
    "x_m(t) \\approx x_s(t - D/C).\n",
    "```\n",
    "\n",
    "We've written $\\approx$ here, and not $=$, because the signals will not be identical: the amplitude will also change!\n",
    "To see why this is the case, let's assume that the sound source is emitting uniformly in all directions.\n"
   ]
  },
  {
   "cell_type": "markdown",
   "metadata": {},
   "source": [
    "## Intensity and loudness\n",
    "\n",
    "Acoustic signals have many interesting properties, but perhaps the most basic is that of **intensity**: how loud is the signal?\n",
    "\n",
    "Intensity and loudness are related, but distinct concepts.  **Intensity** refers to a physical property of the sound, namely the amplitude of the signal.\n",
    "**Loudness**, on the other hand, is a *perceptual* concept, referring to how intensity is perceived by a person.\n",
    "\n",
    "As a general rule, higher intensity means higher loudness, but it's not a one-to-one correspondance, as several other factors come into play with perception.\n",
    "Humans can perceive different tones with equal intensity as having different loudness, depending on the frequency of each tone.\n",
    "This phenomenon was modeled by the [Fletcher-Munson curves](https://en.wikipedia.org/wiki/Equal-loudness_contour), and later encapsulated in a more general framework of *equal loudness contours*.\n",
    "\n",
    "A thorough discussion of psychoacoustics is beyond the scope of this text, but for now it's important to understand that loudness and intensity are distinct."
   ]
  },
  {
   "cell_type": "markdown",
   "metadata": {},
   "source": [
    "### The decibel scale (dB)\n"
   ]
  },
  {
   "cell_type": "markdown",
   "metadata": {},
   "source": [
    "## Frequency and pitch"
   ]
  },
  {
   "cell_type": "markdown",
   "metadata": {},
   "source": [
    "### Some useful facts about frequencies\n",
    "\n",
    "- Range of human hearing\n",
    "- Range of human voice\n",
    "- Range of instruments\n",
    "- Frequency is multiplicative, not additive!\n"
   ]
  },
  {
   "cell_type": "markdown",
   "metadata": {},
   "source": [
    "### Harmonics"
   ]
  }
 ],
 "metadata": {
  "kernelspec": {
   "display_name": "bloody",
   "language": "python",
   "name": "bloody"
  },
  "language_info": {
   "codemirror_mode": {
    "name": "ipython",
    "version": 3
   },
   "file_extension": ".py",
   "mimetype": "text/x-python",
   "name": "python",
   "nbconvert_exporter": "python",
   "pygments_lexer": "ipython3",
   "version": "3.7.6"
  }
 },
 "nbformat": 4,
 "nbformat_minor": 4
}
