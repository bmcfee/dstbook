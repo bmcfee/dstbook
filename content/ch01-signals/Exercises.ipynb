{
 "cells": [
  {
   "cell_type": "markdown",
   "metadata": {},
   "source": [
    "# Exercises"
   ]
  },
  {
   "cell_type": "code",
   "execution_count": null,
   "metadata": {
    "tags": [
     "remove_input",
     "remove_output"
    ]
   },
   "outputs": [],
   "source": [
    "%run ../setup.ipynb"
   ]
  },
  {
   "cell_type": "markdown",
   "metadata": {},
   "source": [
    "```{exercise}\n",
    ":label: ex1-1\n",
    "\n",
    "Write an equation describing a continuous sinusoid $x(t)$ oscillating at 5 cycles per second.\n",
    "```"
   ]
  },
  {
   "cell_type": "markdown",
   "metadata": {},
   "source": [
    "```{exercise}\n",
    ":label: ex1-2\n",
    "\n",
    "For each of the following waves, convert them into an equivalent expression in standard form (as in {eq}`sinusoid`).  What is the amplitude ($A$), frequency ($f$) and initial phase ($\\phi$) for each one?\n",
    "\n",
    "  1. $x(t) = \\sin(2\\pi \\cdot 3 \\cdot t)$    \n",
    "  1. $x(t) = 2 \\cdot \\cos\\left(\\pi \\cdot t - \\frac{\\pi}{2}\\right)$    \n",
    "  1. $x(t) = -\\sin(4\\pi \\cdot t + \\pi)$    \n",
    "```"
   ]
  },
  {
   "cell_type": "markdown",
   "metadata": {},
   "source": [
    "```{exercise}\n",
    ":label: ex1-3\n",
    "\n",
    "A waveform is described to you in terms of non-standard units:\n",
    "  - $f = 600 \\left[\\frac{\\text{half-cycles}}{\\text{minute}}\\right]$    \n",
    "  - $\\phi = 120^\\circ$    \n",
    "    \n",
    "Convert this into a standard form with $f$ expressed in Hz and $\\phi$ in radians.\n",
    "Use dimensional analysis to check your conversion.\n",
    "```"
   ]
  },
  {
   "cell_type": "markdown",
   "metadata": {},
   "source": [
    "```{exercise}\n",
    ":label: ex1-4\n",
    "Imagine we have a sound source of constant power, and a microphone at distance $r$ observes sound pressure $p$.\n",
    "    \n",
    "  1. At what distance should we place the microphone to observe sound pressure $p/2$?  \n",
    "  1. If the sound pressure level is $L$ [dB] at distance $r$, what distance would produce a pressure level of $L-5$ [dB]?  \n",
    "```"
   ]
  },
  {
   "cell_type": "markdown",
   "metadata": {},
   "source": [
    "```{exercise}\n",
    ":label: ex1-5\n",
    "\n",
    "If we assume the average human can hear frequencies between 20 and 20000 Hz, approximately how many octaves is this range?\n",
    "```"
   ]
  }
 ],
 "metadata": {
  "kernelspec": {
   "display_name": "dstbook",
   "language": "python",
   "name": "dstbook"
  },
  "language_info": {
   "codemirror_mode": {
    "name": "ipython",
    "version": 3
   },
   "file_extension": ".py",
   "mimetype": "text/x-python",
   "name": "python",
   "nbconvert_exporter": "python",
   "pygments_lexer": "ipython3",
   "version": "3.9.9"
  }
 },
 "nbformat": 4,
 "nbformat_minor": 4
}
