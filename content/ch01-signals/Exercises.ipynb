{
 "cells": [
  {
   "cell_type": "markdown",
   "metadata": {},
   "source": [
    "# Exercises"
   ]
  },
  {
   "cell_type": "code",
   "execution_count": 1,
   "metadata": {
    "tags": [
     "remove_input",
     "remove_output"
    ]
   },
   "outputs": [],
   "source": [
    "%run ../setup.ipynb"
   ]
  },
  {
   "cell_type": "markdown",
   "metadata": {},
   "source": [
    "1. Write an equation describing a continuous sinusoid $x(t)$ oscillating at 5 cycles per second.\n",
    "\n",
    "2. For each of the following waves, convert them into an equivalent expression in standard form (as in {eq}`sinusoid`).  What is the amplitude ($A$), frequency ($f$) and initial phase ($\\phi$) for each one?\n",
    "    - $x(t) = \\sin(2\\pi \\cdot 3 \\cdot t)$\n",
    "    - $x(t) = 2 \\cdot \\cos\\left(\\pi \\cdot t - \\frac{\\pi}{2}\\right)$\n",
    "    - $x(t) = -\\sin(4\\pi \\cdot t + \\pi)$\n",
    "\n",
    "3. A waveform is described to you in terms of non-standard units:\n",
    "    - $f = 600 \\left[\\frac{\\text{half-cycles}}{\\text{minute}}\\right]$\n",
    "    - $\\phi = 120^\\circ$\n",
    "    \n",
    "    Convert this into a standard form with $f$ expressed in Hz and $\\phi$ in radians.\n",
    "    Use dimensional analysis to check your conversion!\n",
    "     \n",
    "4. Something with acoustics"
   ]
  }
 ],
 "metadata": {
  "kernelspec": {
   "display_name": "bloody",
   "language": "python",
   "name": "bloody"
  },
  "language_info": {
   "codemirror_mode": {
    "name": "ipython",
    "version": 3
   },
   "file_extension": ".py",
   "mimetype": "text/x-python",
   "name": "python",
   "nbconvert_exporter": "python",
   "pygments_lexer": "ipython3",
   "version": "3.7.6"
  }
 },
 "nbformat": 4,
 "nbformat_minor": 4
}
