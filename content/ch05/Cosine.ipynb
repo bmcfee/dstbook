{
 "cells": [
  {
   "cell_type": "markdown",
   "metadata": {},
   "source": [
    "# First attempt: cosines"
   ]
  },
  {
   "cell_type": "code",
   "execution_count": 1,
   "metadata": {
    "jupyter": {
     "source_hidden": true
    },
    "tags": [
     "hide_input",
     "hide_output",
     "remove_input"
    ]
   },
   "outputs": [],
   "source": [
    "import numpy as np\n",
    "import scipy.signal\n",
    "\n",
    "import matplotlib\n",
    "import matplotlib.pyplot as plt\n",
    "from matplotlib import cycler\n",
    "import matplotlib.path as path\n",
    "import matplotlib.patches as patches\n",
    "from matplotlib.transforms import Bbox\n",
    "import warnings\n",
    "warnings.simplefilter('ignore')\n",
    "\n",
    "from matplotlib.animation import FuncAnimation\n",
    "import matplotlib.style\n",
    "matplotlib.style.use('bauhaus')\n",
    "\n",
    "np.random.seed(20200101)\n",
    "\n",
    "colors = [_['color'] for _ in list(matplotlib.rcParams['axes.prop_cycle'])]\n",
    "\n",
    "def figaspect(arg):\n",
    "    # min/max sizes to respect when autoscaling.  If John likes the idea, they\n",
    "    # could become rc parameters, for now they're hardwired.\n",
    "    figsize_min = np.array((4.0, 2.0))  # min length for width/height\n",
    "    figsize_max = np.array((16.0, 16.0))  # max length for width/height\n",
    "\n",
    "    # Extract the aspect ratio of the array\n",
    "    isarray = hasattr(arg, 'shape') and not np.isscalar(arg)\n",
    "    if isarray:\n",
    "        nr, nc = arg.shape[:2]\n",
    "        arr_ratio = nr / nc\n",
    "    else:\n",
    "        arr_ratio = arg\n",
    "\n",
    "    # Height of user figure defaults\n",
    "    fig_width = matplotlib.rcParams['figure.figsize'][0]\n",
    "\n",
    "    # New size for the figure, keeping the aspect ratio of the caller\n",
    "    newsize = np.array((fig_width, fig_width *arr_ratio))\n",
    "    #newsize = np.array((fig_height / arr_ratio, fig_height))\n",
    "\n",
    "    # Sanity checks, don't drop either dimension below figsize_min\n",
    "    newsize /= min(1.0, *(newsize / figsize_min))\n",
    "\n",
    "    # Avoid humongous windows as well\n",
    "    newsize /= max(1.0, *(newsize / figsize_max))\n",
    "\n",
    "    # Finally, if we have a really funky aspect ratio, break it but respect\n",
    "    # the min/max dimensions (we don't want figures 10 feet tall!)\n",
    "    newsize = np.clip(newsize, figsize_min, figsize_max)\n",
    "    return newsize"
   ]
  },
  {
   "cell_type": "markdown",
   "metadata": {},
   "source": [
    "In this section, we'll begin to build up the foundations of the Fourier transform and the frequency domain.\n",
    "As stated in the introduction to this chapter, the entire idea of the Fourier transform is to represent arbitrary signals $x[n]$ as combinations of sinusoids:\n",
    "\n",
    "$$\n",
    "\\begin{align*}\n",
    "x[n] &= A_0 \\cdot \\cos\\left(2\\pi \\cdot f_0 \\cdot \\frac{n}{f_s} + \\phi_0\\right) \\\\\n",
    "&+ A_1 \\cdot \\cos\\left(2\\pi \\cdot f_1 \\cdot \\frac{n}{f_s} + \\phi_1\\right) \\\\\n",
    "&+ \\dots\n",
    "\\end{align*}\n",
    "$$\n",
    "\n",
    "Before we go any further with this idea, it is helpful to think carefully about what it would mean to represent an arbitrary discrete signal $x[n]$ in this way.\n",
    "\n",
    "### Band-limiting\n",
    "\n",
    "Since $x[n]$ is a discrete signal taken at some sampling rate $f_s$, we will assume that the conditions of the Nyquist-Shannon theorem hold and that aliasing is not going to be a problem for us.\n",
    "More specifically, this means that we are assuming that the underlying continuous signal $x(t)$ which produced $x[n]$ is **band-limited** to the frequency range $\\pm \\frac{f_s}{2}$.\n",
    "This implies that when representing $x[n]$, we will not need to use frequencies outside of this range.\n",
    "\n",
    "### Duration and periodicity\n",
    "\n"
   ]
  },
  {
   "cell_type": "markdown",
   "metadata": {},
   "source": [
    "## Analysis frequencies\n",
    "\n",
    "```{admonition} Definition: Analysis frequency\n",
    ":class: important\n",
    "\n",
    "For a sampling rate $f_s$ and a signal length $N$, an **analysis frequency** $f_m$ is any frequency which exactly completes a whole (integer) number of cycles $m$ in $N$ samples at $f_s$.\n",
    "\n",
    "Equivalently:\n",
    "\n",
    "$$\n",
    "\\begin{align*}\n",
    "f_m &= \\frac{m}{N}\\cdot f_s \\left[\\frac{\\text{cycles}}{\\text{sec.}} \\right] & \\quad\\quad m = 0, \\pm 1, \\pm 2, \\dots\n",
    "\\end{align*}\n",
    "$$\n",
    "```\n",
    "\n",
    "\n",
    "### How many distinct analysis frequencies are there?"
   ]
  },
  {
   "cell_type": "markdown",
   "metadata": {},
   "source": [
    "## Example"
   ]
  },
  {
   "cell_type": "code",
   "execution_count": 2,
   "metadata": {},
   "outputs": [],
   "source": [
    "# plot here for the first few analysis frequencies"
   ]
  },
  {
   "cell_type": "markdown",
   "metadata": {},
   "source": [
    "## What about phase?"
   ]
  }
 ],
 "metadata": {
  "kernelspec": {
   "display_name": "Python 3.7",
   "language": "python",
   "name": "py37"
  },
  "language_info": {
   "codemirror_mode": {
    "name": "ipython",
    "version": 3
   },
   "file_extension": ".py",
   "mimetype": "text/x-python",
   "name": "python",
   "nbconvert_exporter": "python",
   "pygments_lexer": "ipython3",
   "version": "3.7.6"
  }
 },
 "nbformat": 4,
 "nbformat_minor": 4
}
