{
 "cells": [
  {
   "cell_type": "markdown",
   "metadata": {},
   "source": [
    "# Exercises"
   ]
  },
  {
   "cell_type": "markdown",
   "metadata": {},
   "source": [
    "1. Synthesize a sinusoid $x[n] = A \\cdot \\cos(2\\pi \\cdot f \\cdot n / N + \\phi)$ by directly constructing the frequency domain representation $X[m]$ and applying the inverse DFT.  Use the following starter code:\n",
    "    ```python\n",
    "\n",
    "    # sampling rate\n",
    "    fs = 8000\n",
    "\n",
    "    # duration / number of frequencies\n",
    "    N = 8000\n",
    "\n",
    "    # Wave parameters\n",
    "    A = 5\n",
    "    f = 250  # Hz\n",
    "    phi = np.pi / 4\n",
    "\n",
    "    X = np.zeros(N, dtype=np.complex)\n",
    "\n",
    "    # INSERT YOUR CODE HERE TO BUILD X\n",
    "\n",
    "    # Invert to recover the signal\n",
    "    x = np.fft.ifft(X)\n",
    "    ```\n",
    "    ```{hint}\n",
    "    Check your synthesis against a signal generated purely in the time-domain.\n",
    "    Your IDFT should be numerically identical to the time-domain signal, including amplitude and phase.\n",
    "\n",
    "    Make sure to construct your DFT so that the output is real-valued!\n",
    "    ```\n",
    "\n",
    "\n",
    "2. A *low-pass filter* allows frequencies below some cut-off $f_T$ to propagate through, and blocks all frequencies above the cut-off.  Try implementing this on a signal of your choice by setting any DFT coefficients $X[m]$ to 0 if the corresponding frequency is above 500 Hz.  Apply the inverse DFT and listen to the results.  How does it sound?  Do you notice any artifacts?\n",
    "  \n",
    "    ```{hint}\n",
    "    It is best to try this on a few different sounds, including natural and synthetic signals.  Hand claps might be particularly interesting!\n",
    "    ```\n",
    "    \n",
    "    \n",
    "3. Using a signal `x` of your choice (ideally a single pitched note or isolated sound), compute its DFT: \n",
    "    ```python\n",
    "        X = np.fft.fft(x)\n",
    "    ```\n",
    "    \n",
    "    and the following reconstructions:\n",
    "\n",
    "    - The inverse DFT: `x_inv = np.fft.ifft(X)`.\n",
    "    \n",
    "    - The inverse DFT with the original magnitudes and all phases set to 0: `x_nophase = np.fft.ifft(np.abs(X))`.\n",
    "    \n",
    "    - The inverse DFT with the original phases and all magnitudes set to 1: `x_nomag = np.fft.ifft(np.exp(1j * np.angle(X)))`.\n",
    "    \n",
    "    Then, answer the following questions: \n",
    "    \n",
    "    a. How do these three signals compare to each other?  \n",
    "    \n",
    "    b. How do they compare to the original signal?\n",
    "    \n",
    "    c. What does this tell you about the relative importance of magnitude and phase?\n",
    "    \n",
    "    d. How might your answers change with a different kind of test signal?"
   ]
  }
 ],
 "metadata": {
  "kernelspec": {
   "display_name": "dstbook",
   "language": "python",
   "name": "dstbook"
  },
  "language_info": {
   "codemirror_mode": {
    "name": "ipython",
    "version": 3
   },
   "file_extension": ".py",
   "mimetype": "text/x-python",
   "name": "python",
   "nbconvert_exporter": "python",
   "pygments_lexer": "ipython3",
   "version": "3.9.4"
  }
 },
 "nbformat": 4,
 "nbformat_minor": 4
}
