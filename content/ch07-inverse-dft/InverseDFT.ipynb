{
 "cells": [
  {
   "cell_type": "markdown",
   "metadata": {},
   "source": [
    "# The Inverse DFT"
   ]
  },
  {
   "cell_type": "code",
   "execution_count": 1,
   "metadata": {
    "tags": [
     "remove_input"
    ]
   },
   "outputs": [],
   "source": [
    "%run ../setup.ipynb"
   ]
  },
  {
   "cell_type": "markdown",
   "metadata": {},
   "source": [
    "Generalizing the strategy used in the previous section's example, we get the following definition for an **inverse Discrete Fourier Transform** (IDFT).\n",
    "\n",
    "````{admonition} The Inverse DFT\n",
    "\n",
    "Let $\\blue{x[n]}$ be an arbitrary signal of $N$ samples, and let $\\darkblue{X[m]}$ be its DFT.\n",
    "The **inverse DFT** (IDFT) is defined as\n",
    "\n",
    "```{math}\n",
    ":label: idft\n",
    "\n",
    "\\blue{x[n]} = \\frac{1}{N} \\sum_{m=0}^{N-1} \\darkblue{X[m]} \\cdot \\green{e^{+2\\pi\\cdot\\mathrm{j} \\cdot \\frac{m}{N}\\cdot n}}\n",
    "```\n",
    "\n",
    "````\n",
    "\n",
    "Intuitively, this says that the $n$th sample of the signal $\\blue{x[n]}$ can be recovered by averaging the $n$th samples of all DFT sinusoids.\n",
    "\n",
    "Before proving the correctness of this definition, we should highlight the three key ways that it differs from the forward DFT defined by equation {eq}`dft-polar`:\n",
    "\n",
    "1. There is a global scaling of $1/N$;\n",
    "2. The sign of the complex exponent is flipped: positive for inverse transform, negative for the forward transform;\n",
    "3. The summation ranges over $m$ (frequencies), rather than $n$ (samples).  Note that the *number* of frequencies (and samples) is still $N$, so the summation still ranges from $m=0$ to $m=N-1$."
   ]
  },
  {
   "cell_type": "markdown",
   "metadata": {},
   "source": [
    "## Proof\n",
    "\n",
    "We'll make no assumptions about $\\blue{x[n]}$, apart from its duration ($N$).\n",
    "Plugging in the definition of the DFT $\\darkblue{X[m]}$ (but using sample index $n'$ to avoid confusion with $n$), we get the following:\n",
    "\n",
    "```{math}\n",
    "\\begin{align*}\n",
    "\\frac{1}{N} \\sum_{m=0}^{N-1} \\darkblue{X[m]} \\cdot \\green{e^{+2\\pi\\cdot\\mathrm{j} \\cdot \\frac{m}{N}\\cdot n}}\n",
    "&=\n",
    "\\frac{1}{N} \\sum_{m=0}^{N-1} \\left( \\sum_{n'=0}^{N-1} \\blue{x[n']} \\cdot \\purple{e^{-2\\pi\\cdot\\mathrm{j}\\cdot \\frac{m}{N} \\cdot n'}} \\right) \\cdot \\green{e^{+2\\pi\\cdot\\mathrm{j} \\cdot \\frac{m}{N}\\cdot n}} & \\text{DFT definition for } \\darkblue{X[m]}\\\\\n",
    "&=\n",
    "\\frac{1}{N} \\sum_{n'=0}^{N-1} \\blue{x[n']} \\cdot \\sum_{m=0}^{N-1}  \\purple{e^{-2\\pi\\cdot\\mathrm{j}\\cdot \\frac{m}{N} \\cdot n'}}  \\cdot \\green{e^{+2\\pi\\cdot\\mathrm{j} \\cdot \\frac{m}{N}\\cdot n}} & \\text{Rearranging summation}\\\\\n",
    "&= \\frac{1}{N} \\sum_{n'=0}^{N-1} \\blue{x[n']} \\cdot  \\sum_{m=0}^{N-1}  e^{\\purple{-2\\pi\\cdot\\mathrm{j}\\cdot \\frac{m}{N} \\cdot n'}+\\green{2\\pi\\cdot\\mathrm{j} \\cdot \\frac{m}{N}\\cdot n}}& e^a\\cdot e^b = e^{a + b}\\\\\n",
    "&= \\frac{1}{N} \\sum_{n'=0}^{N-1} \\blue{x[n']} \\cdot \\sum_{m=0}^{N-1}  e^{-2\\pi\\cdot\\mathrm{j}\\cdot \\frac{\\green{n}-\\purple{n'}}{N} \\cdot m}\n",
    "\\end{align*}\n",
    "```\n",
    "\n",
    "Now, there are two cases to consider.  If $\\purple{n'} = \\green{n}$, then the inner summation simplifies:\n",
    "\n",
    "```{math}\n",
    "\\begin{align*}\n",
    "\\sum_{m=0}^{N-1}  e^{-2\\pi\\cdot\\mathrm{j}\\cdot \\frac{\\green{n}-\\purple{n'}}{N} \\cdot m} &= \n",
    "\\sum_{m=0}^{N-1}  e^{-2\\pi\\cdot\\mathrm{j}\\cdot \\frac{0}{N} \\cdot m}\n",
    "= \\sum_{m=0}^{N-1}  1 = N & \\text{if } n' = n.\n",
    "\\end{align*}\n",
    "```\n",
    "\n",
    "If $\\purple{n'} \\neq \\green{n}$, then the inner summation cancels totals to zero.\n",
    "This is because $\\purple{n'}$ and $\\green{n}$ are both integers, and we can use the result of {numref}`summing-sinusoids`, except now with $n-n'$ taking the place of the frequency index, and $m$ taking the place of the sample position:\n",
    "\n",
    "```{math}\n",
    "\\begin{align*}\n",
    "\\sum_{m=0}^{N-1}  e^{-2\\pi\\cdot\\mathrm{j}\\cdot \\frac{\\green{n}-\\purple{n'}}{N} \\cdot m} \n",
    "&= 0 & \\text{ if }  n-n' \\neq 0.\n",
    "\\end{align*}\n",
    "```\n",
    "\n",
    "The entire summation, therefore, has $N-1$ terms contributing 0 and one term contributing $\\blue{x[n]} \\cdot N$.\n",
    "Combining these cases, we can finish the derivation above:\n",
    "\n",
    "```{math}\n",
    "\\frac{1}{N} \\sum_{n'=0}^{N-1} \\blue{x[n']} \\cdot \\sum_{m=0}^{N-1}  e^{-2\\pi\\cdot\\mathrm{j}\\cdot \\frac{\\green{n}-\\purple{n'}}{N} \\cdot m}\n",
    "=\n",
    "\\frac{1}{N} \\cdot \\blue{x[n]} \\cdot N\n",
    "= \\blue{x[n]}.\n",
    "```\n",
    "\n",
    "This is exactly what we needed to show: the $n$th sample is recovered exactly!"
   ]
  },
  {
   "cell_type": "markdown",
   "metadata": {},
   "source": [
    "## The IDFT in practice\n",
    "\n",
    "Like the forward DFT, the inverse DFT (IDFT) is implemented by most signal processing packages.\n",
    "\n",
    "In Python, we have two ways to invert a DFT, depending on whether we have the full spectrum or only the real part:\n",
    "\n",
    "```python\n",
    "# Full spectrum, all N analysis frequencies\n",
    "X = np.fft.fft(x)\n",
    "\n",
    "# Full inverse, should produce x_inv == x\n",
    "x_inv = np.fft.ifft(X)\n",
    "\n",
    "# Real-part only, 1 + N//2 analysis frequencies\n",
    "Xr = np.fft.rfft(x)\n",
    "\n",
    "# Real-part inverse, again produces x_inv == x\n",
    "x_inv = np.fft.irfft(Xr)\n",
    "```"
   ]
  },
  {
   "cell_type": "markdown",
   "metadata": {},
   "source": [
    "## Discussion\n",
    "\n",
    "Nowhere in the proof of the inverse DFT did we assume anything about the signal contents $\\blue{x[n]}$: it works for **any signal** $\\blue{x}$.\n",
    "The entire derivation relies on the definition of the forward transform coefficients $X[m]$, and a couple of observations about summing complex sinusoids.\n",
    "So what does this actually tell us about the DFT?\n",
    "\n",
    "The inverse DFT gives us an alternative representation of signals: every signal $x[n]$ can be uniquely represented as a combination of sinusoids:\n",
    "\n",
    "- The summation in the inverse DFT $\\sum_{m=0}^{N-1}$ represents the \"combination\";\n",
    "- The coefficient $\\darkblue{X[m]}$ encodes the amplitude and phase of the $m$th sinusoid;\n",
    "- The complex exponential $\\green{e^{2\\pi\\cdot\\mathrm{j} \\cdot m \\cdot n / N}}$ represents the $m$th sinusoid itself.\n",
    "\n",
    "Up until this point, we've occasionally had to assume that such a representation exists.  But now we've proven that it exists!\n",
    "\n",
    "Aside from analysis and theoretical properties, the inverse DFT gives us tools to *modify* signals.\n",
    "Rather than operating on individual samples, we can alter the DFT coefficients to produce desired effects, and then take the inverse DFT to recover the time-domain signal.\n",
    "We'll have more to say about the frequency domain view of filtering in later chapters, but in the next section, we'll see how to use this insight for synthesizing signals directly."
   ]
  }
 ],
 "metadata": {
  "kernelspec": {
   "display_name": "dstbook",
   "language": "python",
   "name": "dstbook"
  },
  "language_info": {
   "codemirror_mode": {
    "name": "ipython",
    "version": 3
   },
   "file_extension": ".py",
   "mimetype": "text/x-python",
   "name": "python",
   "nbconvert_exporter": "python",
   "pygments_lexer": "ipython3",
   "version": "3.9.4"
  }
 },
 "nbformat": 4,
 "nbformat_minor": 4
}
