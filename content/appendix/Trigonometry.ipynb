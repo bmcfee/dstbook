{
 "cells": [
  {
   "cell_type": "markdown",
   "metadata": {},
   "source": [
    "# Trigonometry"
   ]
  },
  {
   "cell_type": "code",
   "execution_count": 1,
   "metadata": {
    "tags": [
     "remove_input",
     "remove_output"
    ]
   },
   "outputs": [],
   "source": [
    "%run ../setup.ipynb"
   ]
  },
  {
   "cell_type": "markdown",
   "metadata": {},
   "source": [
    "## Sines and cosines"
   ]
  },
  {
   "cell_type": "markdown",
   "metadata": {},
   "source": [
    "## Basic properties"
   ]
  },
  {
   "cell_type": "markdown",
   "metadata": {},
   "source": [
    "## Product-to-sum rules\n",
    "\n",
    "Two useful trigonometric identities are the \"product-to-sum\" formulae, for angles $\\theta$ and $\\phi$:\n",
    "\n",
    "```{math}\n",
    ":label: cos-product-sum\n",
    "\n",
    "\\cos\\left(\\theta\\right) \\cdot \\cos\\left(\\phi\\right) = \\frac{1}{2} \\cdot \\left(\\cos\\left(\\theta + \\phi\\right) + \\cos\\left(\\theta - \\phi\\right) \\right)\n",
    "```\n",
    "and\n",
    "\n",
    "```{math}\n",
    ":label: sin-product-sum\n",
    "\n",
    "\\cos\\left(\\theta\\right) \\cdot \\sin\\left(\\phi\\right) = \\frac{1}{2} \\cdot \\left(\\sin\\left(\\theta + \\phi\\right) - \\sin\\left(\\theta - \\phi\\right) \\right)\n",
    "```\n",
    "\n",
    "These rules are primarily used when comparing two sinusoids by the {ref}`multiply-and-add method <similarity-score>`.\n",
    "These rules also have an interesting interpretation when applied to audio signals: loosely speaking, they say that if you multiply two pure tones with frequencies $f_1$ and $f_2$ together (sample by sample), the resulting signal is the *average* of two pure tones, one at frequency $f_1 + f_2$ and the other at frequency $f_1 - f_2$.\n",
    "\n",
    "Proving rules like this can be a tedious exercise, but the diagram below provide a partial visual proof to help build intuition.\n",
    "We'll give a more rigorous derivation a little later by using complex exponentials.\n"
   ]
  },
  {
   "cell_type": "code",
   "execution_count": null,
   "metadata": {},
   "outputs": [],
   "source": [
    "#fig, ax = plt.subplots(figaspect=0.75)"
   ]
  },
  {
   "cell_type": "markdown",
   "metadata": {},
   "source": [
    "## Complex exponentials\n",
    "\n",
    "Euler's formula {eq}`euler` gives us the identity\n",
    "\n",
    "$$\n",
    "e^{\\mathrm{j}\\cdot\\theta} = \\cos(\\theta) + \\mathrm{j} \\cdot\\sin(\\theta).\n",
    "$$\n",
    "\n",
    "By combining this with the {ref}`symmetry rules for waves <wave-symmetry>`, we can recover definitions of $\\cos$ and $\\sin$ in terms of the exponential:\n",
    "\n",
    "$$\n",
    "\\begin{align*}\n",
    "    \\cos(\\theta) &= \\frac{1}{2} \\cdot \\left(e^{\\mathrm{j}\\cdot \\theta} + e^{-\\mathrm{j}\\cdot\\theta}\\right)\\\\\n",
    "    \\sin(\\theta) &= \\frac{1}{2\\mathrm{j}} \\cdot \\left(e^{\\mathrm{j}\\cdot \\theta} - e^{-\\mathrm{j}\\cdot\\theta}\\right)\\\\\n",
    "\\end{align*}\n",
    "$$\n",
    "\n",
    "Expressing $\\cos$ and $\\sin$ in this way may seem obtuse at first, but it can be a helpful tool when manipulating complicated expressions.\n",
    "For example, the product-to-sum rule for cosines can be derived algebraically:\n",
    "```{margin}\n",
    "A similar derivation can be used to show the second sum-product identity $\\cos(\\theta)\\cdot\\sin(\\phi)$: see if you can work that one out on your own.\n",
    "```\n",
    "\n",
    "```{math}\n",
    "\\begin{align*}\n",
    "\\cos(\\theta) \\cdot \\cos(\\phi) &=\\frac{1}{2} \\cdot \\left(e^{\\mathrm{j}\\cdot \\theta} + e^{-\\mathrm{j}\\cdot\\theta}\\right) \\cdot \n",
    "\\frac{1}{2} \\cdot \\left(e^{\\mathrm{j}\\cdot \\phi} + e^{-\\mathrm{j}\\cdot\\phi}\\right) & \\text{definition}\\\\\n",
    "&= \\frac{1}{4} \\cdot \\left(e^{\\mathrm{j}\\cdot(\\theta + \\phi)}  +  e^{\\mathrm{j}\\cdot(\\theta - \\phi)} + e^{\\mathrm{j}\\cdot(-\\theta + \\phi)}\n",
    "+ e^{\\mathrm{j}\\cdot(-\\theta - \\phi)}\\right) & \\text{FOIL multiply}\\\\\n",
    "&= \\frac{1}{4} \\cdot \\left(e^{\\mathrm{j}\\cdot(\\theta + \\phi)}  +  e^{\\mathrm{j}\\cdot(-\\theta - \\phi)}\n",
    "+ e^{\\mathrm{j}\\cdot(\\theta - \\phi)} + e^{\\mathrm{j}\\cdot(-\\theta + \\phi)}\n",
    "\\right) & \\text{rearrange terms}\\\\\n",
    "&= \\frac{1}{4} \\cdot \\left(e^{\\mathrm{j}\\cdot(\\theta + \\phi)}  +  e^{-\\mathrm{j}\\cdot(\\theta + \\phi)}\n",
    "+ e^{\\mathrm{j}\\cdot(\\theta - \\phi)} + e^{-\\mathrm{j}\\cdot(\\theta - \\phi)}\n",
    "\\right) & \\text{factor out } -1\\\\\n",
    "&= \\frac{1}{2} \\cdot \\left(\\frac{1}{2}\\cdot\\left(e^{\\mathrm{j}\\cdot(\\theta + \\phi)}  +  e^{-\\mathrm{j}\\cdot(\\theta + \\phi)}\\right)\n",
    "+ \\frac{1}{2}\\cdot\\left(e^{\\mathrm{j}\\cdot(\\theta - \\phi)} + e^{-\\mathrm{j}\\cdot(\\theta - \\phi)}\\right)\n",
    "\\right) & \\text{group terms}\\\\\n",
    "&= \\frac{1}{2} \\cdot \\left(\\cos\\left(\\theta + \\phi\\right) + \\cos\\left(\\theta - \\phi\\right) \\right).\n",
    "\\end{align*}\n",
    "```\n",
    "\n",
    "\n",
    "Some students find the geometric approach more intuitive, and some find the algebraic approach more intuitive.\n",
    "Neither is necessarily better than the other, so use whichever works for you!"
   ]
  }
 ],
 "metadata": {
  "kernelspec": {
   "display_name": "Python 3.7",
   "language": "python",
   "name": "py37"
  },
  "language_info": {
   "codemirror_mode": {
    "name": "ipython",
    "version": 3
   },
   "file_extension": ".py",
   "mimetype": "text/x-python",
   "name": "python",
   "nbconvert_exporter": "python",
   "pygments_lexer": "ipython3",
   "version": "3.7.6"
  }
 },
 "nbformat": 4,
 "nbformat_minor": 4
}
