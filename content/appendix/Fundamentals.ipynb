{
 "cells": [
  {
   "cell_type": "markdown",
   "metadata": {},
   "source": [
    "# Mathematical fundamentals\n",
    "\n",
    "This section of the appendix establishes some mathematical notation, and may serve as a brief refresher on fundamental concepts."
   ]
  },
  {
   "cell_type": "code",
   "execution_count": 1,
   "metadata": {
    "tags": [
     "hide_input",
     "hide_output",
     "remove_input"
    ]
   },
   "outputs": [],
   "source": [
    "import numpy as np\n",
    "\n",
    "import matplotlib\n",
    "import matplotlib.pyplot as plt\n",
    "from matplotlib import cycler\n",
    "import matplotlib.path as path\n",
    "import matplotlib.patches as patches\n",
    "from matplotlib.transforms import Bbox\n",
    "import warnings\n",
    "warnings.simplefilter('ignore')\n",
    "\n",
    "from matplotlib.animation import FuncAnimation\n",
    "import matplotlib.style\n",
    "matplotlib.style.use('bauhaus')\n",
    "\n",
    "np.random.seed(20200101)\n",
    "\n",
    "colors = [_['color'] for _ in list(matplotlib.rcParams['axes.prop_cycle'])]\n",
    "\n",
    "def figaspect(arg):\n",
    "    # min/max sizes to respect when autoscaling.  If John likes the idea, they\n",
    "    # could become rc parameters, for now they're hardwired.\n",
    "    figsize_min = np.array((4.0, 2.0))  # min length for width/height\n",
    "    figsize_max = np.array((16.0, 16.0))  # max length for width/height\n",
    "\n",
    "    # Extract the aspect ratio of the array\n",
    "    isarray = hasattr(arg, 'shape') and not np.isscalar(arg)\n",
    "    if isarray:\n",
    "        nr, nc = arg.shape[:2]\n",
    "        arr_ratio = nr / nc\n",
    "    else:\n",
    "        arr_ratio = arg\n",
    "\n",
    "    # Height of user figure defaults\n",
    "    fig_width = matplotlib.rcParams['figure.figsize'][0]\n",
    "\n",
    "    # New size for the figure, keeping the aspect ratio of the caller\n",
    "    newsize = np.array((fig_width, fig_width *arr_ratio))\n",
    "    #newsize = np.array((fig_height / arr_ratio, fig_height))\n",
    "\n",
    "    # Sanity checks, don't drop either dimension below figsize_min\n",
    "    newsize /= min(1.0, *(newsize / figsize_min))\n",
    "\n",
    "    # Avoid humongous windows as well\n",
    "    newsize /= max(1.0, *(newsize / figsize_max))\n",
    "\n",
    "    # Finally, if we have a really funky aspect ratio, break it but respect\n",
    "    # the min/max dimensions (we don't want figures 10 feet tall!)\n",
    "    newsize = np.clip(newsize, figsize_min, figsize_max)\n",
    "    return newsize"
   ]
  },
  {
   "cell_type": "markdown",
   "metadata": {},
   "source": [
    "## Sets\n",
    "\n",
    "A *set* is a basic concept in mathematics used to define collections of *elements*.\n",
    "The [technical underpinnings of set theory](https://en.wikipedia.org/wiki/Set_(mathematics)) can get a bit tricky, but for our purposes, you can think of a set as any un-ordered collection.\n",
    "\n",
    "Notationally, we use curly braces $\\{\\}$ to denote a set.  For example, we could have a set consisting of three colors defined as\n",
    "\n",
    "$$\n",
    "S = \\{\\text{red},\\;\\text{green},\\;\\text{blue}\\}.\n",
    "$$\n",
    "\n",
    "Each of the three colors **red, green, blue** are *elements* of the set $S$.\n",
    "Order is not important here: the the set above is equivalent to the set $\\{\\text{blue},\\;\\text{green},\\;\\text{red}\\}$.\n",
    "Repetition also does not matter: an element is either in the set or not.\n",
    "\n",
    "We use the symbol $\\in$ (a funny-looking *E*, denoting *element*) to denote membership in a set:\n",
    "\n",
    "$$\n",
    "\\text{red} \\in S,\n",
    "$$\n",
    "\n",
    "and $\\notin$ to denote that an element does not belong to a set:\n",
    "\n",
    "$$\n",
    "\\text{Cleveland} \\notin S.\n",
    "$$\n",
    "\n",
    "We won't do too much with sets in this text, but the basic notation is helpful to have, especially when dealing with different types of numbers."
   ]
  },
  {
   "cell_type": "markdown",
   "metadata": {},
   "source": [
    "## Number systems\n",
    "\n",
    "In digital signal processing, we use many kinds of numbers to represent different quantities.\n",
    "It's helpful to have notation to specify exactly what kind of numbers we're talking about, so here's a brief list with their standard notations:\n",
    "\n",
    "* $\\mathbb{N}$, the *natural  numbers* (or *counting* numbers): $\\{0, 1, 2, 3, \\dots\\}$\n",
    "* $\\mathbb{Z}$, the *integers*: $\\{\\dots, -3, -2, -1, 0, 1, 2, 3, \\dots\\}$\n",
    "* $\\mathbb{Q}$, the *rational numbers* (fractions): $\\left\\{\\frac{n}{m} ~\\middle|~ n,m \\in \\mathbb{Z}, m \\neq 0\\right\\}$\n",
    "* $\\mathbb{R}$, the *real numbers* (i.e., the continuous number line)\n",
    "* $\\mathbb{C}$, the *complex numbers*: $\\{a + \\mathrm{j}b ~|~ a,b \\in \\mathbb{R}\\}$\n",
    "\n",
    "where $\\mathrm{j} = \\sqrt{-1}$ is the *imaginary unit* (we'll say more about that later in the appendix).\n",
    "\n",
    "Natural numbers ($\\mathbb{N}$) are often used for whole number quantities, such as sample positions $n$.\n",
    "Real numbers ($\\mathbb{R}$) are often used for continuous quantities, such as angles (in radians), frequencies (in cycles/sec), or time (in seconds).\n",
    "\n",
    "Complex numbers occupy a special place in signal processing because they turn out to be a great tool for modeling periodic processes.  But more on that later."
   ]
  },
  {
   "cell_type": "markdown",
   "metadata": {},
   "source": [
    "## Sequences\n",
    "\n",
    "A *sequence* is exactly what it sounds like: an ordered list of things.\n",
    "Sequences are different from *sets* in that they are ordered, and repetition is allowed.\n",
    "\n",
    "The most common usage of sequences in DSP is the sequence of sample values representing a digital signal.\n",
    "This is commonly denoted by $x[n]$, where $n \\in \\mathbb{N}$ is the sample index, and $x[n]$ is the sampled value of the signal at the $n$th position."
   ]
  },
  {
   "cell_type": "markdown",
   "metadata": {},
   "source": [
    "## Summations\n",
    "\n",
    "Throughout signal processing, we often need to add up long sequences of numbers. While we could easily express this using the standard $+$ notation, such as\n",
    "\n",
    "$$\n",
    "S = 1 + 2 + 3 + \\dots + 100,\n",
    "$$\n",
    "\n",
    "this can get cumbersome and difficult to read, especially when the terms of the summation involve other calculations.\n",
    "\n",
    "Instead, mathematicians express summations using the $\\sum$ symbol, derived from the (capital) Greek letter *sigma* (equivalent to *S* in the latin alphabet, standing for *s*ummation).\n",
    "The summation above would be equivalently expressed as\n",
    "\n",
    "$$\n",
    "\\begin{align*}\n",
    "S &= \\sum_{n=1}^{100} n\\\\\n",
    "&= 1 + 2 + 3 + \\dots + 100.\n",
    "\\end{align*}\n",
    "$$\n",
    "\n",
    "The notation specifies the variable which is changing throughout the summation (in our case, $n$), and the start and end-points of the sum (1 to 100, inclusive) below and above the $\\sum$ symbol.\n",
    "Everything after the summation symbol describes what's being added up: in this case, just the values of $n$.\n",
    "\n",
    "It's often helpful to think programmatically when reading summation expressions. \n",
    "The summation above would be translated to Python code as follows:\n",
    "```python\n",
    "S = 0\n",
    "\n",
    "# Python ranges do not include the end point, so we need to go one past where we want to stop\n",
    "for n in range(1, 101):\n",
    "    S = S + n\n",
    "```"
   ]
  },
  {
   "cell_type": "markdown",
   "metadata": {},
   "source": [
    "## Exponentials\n",
    "\n",
    "An exponential, generally speaking, is an expression of the form $c^x$ for some constant $c$, and should be read as \"$c$ to the $x$th power\".\n",
    "Note that this is different from powers $x^n$, in that exponentials keep the base $c$ fixed and vary $x$, while powers do the opposite.\n",
    "\n",
    "**Example**: $2^x \\neq x^2$."
   ]
  },
  {
   "cell_type": "code",
   "execution_count": 3,
   "metadata": {
    "tags": [
     "remove_input"
    ]
   },
   "outputs": [
    {
     "data": {
      "image/png": "[encoded data removed]",
      "text/plain": [
       "<Figure size 720x360 with 1 Axes>"
      ]
     },
     "metadata": {
      "needs_background": "light"
     },
     "output_type": "display_data"
    }
   ],
   "source": [
    "fig = plt.figure(figsize=figaspect(0.5))\n",
    "ax = fig.gca()\n",
    "x = np.linspace(-7, 7, num=1000)\n",
    "ax.plot(x, x**2, label=r'$y=x^2$')\n",
    "ax.plot(x, 2.0**x, label=r'$y=2^x$')\n",
    "ax.legend(loc='upper left')\n",
    "ax.set_xlabel(r'$x$');\n",
    "ax.set_ylabel(r'$y$');"
   ]
  },
  {
   "cell_type": "markdown",
   "metadata": {},
   "source": [
    "Often, when we refer to an *exponential*, we really mean a specific base $e = 2.71828\\dots$, known alternately as \"Euler's number\", or \"the base of the natural logarithm\"."
   ]
  },
  {
   "cell_type": "markdown",
   "metadata": {},
   "source": [
    "### Rules for working with exponentials\n",
    "The following rules are useful when manipulating expressions involving exponentials.\n",
    "All of these rules work for any base $c \\neq 0$, including the special case $c=e$.\n",
    "\n",
    "**Rule 1**: Any $c$ raised to the 0 power is 1, and specifically:\n",
    "\n",
    "$$\n",
    "c^0 = 1\n",
    "$$\n",
    "\n",
    "**Rule 2**: Exponentials turn negatives into inverses:\n",
    "\n",
    "$$\n",
    "c^{-a} = \\frac{1}{c^a}\n",
    "$$\n",
    "\n",
    "**Rule 3**: Exponentials turn sums into products:\n",
    "\n",
    "$$\n",
    "c^{a}\\cdot c^{b} = c^{a+b}\n",
    "$$\n",
    "\n",
    "**Rule 4**: Exponentials turn products into powers:\n",
    "\n",
    "$$\n",
    "c^{a\\cdot b} = {\\left(c^a\\right)}^b = {\\left(c^b\\right)}^a\n",
    "$$"
   ]
  },
  {
   "cell_type": "markdown",
   "metadata": {},
   "source": [
    "### The exponential function\n",
    "\n",
    "While it is convenient to regard $e$ as the number $2.71828\\dots$, there is an alternative (and more general) definition for $e$ given by the following infinite summation\n",
    "\n",
    "$$\n",
    "e := \\sum_{n=0}^\\infty \\frac{1}{n!}\n",
    "$$\n",
    "\n",
    "where \n",
    "\n",
    "$$\n",
    "n! := 1\\cdot 2 \\cdot 3 \\cdot \\dots \\cdot n\n",
    "$$\n",
    "\n",
    "is the *factorial* function: the product of numbers 1 through $n$.\n",
    "(We define the special case $0! = 1$.)\n",
    "\n",
    "Note that summation above depends on *infinitely* many terms, and is not something you could explicitly compute.\n",
    "While this could be a problem in some cases, it's okay here because the terms are getting smaller at a very fast rate:\n",
    "\n",
    "$$\n",
    "e = \\sum_{n=0}^\\infty \\frac{1}{n!} = \\frac{1}{1} + \\frac{1}{1} + \\frac{1}{2} + \\frac{1}{6} + \\frac{1}{24} + \\frac{1}{60} + \\dots\n",
    "$$\n",
    "\n",
    "and the summation *converges* to Euler's number.\n",
    "Proving this sort of thing is out of scope for us here, but we can simulate it computationally by printing out the first few partial sums with a bit of python code."
   ]
  },
  {
   "cell_type": "code",
   "execution_count": 9,
   "metadata": {},
   "outputs": [
    {
     "name": "stdout",
     "output_type": "stream",
     "text": [
      "First  1 term(s): 1.000000000000\n",
      "First  2 term(s): 2.000000000000\n",
      "First  3 term(s): 2.500000000000\n",
      "First  4 term(s): 2.666666666667\n",
      "First  5 term(s): 2.708333333333\n",
      "First  6 term(s): 2.716666666667\n",
      "First  7 term(s): 2.718055555556\n",
      "First  8 term(s): 2.718253968254\n",
      "First  9 term(s): 2.718278769841\n",
      "First 10 term(s): 2.718281525573\n",
      "First 11 term(s): 2.718281801146\n",
      "First 12 term(s): 2.718281826198\n",
      "First 13 term(s): 2.718281828286\n",
      "First 14 term(s): 2.718281828447\n",
      "First 15 term(s): 2.718281828458\n",
      "---\n",
      "Euler's constant: 2.718281828459\n"
     ]
    }
   ],
   "source": [
    "import numpy as np\n",
    "from scipy.special import factorial\n",
    "\n",
    "# Initialize the partial sum\n",
    "e_partial = 0.0\n",
    "\n",
    "for n in range(15):\n",
    "    # Add in 1/n!\n",
    "    e_partial += 1.0/factorial(n)\n",
    "    print('First {:2d} term(s): {:0.12f}'.format(n+1, e_partial))\n",
    "    \n",
    "# Print the actual constant to 12 decimals\n",
    "print('---')\n",
    "print(\"Euler's constant: {:0.12f}\".format(np.e))"
   ]
  },
  {
   "cell_type": "markdown",
   "metadata": {},
   "source": [
    "After only 15 terms of the summation, we already have a quite good approximation to $e$ (accurate to 11 decimal places).\n",
    "\n",
    "This definition of $e$ as an infinite summation can be generalized to depend on an arbitrary exponent $x$:\n",
    "\n",
    "$$\n",
    "e^x := \\sum_{n=0}^{\\infty} \\frac{x^n}{n!},\n",
    "$$\n",
    "\n",
    "where the first definition can be recovered by setting $x=1$ in the second equation.\n",
    "\n",
    "While we rarely work with this form directly, it is useful because it provides a way to generalize the exponential to support *complex* exponents $e^z$ for $z\\in\\mathbb{C}$.\n",
    "We'll come back to this later in the appendix when we go into complex numbers more thoroughly."
   ]
  }
 ],
 "metadata": {
  "kernelspec": {
   "display_name": "Python 3.7",
   "language": "python",
   "name": "py37"
  },
  "language_info": {
   "codemirror_mode": {
    "name": "ipython",
    "version": 3
   },
   "file_extension": ".py",
   "mimetype": "text/x-python",
   "name": "python",
   "nbconvert_exporter": "python",
   "pygments_lexer": "ipython3",
   "version": "3.7.6"
  }
 },
 "nbformat": 4,
 "nbformat_minor": 4
}
