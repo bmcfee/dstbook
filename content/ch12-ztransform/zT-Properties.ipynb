{
 "cells": [
  {
   "cell_type": "markdown",
   "metadata": {},
   "source": [
    "# Properties of the z-transform\n",
    "\n",
    "Like the discrete Fourier transform, the z-Transform has many convenient mathematical properties.\n",
    "In this section, we'll establish the most important ones: linearity, shifting, and convolution.\n",
    "These properties should all be conceptually familiar from our earlier study of the DFT, however they may look a little different in our new context."
   ]
  },
  {
   "cell_type": "code",
   "execution_count": 1,
   "metadata": {
    "tags": [
     "remove_input",
     "remove_output"
    ]
   },
   "outputs": [],
   "source": [
    "%run ../setup.ipynb"
   ]
  },
  {
   "cell_type": "markdown",
   "metadata": {},
   "source": [
    "## Linearity\n",
    "\n",
    "````{prf:theorem} The z-Transform is linear.\n",
    ":label: zt-linearity-thm\n",
    "\n",
    "Let $\\purple{y[n]} = \\red{c_1}\\cdot \\blue{x_1[n]} + \\red{c_2} \\cdot \\blue{x_2[n]}$ denote a combination of two signals $\\blue{x_1}$ and $\\blue{x_2}$, each with gain coefficients $\\red{c_1, c_2} \\in \\mathbb{R}$.\n",
    "\n",
    "Then the z-Transform of $\\purple{y[n]}$ is equivalent to\n",
    "```{math}\n",
    "\\magenta{Y(z)} = \\red{c_1}\\cdot \\darkblue{X_1(z)} + \\red{c_2}\\cdot \\darkblue{X_2(z)},\n",
    "```\n",
    "\n",
    "where $\\darkblue{X_1(z)}$ and $\\darkblue{X_2(z)}$ are the z-transforms of $\\blue{x_1[n]}$ and $\\blue{x_2[n]}$ respectively.\n",
    "````\n",
    "\n",
    "Or, in plain language: the z-Transform of a weighted combination of signals is equivalent to the weighted combination of their individual z-Transforms.\n",
    "\n",
    "### Proof\n",
    "\n",
    "The proof of z-Transform linearity is almost identical to our earlier proof of DFT {ref}`dft-linearity`, but now using an arbitrary complex number $\\purple{z}$ in place of the complex sinusoid of the DFT.\n",
    "\n",
    "\\begin{align*}\n",
    "\\magenta{Y(z)} &= \\sum_{n=0}^{\\infty} \\purple{y[n]} \\cdot \\purple{z^{-n}} & \\text{definition of z-Transform}\\\\\n",
    "&= \\sum_{n=0}^{\\infty} \\left(\\red{c_1} \\cdot \\blue{x_1[n]} + \\red{c_2} \\cdot \\blue{x_2[n]} \\right) \\cdot \\purple{z^{-n}} & \\text{definition of } \\blue{y[n]}\\\\\n",
    "&= \\sum_{n=0}^{\\infty} \\red{c_1} \\cdot \\blue{x_1[n]}\\cdot \\purple{z^{-n}} +\\red{c_2} \\cdot \\blue{x_2[n]} \\cdot \\purple{z^{-n}} & \\text{distributing } \\purple{z^{-n}} \\text{ over sum}\\\\\n",
    "&=  \\red{c_1} \\cdot  \\left(\\sum_{n=0}^{\\infty}\\blue{x_1[n]}\\cdot \\purple{z^{-n}}\\right) + \\red{c_2} \\cdot\\left(\\sum_{n=0}^{\\infty} \\blue{x_2[n]} \\cdot \\purple{z^{-n}}\\right) & \\red{c_1, c_2} \\text{ do not depend on } n\\\\\n",
    "&= \\red{c_1} \\cdot \\darkblue{X_1(z)} + \\red{c_2} \\cdot \\darkblue{X_2(z)} & \\text{definition of z-Transform}\n",
    "\\end{align*}"
   ]
  },
  {
   "cell_type": "markdown",
   "metadata": {},
   "source": [
    "## Shifting theorem\n",
    "\n",
    "The shifting theorem for z-Transforms looks a little different from the DFT shifting theorem, but it's conceptually quite similar.\n",
    "The main distinction is that we no longer have the circular / repetition assumption, and instead assume silence outside the observed samples.\n",
    "\n",
    "````{prf:theorem} z-Transform shifting theorem\n",
    ":label: zt-shifting-thm\n",
    "\n",
    "Let $\\purple{y[n]} = \\blue{x[n-k]}$ denote a $\\red{k}$-step delay of a signal $\\blue{x[n]}$, with the assumption that $\\blue{x[n<0] = 0}$.\n",
    "\n",
    "Then the z-Transform of $\\purple{y[n]}$ is given by\n",
    "\n",
    "```{math}\n",
    ":label: zt-shifting\n",
    "\n",
    "\\magenta{Y(z)} = \\red{z^{-k}} \\cdot \\darkblue{X(z)}.\n",
    "```\n",
    "````\n",
    "\n",
    "### Proof\n",
    "\n",
    "Let $\\purple{y[n]} = \\blue{x[n-k]}$.\n",
    "Since we're assuming $\\blue{x[n<0] = 0}$ (silence before the signal starts), we must have $\\purple{y[n<k] = 0}$.\n",
    "\n",
    "The z-Transform is then given by\n",
    "\n",
    "\\begin{align*}\n",
    "\\magenta{Y(z)} &= \\sum_{n=0}^\\infty \\purple{y[n]} \\cdot \\purple{z^{-n}} & \\text{definition of z-Transform}\\\\\n",
    "&= \\sum_{\\red{n=k}}^\\infty \\purple{y[n]} \\cdot \\purple{z^{-n}} & \\text{since } \\purple{y[n < k] = 0}\\\\\n",
    "&= \\sum_{n=k}^\\infty \\blue{x[n-k]} \\cdot \\purple{z^{-n}} & \\text{definition of } \\purple{y[n]}\\\\\n",
    "&= \\sum_{\\red{n=0}}^\\infty \\blue{x[n]} \\cdot \\purple{z^{-(n+k)}}\\\\\n",
    "\\end{align*}\n",
    "\n",
    "This last step follows from the observation that each $\\purple{z^{-n}}$ pairs with the sample $\\blue{x[n-k]}$, which means that each $\\blue{x[n]}$ pairs with $\\purple{z^{-(n+k)}}$.\n",
    "\n",
    "Continuing the proof, we can factor \n",
    "\\begin{align*}\n",
    "\\purple{z^{-(n+k)}} &= \\purple{z^{-n-k}}\\\\ \n",
    "&= \\purple{z^{-n}} \\cdot \\red{z^{-k}},\n",
    "\\end{align*}\n",
    "so that\n",
    "\\begin{align*}\n",
    "\\magenta{Y(z)} &= \\sum_{n=0}^\\infty \\blue{x[n]} \\cdot \\purple{z^{-(n+k)}}\\\\\n",
    "&= \\sum_{n=0}^\\infty \\blue{x[n]} \\cdot \\purple{z^{-n}} \\cdot \\red{z^{-k}}\\\\\n",
    "&= \\red{z^{-k}} \\cdot \\sum_{n=0}^\\infty \\blue{x[n]} \\cdot \\purple{z^{-n}} & \\red{z^{-k}} \\text{ does not depend on } n\\\\\n",
    "&= \\red{z^{-k}} \\cdot \\darkblue{X(z)} & \\text{definition of z-Transform}.\n",
    "\\end{align*}"
   ]
  },
  {
   "cell_type": "markdown",
   "metadata": {},
   "source": [
    "### Remark: the DFT shifting theorem\n",
    "\n",
    "Remember that the DFT can be derived from the z-Transform by letting $\\purple{z = \\exp\\left(2\\pi\\cdot \\mathrm{j} \\cdot m / N\\right)}$.\n",
    "If we plug this into the z-Transform shifting theorem, then a delay $\\red{k}$ results in multiplication by $\\red{z^{-k}}$, which in this case gives us\n",
    "\n",
    "$$\n",
    "\\purple{\\left(\\exp\\left(2\\pi\\cdot \\mathrm{j} \\cdot m / N\\right)\\right)}^{\\red{-k}} = \\exp\\left(- 2\\pi\\cdot \\mathrm{j} \\cdot \\red{k} \\cdot m / N\\right),\n",
    "$$\n",
    "\n",
    "exactly as stated by the DFT shifting theorem!"
   ]
  },
  {
   "cell_type": "markdown",
   "metadata": {},
   "source": [
    "## Convolution theorem\n",
    "\n",
    "Just like the DFT, we also have a convolution theorem for the z-Transform, and its proof follows basically the same form as that of the DFT convolution theorem, except relying on the z-Transform shifting theorem where appropriate.\n",
    "\n",
    "````{prf:thm} z-Transform convolution theorem\n",
    ":label: zt-conv-thm\n",
    "\n",
    "Let \n",
    "```{math}\n",
    "\\purple{y[n]} = \\sum_{k=0}^{K-1} \\red{h[k]} \\cdot \\blue{x[n-k]}\n",
    "```\n",
    "denote the convolution of a signal $\\blue{x[n]}$ with an impulse response $\\red{h[k]}$ of length $K$.\n",
    "We will assume that $\\red{h[k < 0] = h[k \\geq K] = 0}$.\n",
    "\n",
    "The z-Transform of the convolution $\\purple{y}$ is equal to the product of the z-Transforms:\n",
    "\n",
    "```{math}\n",
    ":label: zt-convolution\n",
    "\n",
    "\\magenta{Y(z)} = \\red{H(z)} \\cdot \\darkblue{X(z)},\n",
    "```\n",
    "\n",
    "where $\\magenta{Y(z)}$, $\\red{H(z)}$, and $\\darkblue{X(z)}$ are the z-Transforms of $\\purple{y[n]}$, $\\red{h[k]}$, and $\\blue{x[n]}$ respectively.\n",
    "````"
   ]
  },
  {
   "cell_type": "markdown",
   "metadata": {},
   "source": [
    "### Proof\n",
    "\n",
    "Let $\\purple{y[n]} = \\sum_{k=0}^{K-1} \\red{h[k]} \\cdot \\blue{x[n-k]}$.  Taking the z-Transform of both sides gives us:\n",
    "\n",
    "\\begin{align*}\n",
    "\\magenta{Y(z)} &= \\text{ZT}\\left(\\sum_{k=0}^{K-1} \\red{h[k]} \\cdot \\blue{x[n-k]}\\right)\\\\\n",
    "&= \\sum_{k=0}^{K-1} \\red{h[k]} \\cdot \\text{ZT}(\\blue{x[n-k]}) & \\text{by linearity of the z-Transform}\\\\\n",
    "&= \\sum_{k=0}^{K-1} \\red{h[k]} \\cdot \\darkblue{z^{-k}} \\cdot \\darkblue{X(z)} & \\text{by the z-Transform shifting theorem}\\\\\n",
    "&= \\darkblue{X(z)} \\cdot \\sum_{k=0}^{K-1} \\red{h[k]} \\cdot \\darkblue{z^{-k}} & \\darkblue{X(z)} \\text{ does not depend on } k\\\\\n",
    "&= \\darkblue{X(z)} \\cdot \\sum_{k=0}^\\infty \\red{h[k]} \\cdot \\darkblue{z^{-k}} & \\red{h[k\\geq K] = 0}, \\text{ so summands past } k=K \\text{ add 0 to the total}\\\\\n",
    "&= \\darkblue{X(z)} \\cdot \\red{H(z)} & \\text{by definition of z-Transform}. \n",
    "\\end{align*}"
   ]
  },
  {
   "cell_type": "markdown",
   "metadata": {},
   "source": [
    "## Summary\n",
    "\n",
    "In this section, we've revisited the core properties of the DFT that are necessary for understanding FIR filters: linearity, shifting, and convolution.\n",
    "The derivations for the z-Transform versions of these theorems are not substantially different from what we've seen previously with the DFT, though some of the notation and underlying assumptions have changed to fit our new setting.\n",
    "\n",
    "In the next section, we'll see how to apply these properties in the analysis of IIR filters."
   ]
  }
 ],
 "metadata": {
  "kernelspec": {
   "display_name": "dstbook",
   "language": "python",
   "name": "dstbook"
  },
  "language_info": {
   "codemirror_mode": {
    "name": "ipython",
    "version": 3
   },
   "file_extension": ".py",
   "mimetype": "text/x-python",
   "name": "python",
   "nbconvert_exporter": "python",
   "pygments_lexer": "ipython3",
   "version": "3.9.9"
  }
 },
 "nbformat": 4,
 "nbformat_minor": 4
}
