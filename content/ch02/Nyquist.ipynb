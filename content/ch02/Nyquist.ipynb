{
 "cells": [
  {
   "cell_type": "markdown",
   "metadata": {},
   "source": [
    "# The Nyquist-Shannon sampling theorem\n",
    "\n",
    "In the previous section, we saw that aliasing occurs between frequencies related by an integer multiple of the sampling rate $f_s$:\n",
    "\n",
    "$$\n",
    "f' = f + \\color{#EC2830}{k \\cdot f_s}.\n",
    "$$\n",
    "\n",
    "The bad news is that we can never avoid this: it's a byproduct of representing continuous signals by discrete samples.\n",
    "\n",
    "The good news it that if we're careful, we can ensure that aliasing effects do not corrupt our signals (or analysis).\n",
    "This is what the Nyquist-Shannon theorem is all about: establishing the conditions under which sampling is okay."
   ]
  },
  {
   "cell_type": "code",
   "execution_count": 1,
   "metadata": {
    "tags": [
     "hide_input",
     "hide_output",
     "remove_input"
    ]
   },
   "outputs": [],
   "source": [
    "import numpy as np\n",
    "\n",
    "import matplotlib\n",
    "import matplotlib.pyplot as plt\n",
    "from matplotlib import cycler\n",
    "import matplotlib.path as path\n",
    "import matplotlib.patches as patches\n",
    "from matplotlib.transforms import Bbox\n",
    "import warnings\n",
    "warnings.simplefilter('ignore')\n",
    "\n",
    "from matplotlib.animation import FuncAnimation\n",
    "import matplotlib.style\n",
    "matplotlib.style.use('bauhaus')\n",
    "\n",
    "np.random.seed(20200101)\n",
    "\n",
    "colors = [_['color'] for _ in list(matplotlib.rcParams['axes.prop_cycle'])]"
   ]
  },
  {
   "cell_type": "markdown",
   "metadata": {},
   "source": [
    "```{margin}\n",
    "**Aside: what's a 'theorem'?**\n",
    "\n",
    "Readers who don't spend a lot of time with mathematical terminology are often confused by the word \"theorem\", and think it's equivalent to the word \"theory\".\n",
    "It is not!\n",
    "\n",
    "A \"theorem\" is a mathematical fact that logically follows from a set of assumptions.\n",
    "\n",
    "Some other vocabulary for mathematical facts that you might not be familiar with:\n",
    "\n",
    "- **lemma**: a fact used to help prove a larger theorem.\n",
    "- **corollary**: a fact that follows immediately from a theorem.\n",
    "```"
   ]
  },
  {
   "cell_type": "markdown",
   "metadata": {},
   "source": [
    "```{margin}\n",
    "Proving that (continuous) signals can be expressed as a combination of sinuoids is a bit out of scope for us here, but we will show in a later chapter that this holds in the discrete case: every discrete signal $x[n]$ can be expressed as a weighted sum of discrete (sampled) sinusoids.\n",
    "```"
   ]
  },
  {
   "cell_type": "markdown",
   "metadata": {},
   "source": [
    "## Sampling pure tones and combinations\n",
    "\n",
    "The sampling theorem is most easily understood in terms of pure tones (sinusoids).\n",
    "While most any signal you encounter out in the world is unlikely to be a pure sinusoid, it turns out that under very mild conditions, **every** continuous signal can be expressed as a **combination of sinusoids**.\n",
    "By **combination**, we specifically mean a weighted sum, possibly with different phase offsets for each frequency:\n",
    "\n",
    "$$\n",
    "\\begin{align*}\n",
    "x(t) =& A_1 \\cdot \\cos(2\\pi \\cdot f_1 \\cdot t + \\phi_1) \\;+\\\\\n",
    "&A_2\\cdot \\cos(2\\pi \\cdot f_2\\cdot  t + \\phi_2) \\;+\\\\\n",
    "&A_3\\cdot \\cos(2\\pi \\cdot f_3\\cdot  t + \\phi_3) + \\cdots\n",
    "\\end{align*}\n",
    "$$\n",
    "\n",
    "When we sample a signal to produce $x[n]$, we can equivalently think of sampling each sinusoid first and then summing the results:\n",
    "\n",
    "$$\n",
    "\\begin{align*}\n",
    "x[n] =& A_1\\cdot \\cos\\left(2\\pi \\cdot f_1 \\cdot \\frac{n}{f_s} + \\phi_1\\right) \\;+\\\\\n",
    "& A_2\\cdot \\cos\\left(2\\pi \\cdot f_2\\cdot \\frac{n}{f_s} + \\phi_2\\right) \\;+\\\\\n",
    "& A_3\\cdot \\cos\\left(2\\pi \\cdot f_3\\cdot  \\frac{n}{f_s} + \\phi_3\\right) + \\cdots\n",
    "\\end{align*}\n",
    "$$\n",
    "\n",
    "Reasoning about sampling in this way will simplify things quite a bit.  If we can understand what sampling does for pure sinusoids, then we can extend that knowledge to general signals.\n",
    "Note that we don't need to know the specific values for $A_i$ or $\\phi_i$; these quantities will generally be unknown.\n",
    "It suffices to know that they exist."
   ]
  },
  {
   "cell_type": "markdown",
   "metadata": {},
   "source": [
    "## Band-limited sampling\n",
    "\n",
    "A signal $x(t)$ is **band-limited** if it can be expressed as a combination (weighted sum) of pure sinusoids whose frequencies lie between some minimum frequency $f_-$ and some maximum frequency $f_+ \\geq f_-$.\n",
    "The size of this *band* of frequencies, \n",
    "\n",
    "$$\n",
    "f_+ - f_-\n",
    "$$\n",
    "\n",
    "is known as the **bandwidth** of the signal."
   ]
  },
  {
   "cell_type": "markdown",
   "metadata": {},
   "source": [
    "Another way to think of band-limiting is that any sinusoid with frequency $f < f_-$ or $f > f_+$ has no weight in the combination that produces $x(t)$. Its corresponding amplitude $A_f$ must be 0.\n",
    "\n",
    "The basic idea of the Nyquist-Shannon theorem is that if the sampling rate $f_s$ is sufficiently large (compared to the bandwidth of the signal), then aliasing can't hurt us: **aliases must have zero amplitude.**"
   ]
  },
  {
   "cell_type": "markdown",
   "metadata": {},
   "source": [
    "## The Nyquist-Shannon sampling theorem\n",
    "\n",
    "We can now formally state the sampling theorem due to [Harry Nyquist](https://en.wikipedia.org/wiki/Harry_Nyquist) and [Claude Shannon](https://en.wikipedia.org/wiki/Claude_Shannon).\n",
    "(We'll actually state a simpler form of their theorem that's sufficient for our needs.)\n",
    "\n",
    "**Nyquist-Shannon Theorem:** If $x(t)$ band-limited to the range $f_- \\dots f_+$, then any sampling rate $f_s \\geq f_+ - f_-$ is sufficient to prevent aliasing.\n",
    "\n",
    "### Proof of the theorem\n",
    "\n",
    "Pick any frequency $f$, which will have aliasing frequencies of the form $f' = f + k \\cdot f_s$ for integer values $k$.\n",
    "Because the space between aliases is at least $f_s$, and the bandwidth of the signal is at most $f_s$, any aliasing frequency $f'$ must reside outside the frequency range of $x(t)$ as depicted below."
   ]
  },
  {
   "cell_type": "code",
   "execution_count": 46,
   "metadata": {
    "tags": [
     "remove_input"
    ]
   },
   "outputs": [
    {
     "data": {
      "image/png": "[encoded data removed]",
      "text/plain": [
       "<Figure size 576x288 with 1 Axes>"
      ]
     },
     "metadata": {
      "needs_background": "light"
     },
     "output_type": "display_data"
    }
   ],
   "source": [
    "## Spectrum plot here\n",
    "plt.figure(figsize=(8, 4))\n",
    "ax = plt.gca()\n",
    "ax.axvspan(-5, 5, alpha=0.1, color=colors[3])\n",
    "\n",
    "ax.arrow(-5, 0.75, 10-0.25, 0, head_width=0.05, head_length=0.25, color=colors[3], linewidth=3)\n",
    "ax.arrow(5, 0.75, -10+0.25, 0, head_width=0.05, head_length=0.25, color=colors[3], linewidth=3)\n",
    "ax.text(-4, 0.8, r'$f_s = f_+ - f_-$', size=18, color=colors[3]);\n",
    "\n",
    "ax.axvline(2, color=colors[0], label='$f$')\n",
    "a2 = patches.FancyArrowPatch((2.,0.0), (12.,0.0), connectionstyle=\"angle3,angleA=45,angleB=-45\",  arrowstyle='simple, head_width=15, head_length=15',\n",
    "                            color=colors[1], linewidth=3)\n",
    "ax.add_patch(a2)\n",
    "\n",
    "a3 = patches.FancyArrowPatch((2,0.0), (-8,0.0), connectionstyle=\"angle3,angleA=-45,angleB=45\",  arrowstyle='simple, head_width=15, head_length=15',\n",
    "                            color=colors[1], linewidth=3)\n",
    "ax.add_patch(a3)\n",
    "\n",
    "ax.text(2.5, 0.5, r'$f$', color=colors[0], size=18);\n",
    "ax.text(9, 0.5, r'$f+f_s$', color=colors[4], size=18);\n",
    "ax.text(-11, 0.5, r'$f-f_s$', color=colors[8], size=18);\n",
    "\n",
    "ax.text(6, 0.3, r'$+f_s$', color=colors[1], size=18);\n",
    "ax.text(-4, 0.3, r'$-f_s$', color=colors[1], size=18);\n",
    "\n",
    "ax.axvline(12, color=colors[4], label='$f + f_s$')\n",
    "ax.axvline(-8, color=colors[8], label='$f - f_s$')\n",
    "\n",
    "ax.set_xlim([-12, 15])\n",
    "ax.set_yticks([])\n",
    "ax.set_ylim([0, 1])\n",
    "ax.set_xticks([-5, 0, 5])\n",
    "ax.xaxis.set_ticklabels(['$f_-$', 0, '$f_+$'])\n",
    "#ax.legend(loc='upper left')\n",
    "ax.set_title('Aliases when $x(t)$ is band-limited')\n",
    "ax.set_xlabel('Frequency [Hz]');"
   ]
  },
  {
   "cell_type": "markdown",
   "metadata": {},
   "source": [
    "As a result, the discrete sampled signal $x[n]$ will depend only on those frequencies within the band limits $f_- < f < f_+$, which cannot be aliases of each other."
   ]
  },
  {
   "cell_type": "markdown",
   "metadata": {},
   "source": [
    "# Band-limiting in practice\n",
    "\n",
    "The Nyquist-Shannon theorem tells us how to choose a sampling rate, provided we know the band limits of the signal(s) we'd like to sample.\n",
    "But how do we ensure that $x(t)$ is actually band-limited?\n",
    "\n",
    "In hardware analog-to-digital converters (ADCs), this is done by using an analog circuit to filter the continuous signal and remove any frequencies above $f_+$ prior to sampling.\n",
    "If you've ever seen a tone knob on an electric guitar, the principle is very much the same."
   ]
  },
  {
   "cell_type": "markdown",
   "metadata": {},
   "source": [
    "## Setting the bandwidth\n",
    "\n",
    "At a first glance, the Nyquist-Shannon theorem might suggest to set $f_- = 0$ and $f_+$ to some reasonable maximum frequency, e.g. for audio, the upper range of human hearing (about 20000 Hz).\n",
    "Unfortunately, this approach won't work.\n",
    "\n",
    "To see why, consider the two signals plotted below: one has a frequency of 5 Hz, and the other has a frequency of -5 Hz:\n",
    "\n",
    "$$\n",
    "\\begin{align*}\n",
    "x_1(t) &= \\cos\\left(2\\pi \\cdot 5 \\cdot t\\right)\\\\\n",
    "x_2(t) &= \\cos\\left(2\\pi \\cdot (-5) \\cdot t\\right).\n",
    "\\end{align*}\n",
    "$$\n",
    "\n",
    "Can you tell which is which?"
   ]
  },
  {
   "cell_type": "code",
   "execution_count": 4,
   "metadata": {
    "tags": [
     "remove_input"
    ]
   },
   "outputs": [
    {
     "data": {
      "image/png": "[encoded data removed]",
      "text/plain": [
       "<Figure size 576x288 with 2 Axes>"
      ]
     },
     "metadata": {
      "needs_background": "light"
     },
     "output_type": "display_data"
    }
   ],
   "source": [
    "## Plot a cosine: positive or negative frequency?\n",
    "\n",
    "fs = 1000\n",
    "f0 = 5\n",
    "f1 = -f0\n",
    "t = np.linspace(0, 1, num=fs, endpoint=False)\n",
    "\n",
    "x1 = np.cos(2 * np.pi  * f0 * t)\n",
    "x2 = np.cos(2 * np.pi  * f1 * t)\n",
    "\n",
    "plt.figure(figsize=(8, 4))\n",
    "ax = plt.subplot(2,1,1)\n",
    "plt.plot(t, x1, label='$f_0 = {}$ Hz'.format(f0), color=colors[0])\n",
    "ax.tick_params(labelbottom=False)\n",
    "plt.title('Positive and negative frequencies');\n",
    "\n",
    "plt.subplot(2,1,2, sharex=ax, sharey=ax)\n",
    "plt.plot(t, x2, label='$f_0 = {}$ Hz'.format(f1), color=colors[1])\n",
    "plt.xlim([0, 1])\n",
    "plt.xlabel('Time $t$ [seconds]');"
   ]
  },
  {
   "cell_type": "markdown",
   "metadata": {},
   "source": [
    "The answer is: no!  These two frequencies produce identical signals.\n",
    "In general, any wave with a negative frequency can be equivalently represented as a wave with positive frequency and a different phase."
   ]
  },
  {
   "cell_type": "markdown",
   "metadata": {},
   "source": [
    "```{margin}\n",
    "The situation with negative frequency gets a bit trickier when signals can be complex-valued.\n",
    "In that case, negative frequency *can* be distinguished from positive frequency, in exactly the same way that clockwise and counter-clockwise rotation can be distinguished from each other.\n",
    "\n",
    "However, we'll only be dealing with real-valued signals here.\n",
    "```"
   ]
  },
  {
   "cell_type": "code",
   "execution_count": 5,
   "metadata": {
    "tags": [
     "remove_input"
    ]
   },
   "outputs": [],
   "source": [
    "%%capture\n",
    "# Draw a 2-pane animation of the moving point, and the wave being traced out horizontally and vertically\n",
    "# Plot a circle, inscribed right triangle, angle, and sine and cosine markers\n",
    "def format_func(value, tick_number):\n",
    "    # find number of multiples of pi/2\n",
    "    N = int(np.round(2 * value / np.pi))\n",
    "    if N == 0:\n",
    "        return \"0\"\n",
    "    elif N == 1:\n",
    "        return r\"$\\pi/2$\"\n",
    "    elif N == 2:\n",
    "        return r\"$\\pi$\"\n",
    "    elif N % 2 > 0:\n",
    "        return r\"${0}\\pi/2$\".format(N)\n",
    "    else:\n",
    "        return r\"${0}\\pi$\".format(N // 2)\n",
    "\n",
    "fig = plt.figure()\n",
    "\n",
    "n_frames = 360\n",
    "\n",
    "ax = plt.subplot(2, 2, 3)\n",
    "\n",
    "angle = np.pi / 3\n",
    "x, y = np.cos(angle), np.sin(angle)\n",
    "\n",
    "circ = patches.Ellipse((0, 0), 2, 2, facecolor='w', edgecolor='k', linewidth=5)\n",
    "ax.add_patch(circ)\n",
    "\n",
    "arc = patches.Wedge((0, 0), 0.25, theta1=0, theta2=angle * 180 / np.pi, facecolor=colors[3])\n",
    "ax.add_patch(arc)\n",
    "\n",
    "hypotenuse = ax.plot([x, x], [0, y], linewidth=4, color=colors[2])[0]\n",
    "xline = ax.plot([0, x], [0, 0], color=colors[1])[0]\n",
    "yline = ax.plot([0, x], [0, y], marker='.', markersize=25, linewidth=4)[0]\n",
    "\n",
    "plt.xlim([-1.25, 1.25])\n",
    "plt.ylim([-1.25, 1.25]);\n",
    "plt.xlabel('$x$')\n",
    "plt.ylabel('$y$');\n",
    "\n",
    "# Draw the y wave\n",
    "t = np.linspace(0, 2 * np.pi, endpoint=False, num=1000)\n",
    "\n",
    "ax_y = plt.subplot(2,2,4, sharey=ax)\n",
    "ax_y.axhline(0, color='k', linewidth=2)\n",
    "ax_y.plot(t, np.sin(t), color=colors[2], alpha=0.5)\n",
    "vert_line = ax_y.plot([angle, angle], [0, y], color=colors[2], label=r'$\\sin(\\theta)$')[0]\n",
    "ax_y.tick_params(labelleft=False)\n",
    "plt.legend(loc='lower left')\n",
    "ax_y.set_xlabel(r'$\\theta$')\n",
    "ax_y.xaxis.set_major_locator(plt.MultipleLocator(np.pi / 2))\n",
    "ax_y.xaxis.set_minor_locator(plt.MultipleLocator(np.pi / 4))\n",
    "ax_y.xaxis.set_major_formatter(plt.FuncFormatter(format_func))\n",
    "\n",
    "# Draw the x wave\n",
    "ax_x = plt.subplot(2,2,1, sharex=ax)\n",
    "ax_x.axvline(0, color='k', linewidth=2)\n",
    "ax_x.plot(np.cos(t), t, color=colors[1], alpha=0.5)\n",
    "horiz_line = ax_x.plot([0, x], [angle, angle], color=colors[1], label=r'$\\cos(\\theta)$')[0]\n",
    "plt.legend(loc='upper left')\n",
    "ax_x.tick_params(labelbottom=False)\n",
    "ax_x.set_ylabel(r'$\\theta$')\n",
    "ax_x.yaxis.set_major_locator(plt.MultipleLocator(np.pi / 2))\n",
    "ax_x.yaxis.set_minor_locator(plt.MultipleLocator(np.pi / 4))\n",
    "ax_x.yaxis.set_major_formatter(plt.FuncFormatter(format_func))\n",
    "\n",
    "\n",
    "def init():\n",
    "    return arc, hypotenuse, xline, yline, vert_line, horiz_line\n",
    "\n",
    "def animate(t):\n",
    "    angle = 2 * np.pi * t / n_frames\n",
    "    x, y = np.cos(angle), np.sin(angle)\n",
    "    hypotenuse.set_data([x, x], [0, y])\n",
    "    xline.set_data([0, x], [0, 0])\n",
    "    yline.set_data([0, x], [0, y])\n",
    "    vert_line.set_data([angle, angle], [0, y])\n",
    "    horiz_line.set_data([0, x], [angle, angle])\n",
    "    arc.set_theta2(angle * 180 / np.pi)\n",
    "    return arc, hypotenuse, xline, yline, vert_line, horiz_line\n",
    "\n",
    "animation = FuncAnimation(fig, animate, init_func=init,\n",
    "                               frames=n_frames, interval=20, blit=True)"
   ]
  },
  {
   "cell_type": "markdown",
   "metadata": {},
   "source": [
    "For cosine waves, this is just the symmetry property from chapter 1:\n",
    "\n",
    "$$\n",
    "\\cos(-\\theta) = \\cos(\\theta),\n",
    "$$\n",
    "\n",
    "which implies\n",
    "\n",
    "$$\n",
    "\\cos\\left(2\\pi \\cdot (-f)\\cdot t + \\phi\\right) = \\cos\\left(2\\pi \\cdot f \\cdot t - \\phi\\right).\n",
    "$$\n",
    "\n",
    "For sine waves, there is an anti-symmetry property, which we can combine with the phase inversion property:\n",
    "\n",
    "$$\n",
    "\\sin(-\\theta) = -\\sin(\\theta) = \\sin(\\theta - \\pi),\n",
    "$$\n",
    "\n",
    "which implies\n",
    "\n",
    "$$\n",
    "\\sin\\left(2\\pi \\cdot (-f) \\cdot t + \\phi\\right) = \\sin\\left(2\\pi \\cdot f \\cdot t + \\pi - \\phi\\right).\n",
    "$$\n",
    "\n",
    "If we wanted to filter out negative frequencies (i.e., set $f_- = 0$), then we must necessarily also filter out positive frequencies as well, because $f$ and $-f$ are indistinguishable from each other.\n",
    "Put another way, for any frequency $f$ that we want to keep, we must also keep $-f$, so our band limits must be symmetric around 0.\n",
    "\n",
    "## Putting it all together\n",
    "\n",
    "The symmetry argument above tells us that we must have $f_- = -f_+$.  This leads to the more common formula for the sampling rate in the Nyquist-Shannon theorem:\n",
    "\n",
    "$$\n",
    "f_s \\geq 2\\cdot f_+,\n",
    "$$\n",
    "\n",
    "because $f_+ - f_- = f_+ - (-f_+) = 2\\cdot f_+$.\n",
    "\n",
    "Alternatively, for a fixed sampling rate $f_s$, the highest frequency that can be measured without aliasing artifacts is $f_s / 2$, also known as the **Nyquist frequency** (for sampling rate $f_s$).\n",
    "\n",
    "For audio applications, we typically want $f_+$ to be sufficiently large to capture the audible range, which for humans, generally spans $30$ to $20000$ Hz.\n",
    "This suggests a sampling rate $f_s \\geq 2\\cdot f_+ \\approx 40000$.\n",
    "Combining this with a few various technological constraints resulted in the standard rate $f_s = 44100$ Hz for compact disc quality audio, and which is still commonly used today."
   ]
  }
 ],
 "metadata": {
  "kernelspec": {
   "display_name": "Python 3.7",
   "language": "python",
   "name": "py37"
  },
  "language_info": {
   "codemirror_mode": {
    "name": "ipython",
    "version": 3
   },
   "file_extension": ".py",
   "mimetype": "text/x-python",
   "name": "python",
   "nbconvert_exporter": "python",
   "pygments_lexer": "ipython3",
   "version": "3.7.7"
  }
 },
 "nbformat": 4,
 "nbformat_minor": 4
}
