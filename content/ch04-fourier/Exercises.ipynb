{
 "cells": [
  {
   "cell_type": "markdown",
   "metadata": {},
   "source": [
    "# Exercises"
   ]
  },
  {
   "cell_type": "markdown",
   "metadata": {},
   "source": [
    "1.\n",
    "\n",
    "2.\n",
    "\n",
    "3. Generate different types of signals with different fundamental frequencies (square, triangle, sawtooth).  For each one, compute its DFT and look at its magnitude spectrum.  Can you tell apart the different types of waves by the placement and magnitudes of their harmonics?\n",
    "\n",
    "4. Make (or find) a recording of the note $D\\sharp 5$ on an instrument of your choice.  Using the code provided for analyzing the {ref}`trumpet recording <trumpet-recording>`, compute its DFT and magnitude spectrum.  How does its spectrum compare to that of the trumpet?"
   ]
  }
 ],
 "metadata": {
  "kernelspec": {
   "display_name": "Python 3.7",
   "language": "python",
   "name": "bloody"
  },
  "language_info": {
   "codemirror_mode": {
    "name": "ipython",
    "version": 3
   },
   "file_extension": ".py",
   "mimetype": "text/x-python",
   "name": "python",
   "nbconvert_exporter": "python",
   "pygments_lexer": "ipython3",
   "version": "3.7.6"
  }
 },
 "nbformat": 4,
 "nbformat_minor": 4
}
