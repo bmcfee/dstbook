{
 "cells": [
  {
   "cell_type": "markdown",
   "metadata": {},
   "source": [
    "# Exercises"
   ]
  },
  {
   "cell_type": "markdown",
   "metadata": {},
   "source": [
    "1. If $N=100$ and $f_s = 8000$, what is the lowest non-zero analysis frequency?\n",
    "\n",
    "2. What values of $f_s$ and $N$ would be necessary to ensure that the minimum and maximum (non-zero) analysis frequencies cover the range of typical human hearing (20-20000 Hz)?\n",
    "\n",
    "3. Imagine a signal of $N$ samples is extended by padding with $N$ additional zeros, resulting in a signal $y[n]$ of length $2\\cdot N$.  How does the DFT $Y[m]$ compare to the DFT of the original signal $X[m]$?\n",
    "\n",
    "    In particular:\n",
    "    - How does the set of analysis frequencies change?\n",
    "    - For any given frequency index $m$, what can you say about $Y[m]$ in relation to the original spectrum $X$?\n",
    "    \n",
    "4. Generate different types of signals with the same fundamental frequency (square, triangle, sawtooth).  For each one, compute its DFT and look at its magnitude spectrum.  Can you tell apart the different types of waves by the placement and magnitudes of their harmonics?  (Hint: see `scipy.signal.square` and `scipy.signal.sawtooth` for generating waves.)\n",
    "\n",
    "5. Generate a sinusoid at $f_0 = 110$ for 1 second at $f_s = 8000$.  Then, apply different levels of {ref}`quantize-function`: 8-bit, 4-bit, 2-bit, and 1-bit.  For each quantized signal, compute its DFT.  How does it compare (qualitatively) to the original signal's DFT?\n",
    "\n",
    "6. Make (or find) a recording of the note $D\\sharp 5$ on an instrument of your choice.  Using the code provided for analyzing the {ref}`trumpet recording <trumpet-recording>`, compute its DFT and magnitude spectrum.  How does its spectrum compare to that of the trumpet?\n",
    "\n"
   ]
  }
 ],
 "metadata": {
  "kernelspec": {
   "display_name": "bloody",
   "language": "python",
   "name": "bloody"
  },
  "language_info": {
   "codemirror_mode": {
    "name": "ipython",
    "version": 3
   },
   "file_extension": ".py",
   "mimetype": "text/x-python",
   "name": "python",
   "nbconvert_exporter": "python",
   "pygments_lexer": "ipython3",
   "version": "3.7.6"
  }
 },
 "nbformat": 4,
 "nbformat_minor": 4
}
