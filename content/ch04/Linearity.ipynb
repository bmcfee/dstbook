{
 "cells": [
  {
   "cell_type": "markdown",
   "metadata": {},
   "source": [
    "# Linearity\n",
    "\n"
   ]
  },
  {
   "cell_type": "code",
   "execution_count": 1,
   "metadata": {
    "tags": [
     "hide_input",
     "hide_output",
     "remove_input"
    ]
   },
   "outputs": [],
   "source": [
    "import numpy as np\n",
    "import scipy.signal\n",
    "\n",
    "import matplotlib\n",
    "import matplotlib.pyplot as plt\n",
    "from matplotlib import cycler\n",
    "import matplotlib.path as path\n",
    "import matplotlib.patches as patches\n",
    "from matplotlib.transforms import Bbox\n",
    "import warnings\n",
    "warnings.simplefilter('ignore')\n",
    "\n",
    "from matplotlib.animation import FuncAnimation\n",
    "import matplotlib.style\n",
    "matplotlib.style.use('bauhaus')\n",
    "\n",
    "np.random.seed(20200101)\n",
    "\n",
    "colors = [_['color'] for _ in list(matplotlib.rcParams['axes.prop_cycle'])]"
   ]
  },
  {
   "cell_type": "markdown",
   "metadata": {},
   "source": [
    "$$\n",
    "\\require{cancel}\\notag%\n",
    "\\require{color}\\notag%\n",
    "$$\n",
    "\n",
    "After shift-invariance, the other key characteristic of convolutional systems is *linearity*.\n",
    "Linearity is a bit more complicated to reason about than shift-invariance, but we'll use the same kind of thinking to reason about it.\n",
    "\n",
    "At a high level, linearity for a system means two things for us:\n",
    "\n",
    "- **Homogeneity** You can scale a signal before or after applying the system.\n",
    "- **Additivity** You can mix signals before or after applying the system, and\n",
    "\n",
    "Either one of these properties on its own is not enough to guarantee linearity: you need both."
   ]
  },
  {
   "cell_type": "markdown",
   "metadata": {},
   "source": [
    "```{margin} Aside: why *linear*?\n",
    "\n",
    "In the context of signal processing, the term *linearity* might seem a little out of place, if not downright mysterious.\n",
    "\n",
    "Like many parts of our mathematical vocabulary, the term is borrowed from the theory of [*linear algebra*](https://en.wikipedia.org/wiki/Linear_algebra), where operators like rotation or translation are defined to ensure that the shapes of straight lines are preserved after application.\n",
    "\n",
    "The idea is much more general though, and in our context, *linearity* should be interpreted as preserving *gain* and *mixture* of signals.\n",
    "```"
   ]
  },
  {
   "cell_type": "markdown",
   "metadata": {},
   "source": [
    "## Homogeneity\n",
    "\n",
    "*Homogeneity* is a fancy word for a relatively basic idea: changes in scale are propagated through  a system unchanged.\n",
    "Intuitively, this means that you can place a volume knob either before or after the system in an effect chain, and the output will be the same. We can make this concept rigorous as follows.\n",
    "\n",
    "Let $g$ be a system, $x[n]$ be any signal, and $c \\in \\mathbb{R}$ be any real number.  We say that $g$ is *homogeneous* if \n",
    "\n",
    "$$\n",
    "g(c\\cdot x) = c\\cdot g(x).\n",
    "$$\n",
    "\n",
    "Note that this must hold simultaneously for *all* numbers $c$ and signals $x$."
   ]
  },
  {
   "cell_type": "markdown",
   "metadata": {},
   "source": [
    "### Examples of homogeneous systems\n",
    "\n",
    "Many of the systems we've already seen are homogeneous, such as:\n",
    "\n",
    "- Delay: $y[n] = x[n-d]$  (for some delay $d$)\n",
    "- Gain: $y[n] = G \\cdot x[n]$ (for some gain coefficient $G$)\n",
    "- Time-reversal: $y[n] = x[N-1-n]$ (for $x$ of length $N$)\n",
    "\n",
    "This can be directly observed by replacing $x[n]$ by $c\\cdot x[n]$ in the above equations, and relating the result back to the original $y[n]$.  (We'll do this in more generality below.)\n",
    "\n",
    "There are plenty of other, less familiar systems which satisfy homogeneity though:\n",
    "\n",
    "- Differencing: $y[n] = x[n] - x[n-1]$\n",
    "- Decimation: $y[n] = x[K\\cdot n]$ (for $K \\in \\mathbb{Z}_+$)\n",
    "- Looping: $y[n] = x[n \\mod K]$  (where $n \\mod K$ is the remainder after dividing $n / K$)\n",
    "\n",
    "\n",
    "The key thing to observe in homogeneous systems is that the behavior of the system does not depend on sample *values*.  This doesn't mean that the system cannot also induce some scaling of its own (gain) or combine sample values (differencing), just that it can't operate differently when you scale $x$ up or down.\n"
   ]
  },
  {
   "cell_type": "markdown",
   "metadata": {},
   "source": [
    "### Examples of inhomogeneous systems\n",
    "\n",
    "Not all systems are homogeneous, and here are a few examples of *inhomegeneous* systems:\n",
    "\n",
    "- Biasing: $y[n] = x[n] + b$  (for some $b \\neq 0$)\n",
    "- Full-wave rectification: $y[n] = |x[n]|$\n",
    "- Clipping: $y[n] = \\text{clip}(x[n], v_-, v_+)$\n",
    "- Dynamic range compression: (for $0 < R, T < 1$):\n",
    "\n",
    "$$\n",
    "y[n] = \\begin{cases}\n",
    "x[n] & -T \\leq x[n] \\leq T\\\\\n",
    "T + R\\cdot (x[n] - T) & \\text{otherwise}\n",
    "\\end{cases}\n",
    "$$\n",
    "\n",
    "### TODO: plots"
   ]
  },
  {
   "cell_type": "markdown",
   "metadata": {},
   "source": [
    "Of these, the first example (biasing) might seem a bit surprising, given its simplicity.\n",
    "However, look at what happens when you take $c=0$ as the scaling coefficient:\n",
    "\n",
    "$$\n",
    "\\begin{align*}\n",
    "g(0 \\cdot x)[n] &= 0 \\cdot x[n] + b \\\\\n",
    "&= b\\\\\n",
    "&\\neq 0 \\\\\n",
    "&= 0 \\cdot y[n]\\\\\n",
    "\\end{align*}\n",
    "$$\n",
    "\n",
    "It's a general property of homogeneous systems that an all-zeros input must produce an all-zeros output.\n",
    "\n",
    "By similar reasoning, you can show that the full-wave rectification example is not homogeneous, except that $c=0$ will not work in this case.  Try taking $c=-1$ instead, and see what happens!"
   ]
  },
  {
   "cell_type": "markdown",
   "metadata": {},
   "source": [
    "## Additivity\n",
    "\n",
    "The second ingredient of linearity is *additivity*, which requires that mixing of two signals can be done before or after applying the system.\n",
    "\n",
    "Formally, we have that a system $g$ is linear if for **any pair** of signals $x_1$ and $x_2$,\n",
    "\n",
    "$$\n",
    "g(x_1 + x_2) = g(x_1) + g(x_2).\n",
    "$$\n",
    "\n",
    "This property is a bit different from the other properties we've seen so far (shift-invariance, homogeneity) in that it involves multiple signals.\n",
    "\n",
    "For real-valued signals, additivity implies homogeneity: just imagine $x_2$ is a copy of $x_1$ and see  what happens.  (It takes much more work to prove this rigorously, but intuition suffices for our purposes here.)\n",
    "There are examples of systems which are non-additive but still homogeneous, but they're quite unusual in practice.\n",
    "\n",
    "The situation changes when we expand our horizons beyond the reals and consider *complex* signals, where a system can be additive but not homogeneous.\n",
    "One example is *conjugation*:\n",
    "\n",
    "$$\n",
    "g(z) = \\overline{z},\n",
    "$$\n",
    "which is additive (because complex numbers add real and imaginary parts independently), but not homogeneous if you take $c = 1\\mathsf{j}$ and let $z$ be any real signal.\n",
    "\n",
    "We'll not make much use of complex signals in this section, but this point will come back later on when we get into Fourier analysis.\n",
    "\n",
    "For now, the key message is that additivity and homogeneity are truly distinct properties."
   ]
  },
  {
   "cell_type": "markdown",
   "metadata": {},
   "source": [
    "## Linearity succinctly\n",
    "\n",
    "The two properties above can be combined into one definition, which we call *linearity*.\n",
    "A system $g$ is linear if for any pair of signals $x_1$ and $x_2$, and any pair of real numbers $c_1, c_2$, we have\n",
    "\n",
    "$$\n",
    "g(c_1 \\cdot x_1 + c_2 \\cdot x_2) = c_1 \\cdot g(x_1) + c_2 \\cdot g(x_2).\n",
    "$$\n",
    "\n",
    "This definition encompasses both homogeneity and linearity: \n",
    "- if you let $x_2 = 0$, it simplifies to homogeneity, and\n",
    "- if you let $c_1 = c_2 = 1$, it simplifies to additivity.\n"
   ]
  },
  {
   "cell_type": "markdown",
   "metadata": {},
   "source": [
    "## How to determine linearity"
   ]
  },
  {
   "cell_type": "markdown",
   "metadata": {},
   "source": [
    "### Proving that a system is linear"
   ]
  },
  {
   "cell_type": "markdown",
   "metadata": {},
   "source": [
    "### Proving that a system is non-linear\n"
   ]
  },
  {
   "cell_type": "markdown",
   "metadata": {},
   "source": [
    "## All convolutional systems are linear"
   ]
  },
  {
   "cell_type": "markdown",
   "metadata": {},
   "source": [
    "## Summary"
   ]
  }
 ],
 "metadata": {
  "kernelspec": {
   "display_name": "Python 3.7",
   "language": "python",
   "name": "py37"
  },
  "language_info": {
   "codemirror_mode": {
    "name": "ipython",
    "version": 3
   },
   "file_extension": ".py",
   "mimetype": "text/x-python",
   "name": "python",
   "nbconvert_exporter": "python",
   "pygments_lexer": "ipython3",
   "version": "3.7.7"
  }
 },
 "nbformat": 4,
 "nbformat_minor": 4
}
