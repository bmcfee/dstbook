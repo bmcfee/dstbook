{
 "cells": [
  {
   "cell_type": "markdown",
   "metadata": {},
   "source": [
    "# The Convolution Theorem"
   ]
  },
  {
   "cell_type": "code",
   "execution_count": 1,
   "metadata": {
    "tags": [
     "remove_input",
     "remove_output"
    ]
   },
   "outputs": [],
   "source": [
    "%run ../setup.ipynb"
   ]
  },
  {
   "cell_type": "markdown",
   "metadata": {},
   "source": [
    "Recall from {eq}`convolution-def` the definition of **convolution** between a signal $\\blue{x}$ (of length $N$) and impulse response $\\red{h}$ (of length $K$):\n",
    "\n",
    "```{math}\n",
    "\\purple{y[n]} = (\\red{h} * \\blue{x})[n] = \\sum_{k=0}^{K-1} \\red{h[k]} \\cdot \\blue{x[n-k]}.\n",
    "```\n",
    "\n",
    "As we saw previously, this can be interpreted as constructing the output $\\purple{y}$ by mixing together several delayed copies of $\\blue{x}$ (index $k$ corresponds to the delay in samples), each with a gain coefficient given by $\\red{h[k]}$.\n",
    "\n",
    "In this section, our goal is to understand the frequency domain representation $\\magenta{Y} = \\text{DFT}(\\red{h} * \\blue{x})$ in terms of the DFTs of the inputs $\\red{h}$ and $\\blue{x}$, which will be expressed succinctly by the **convolution theorem**."
   ]
  },
  {
   "cell_type": "markdown",
   "metadata": {},
   "source": [
    "## Circular convolution\n",
    "\n",
    "Before we can properly apply the DFT to convolution, we'll first need to deal with the differing assumptions of how negative sample indices are handled.\n",
    "When we first saw convolution, it was defined using the assumption that $\\blue{x[n-k] = 0}$ if $\\blue{n < k}$, i.e., that the signal $\\blue{x}$ is silent before the 0th sample.\n",
    "Different ways of interpreting this assumption gave rise to the different {ref}`convolution modes <convolution-modes>` (full, valid, same).\n",
    "\n",
    "The DFT, on the other hand, assumes that signals *repeat* indefinitely, so that $\\blue{x[n-k] = x[n-k + N]}$.\n",
    "\n",
    "If we define convolution using the repetition assumption, we get what is known as **circular convolution**.\n",
    "The equation is exactly the same as {eq}`convolution-def`; all that has changed is the interpretation of negative sample indices, which now wrap around to the end of the signal.\n",
    "This assumption can be encoded by using modular arithmetic to compute the delayed sample index: $n-k \\mod N$.\n",
    "\n",
    "````{prf:definition} Circular convolution\n",
    "For a signal $x$ of length $N$ and impulse response $h$ of length $K$, the **circular convolution** between $x$ and $h$ is defined as:\n",
    "\n",
    "```{math}\n",
    "\\purple{y[n]} = \\sum_{k=0}^{K-1} \\red{h[k]} \\cdot \\blue{x[n - k \\mod N]}.\n",
    "```\n",
    "````"
   ]
  },
  {
   "cell_type": "markdown",
   "metadata": {},
   "source": [
    "## The convolution theorem\n",
    "\n",
    "Now that we've defined circular convolution, we can formally state the **convolution theorem**, which is one of the most important theorems in signal processing.\n",
    "\n",
    "````{prf:theorem} The Convolution Theorem\n",
    "\n",
    "Let $\\red{h}$ and $\\blue{x}$ be sequences of length $N$, and let $\\purple{y}=\\red{h}*\\blue{x}$ denote the circular convolution between them.\n",
    "\n",
    "The DFT of the convolution is the product of the DFTs:\n",
    "\n",
    "```{math}\n",
    ":label: eq-conv-thm\n",
    "\\purple{y} = \\red{h} * \\blue{x} \\quad \\quad \\Leftrightarrow \\quad\\quad \\magenta{Y[m]} = \\red{H[m]} \\cdot \\darkblue{X[m]}.\n",
    "```\n",
    "````"
   ]
  },
  {
   "cell_type": "markdown",
   "metadata": {},
   "source": [
    "````{prf:proof}\n",
    "\n",
    "By definition, the output signal $\\purple{y}$ is a sum of delayed copies of the input $\\blue{x[n-k]}$, each scaled by the corresponding coefficient $\\red{h[k]}$.\n",
    "\n",
    "By {ref}`DFT linearity <dft-linearity>`, we can think of the DFT $\\magenta{Y[m]}$ as a weighted combination of DFTs:\n",
    "\n",
    "\\begin{align*}\n",
    "\\magenta{Y} = \\text{DFT}(\\purple{y}) &= \\text{DFT}\\left(\\sum_{k=0}^{N-1} \\red{h[k]} \\cdot \\blue{x[n-k]}\\right) & \\text{By definition of } \\purple{y}\\\\\n",
    "&= \\sum_{k=0}^{N-1} \\red{h[k]} \\cdot \\text{DFT}(\\blue{x[n-k]}) & \\text{By DFT linearity}.\n",
    "\\end{align*}\n",
    "\n",
    "To reduce clutter, let's define $\\darkblue{X_k} = \\text{DFT}(\\blue{x[n-k]})$ to be the DFT of the $k$-step delayed copy of $x$.\n",
    "\n",
    "Now, we can use the {ref}`DFT Shifting Theorem <shifting-theorem>` to express the DFT of the delayed signal $X_k$ in terms of the original signal $\\darkblue{X} = \\text{DFT}(\\blue{x})$ for each frequency index $m$:\n",
    "\n",
    "```{math}\n",
    "\\darkblue{X_k[m]} = \\darkblue{X[m]} \\cdot \\purple{e^{-2\\pi \\cdot \\mathrm{j} \\cdot m \\cdot k / N}}.\n",
    "```\n",
    "\n",
    "Substituting this into our derivation for $\\magenta{Y}$, we can continue:\n",
    "\n",
    "\\begin{align*}\n",
    "\\magenta{Y[m]} &= \\sum_{k=0}^{N-1} \\red{h[k]} \\cdot \\darkblue{X_k[m]}\\\\\n",
    "&= \\sum_{k=0}^{N-1} \\red{h[k]} \\cdot \\darkblue{X[m]} \\cdot \\purple{e^{-2\\pi \\cdot \\mathrm{j} \\cdot m \\cdot k / N}}  & \\text{DFT Shifting theorem}\\\\\n",
    "&= \\darkblue{X[m]} \\cdot \\sum_{k=0}^{N-1} \\red{h[k]} \\cdot \\purple{e^{-2\\pi \\cdot \\mathrm{j} \\cdot m \\cdot k / N}} & \\darkblue{X[m]} \\text{ does not depend on } k\\\\\n",
    "&= \\darkblue{X[m]} \\cdot \\red{H[m]} & \\text{Definition of DFT of } \\red{h}\\\\\n",
    "&= \\red{H[m]} \\cdot \\darkblue{X[m]} & \\text{By commutativity: } w \\cdot z = z \\cdot w.\\\\\n",
    "\\end{align*}\n",
    "\n",
    "which is exactly what we set out to prove.\n",
    "````"
   ]
  },
  {
   "cell_type": "markdown",
   "metadata": {},
   "source": [
    "## Consequences of the convolution theorem\n",
    "\n",
    "Now that we have the convolution theorem, let's take some time to explore what it gives us.\n",
    "\n",
    "### Fast convolution\n",
    "\n",
    "From the convolution theorem, we get $\\magenta{Y[m]} = \\red{H[m]} \\cdot \\darkblue{X[m]}$.\n",
    "Applying the inverse DFT, we can recover the time-domain output signal:\n",
    "\n",
    "```{math}\n",
    "\\purple{y[n]} = \\text{IDFT}(\\red{H} \\cdot \\darkblue{X})\n",
    "```\n",
    "where the product $\\red{H}\\cdot \\darkblue{X}$ is the element-wise product of $\\red{H}$ and $\\darkblue{X}$.\n",
    "\n",
    "This gives us a recipe for computing the convolution $\\red{h}*\\blue{x}$ using the DFT:\n",
    "\n",
    "1. Pad $\\blue{x}$ and $\\red{h}$ to the same length (if necessary)\n",
    "2. Compute DFTs $\\darkblue{X}$ and $\\red{H}$,\n",
    "3. Multiply $\\magenta{Y[m]} = \\red{H[m]} \\cdot \\darkblue{X[m]}$,\n",
    "4. Take the inverse DFT of $\\purple{y} = \\text{IDFT}(\\magenta{Y})$.\n",
    "\n",
    "If $\\red{h}$ and $\\blue{x}$ are of comparable length (say, both $N$ samples), then this can be more efficient than the {ref}`direct convolution algorithm <direct-convolution>`.\n",
    "The direct convolution has an outer loop of $N$ steps (one for each output sample) and an inner loop of $N$ steps (one for each delay), for a total of $\\sim N^2$ computation.\n",
    "\n",
    "However, the recipe above takes:\n",
    "\n",
    "1. $\\leq N$ steps for padding\n",
    "2. Two DFT calculations\n",
    "3. $N$ steps to multiply the spectra\n",
    "4. One inverse DFT calculation\n",
    "\n",
    "Steps 2 and 4 can be performed with $\\sim N + N \\cdot \\log N$ steps.\n",
    "The total computation time will therefore scale like $N\\cdot \\log N \\ll N^2$.\n",
    "\n",
    "However, if $h$ is much shorter than $N$, this may not be worth it, as the direct method would take $N\\cdot K$ steps.\n",
    "Standard convolution implementations like `scipy.signal.convolve` typically compare the lengths of the signal to determine the most efficient means of computing the result."
   ]
  },
  {
   "cell_type": "markdown",
   "metadata": {},
   "source": [
    "### Algebraic properties\n",
    "\n",
    "You may recall from the earlier section on {ref}`properties of convolution <convolution-properties>` that we asserted (without proof) that convolution is commutative:\n",
    "\n",
    "```{math}\n",
    "\\red{h}*\\blue{x} = \\red{x}*\\blue{h},\n",
    "```\n",
    "\n",
    "and associative:\n",
    "\n",
    "```{math}\n",
    "\\red{h}*\\purple{(g*x)} = \\red{(h*g)}*\\blue{x},\n",
    "```\n",
    "\n",
    "but we did not prove those properties.  (We could have, but it would have been pretty tedious.)\n",
    "\n",
    "The convolution theorem provides a more direct and intuitive way to see these properties:\n",
    "\n",
    "- Commutativity must exist because complex multiplication is commutative: $\\darkblue{X[m]}\\cdot \\red{H[m]} = \\red{H[m]} \\cdot \\darkblue{X[m]}$.\n",
    "- Likewise for associativity: $\\red{H[m]} \\cdot \\darkblue{(G[m] \\cdot X[m])} = \\red{(H[m] \\cdot G[m])} \\cdot \\darkblue{X[m]}$.\n",
    "\n",
    "Inheriting these properties from multiplication is much easier than deriving them from scratch."
   ]
  },
  {
   "cell_type": "markdown",
   "metadata": {},
   "source": [
    "### Filter analysis\n",
    "\n",
    "Finally, the convolution theorem provides a way to understand the effect a particular impulse response $\\red{h}$ might have on a signal.\n",
    "Initially, we thought of each $\\red{h[k]}$ as the gain applied to the delayed signal $\\blue{x[n-k]}$.\n",
    "\n",
    "In the frequency domain, each $\\red{H[m]}$ is a complex number, which we can denote as\n",
    "\n",
    "```{math}\n",
    "\\red{H[m]} = A \\cdot e^{\\mathrm{j} \\cdot \\phi},\n",
    "```\n",
    "where $A \\geq 0$ is the magnitude and $\\phi$ is the phase.\n",
    "\n",
    "Using the inverse DFT, we can interpret $\\darkblue{X[m]} = B \\cdot e^{\\mathrm{j} \\cdot \\theta}$ as encoding the magnitude $B$ and phase $\\theta$ of a particular sinusoid present in the signal $x$.\n",
    "\n",
    "Multiplying these two together, we see that $\\magenta{Y[m]}$ has magnitude $A \\cdot B$ and phase $\\phi + \\theta$.\n",
    "That is, $\\red{H[m]}$ encodes how much each sinusoidal component of $\\blue{x}$ is amplified (or attenuated) (by $A$) and delayed (by $\\phi$) when convolved with $\\red{h}$.\n",
    "\n",
    "In the following sections, we'll see how to put this idea into practice for filtering signals."
   ]
  },
  {
   "cell_type": "markdown",
   "metadata": {},
   "source": [
    "### Dual convolution theorem\n",
    "\n",
    "One interesting corollary of the convolution theorem is the following:\n",
    "\n",
    "````{prf:corollary} Convolution in frequency\n",
    ":label: dual-convolution\n",
    "\n",
    "If $\\red{w}$ and $\\blue{x}$ are sequences of length $N$, then element-wise multiplication in the time domain is equivalent to circular convolution *in the frequency domain*.\n",
    "\n",
    "```{math}\n",
    "\\text{DFT}(\\red{w} \\cdot \\blue{x}) = \\frac{1}{N} \\cdot \\red{\\text{DFT}(w)} * \\darkblue{\\text{DFT}(x)},\n",
    "```\n",
    "where frequency-domain convolution is defined as follows with $\\red{W = \\text{DFT}(w)}$ and $\\darkblue{X = \\text{DFT}(x)}$:\n",
    "\n",
    "```{math}\n",
    "\\magenta{(X*W)[m]} = \\sum_{k=0}^{N-1} \\red{W[m]} \\cdot \\darkblue{X[m - k \\mod N]}\n",
    "```\n",
    "````\n",
    "\n",
    "The proof of {prf:ref}`dual-convolution` is nearly identical to that of the convolution theorem, except that it uses a variation of the shifting theorem for the *inverse* DFT.\n",
    "\n",
    "The dual convolution theorem is mainly useful as a theoretical device, as it can help us to understand the effects of element-wise multiplication.  This occurs when windowing a signal, and if we apply the inverse DFT to each side of {prf:ref}`dual-convolution`, we obtain\n",
    "```{math}\n",
    "\\red{w} \\cdot \\blue{x} = \\frac{1}{N} \\cdot \\text{IDFT}(\\red{W} * \\darkblue{X}).\n",
    "```\n",
    "\n",
    "\n",
    "We won't go into detail here, but the table below summarizes the relationships between DFT, IDFT, circular convolution, and element-wise multiplication.\n",
    "\n",
    "\n",
    "| Time domain   |  | Frequency domain    |\n",
    "| :--- | --- | ---: |\n",
    "| Convolution $\\red{h}*\\blue{x}$   | $\\Leftrightarrow$ | Multiplication $\\red{H}\\cdot \\darkblue{X}$    |\n",
    "| Multiplication $\\red{w}\\cdot \\blue{x}$   | $\\Leftrightarrow$  | Convolution $\\red{W}*\\darkblue{X}$    |\n"
   ]
  }
 ],
 "metadata": {
  "kernelspec": {
   "display_name": "dstbook",
   "language": "python",
   "name": "dstbook"
  },
  "language_info": {
   "codemirror_mode": {
    "name": "ipython",
    "version": 3
   },
   "file_extension": ".py",
   "mimetype": "text/x-python",
   "name": "python",
   "nbconvert_exporter": "python",
   "pygments_lexer": "ipython3",
   "version": "3.9.9"
  }
 },
 "nbformat": 4,
 "nbformat_minor": 4
}
