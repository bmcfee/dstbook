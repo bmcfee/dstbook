{
 "cells": [
  {
   "cell_type": "markdown",
   "metadata": {},
   "source": [
    "# The Convolution Theorem"
   ]
  },
  {
   "cell_type": "code",
   "execution_count": 1,
   "metadata": {
    "tags": [
     "remove_input",
     "remove_output"
    ]
   },
   "outputs": [],
   "source": [
    "%run ../setup.ipynb"
   ]
  },
  {
   "cell_type": "markdown",
   "metadata": {},
   "source": [
    "Recall from {eq}`convolution-def` the definition of **convolution** between a signal $x$ (of length $N$) and impulse response $h$ (of length $K$):\n",
    "\n",
    "```{math}\n",
    "y[n] = (h * x)[n] = \\sum_{k=0}^{K-1} h[k] \\cdot x[n-k].\n",
    "```\n",
    "\n",
    "As we saw previously, this can be interpreted as constructing the output $y$ by mixing together several delayed copies of $x$ (index $k$ corresponds to the delay in samples), each with a gain coefficient given by $h[k]$.\n",
    "\n",
    "In this section, our goal is to understand the frequency domain representation $Y = \\text{DFT}(h * x)$ in terms of the DFTs of the inputs $h$ and $x$, which will be expressed succinctly by the **convolution theorem**."
   ]
  },
  {
   "cell_type": "markdown",
   "metadata": {},
   "source": [
    "## Circular convolution\n",
    "\n",
    "Before we can properly apply the DFT to convolution, we'll first need to deal with the differing assumptions of how negative sample indices are handled.\n",
    "When we first saw convolution, it was defined using the assumption that $x[n-k] = 0$ if $n < k$, i.e., that the signal $x$ is silent before the 0th sample.\n",
    "Different ways of interpreting this assumption gave rise to the different {ref}`convolution modes <convolution-modes>` (full, valid, same).\n",
    "\n",
    "The DFT, on the other hand, assumes that signals *repeat* indefinitely, so that $x[n-k] = x[n-k + N]$.\n",
    "\n",
    "If we define convolution using the repetition assumption, we get what is known as **circular convolution**.\n",
    "The equation is exactly the same as {eq}`convolution-def`; all that has changed is the interpretation of negative sample indices, which now wrap around to the end of the signal."
   ]
  },
  {
   "cell_type": "markdown",
   "metadata": {},
   "source": [
    "## The convolution theorem\n",
    "\n",
    "Now that we've defined circular convolution, we can formally state the **convolution theorem**, which is one of the most important theorems in signal processing!\n",
    "\n",
    "````{margin} \n",
    "```{tip}\n",
    "We have assumed for convenience that both $h$ and $x$ have the same length $N$.  In practice, if one is shorter, we can equivalently pad it with zeros to match the length $N$ of the longer input.\n",
    "\n",
    "This will not change the behavior of the convolution, but it does ensure that the DFTs have the same number of components.\n",
    "```\n",
    "````\n",
    "\n",
    "````{admonition} Theorem: convolution in the frequency domain\n",
    "Let $h$ and $x$ be sequences of length $N$, and let $y=h*x$ denote the circular convolution between them.\n",
    "\n",
    "The DFT of the convolution is the product of the DFTs:\n",
    "\n",
    "```{math}\n",
    ":label: eq-conv-thm\n",
    "y = h * x \\quad \\quad \\Leftrightarrow \\quad\\quad Y[m] = H[m] \\cdot X[m].\n",
    "```\n",
    "````"
   ]
  },
  {
   "cell_type": "markdown",
   "metadata": {},
   "source": [
    "### Proof\n",
    "\n",
    "By definition, the output signal $y$ is a sum of delayed copies of the input $x[n-k]$, each scaled by the corresponding coefficient $h[k]$.\n",
    "\n",
    "By the {ref}`DFT linearity theorem <dft-linearity>`, we can think of the DFT $Y$ as a weighted combination of DFTs:\n",
    "\n",
    "```{math}\n",
    "\\begin{align*}\n",
    "Y = \\text{DFT}(y) &= \\text{DFT}\\left(\\sum_{k=0}^{N-1} h[k] \\cdot x[n-k]\\right) & \\text{By definition of } y\\\\\n",
    "&= \\sum_{k=0}^{N-1} h[k] \\cdot \\text{DFT}(x[n-k]) & \\text{By DFT linearity}.\n",
    "\\end{align*}\n",
    "```\n",
    "To reduce clutter, let's define $X_k = \\text{DFT}(x[n-k])$ to be the DFT of the $k$-step delayed copy of $x$.\n",
    "\n",
    "Now, we can use the {ref}`DFT Shifting Theorem <shifting-theorem>` to express the DFT of the delayed signal $X_k$ in terms of the original signal $X = \\text{DFT}(x)$ for each frequency index $m$:\n",
    "\n",
    "$$\n",
    "X_k[m] = X[m] \\cdot e^{-2\\pi \\cdot \\mathrm{j} \\cdot m \\cdot k / N}.\n",
    "$$\n",
    "\n",
    "Substituting this into our derivation for $Y$, we can continue:\n",
    "\n",
    "$$\n",
    "\\begin{align*}\n",
    "Y[m] &= \\sum_{k=0}^{N-1} h[k] \\cdot X_k[m]\\\\\n",
    "&= \\sum_{k=0}^{N-1} h[k] \\cdot X[m] \\cdot e^{-2\\pi \\cdot \\mathrm{j} \\cdot m \\cdot k / N}  & \\text{DFT Shifting theorem}\\\\\n",
    "&= X[m] \\cdot \\sum_{k=0}^{N-1} h[k] \\cdot e^{-2\\pi \\cdot \\mathrm{j} \\cdot m \\cdot k / N} & X[m] \\text{ does not depend on } k\\\\\n",
    "&= X[m] \\cdot H[m] & \\text{Definition of DFT} \\\\\n",
    "&= H[m] \\cdot X[m] & \\text{By commutativity: } w \\cdot z = z \\cdot w.\\\\\n",
    "\\end{align*}\n",
    "$$\n",
    "\n",
    "which is exactly what we set out to prove.\n"
   ]
  },
  {
   "cell_type": "markdown",
   "metadata": {},
   "source": [
    "## Consequences of the convolution theorem\n",
    "\n",
    "Now that we have the convolution theorem, let's take some time to explore what it gives us.\n",
    "\n",
    "### Fast convolution\n",
    "\n",
    "From the convolution theorem, we get $Y[m] = H[m] \\cdot X[m]$.\n",
    "Applying the inverse DFT, we can recover the time-domain output signal:\n",
    "\n",
    "```{math}\n",
    "y[n] = \\text{IDFT}(H \\cdot X)\n",
    "```\n",
    "where the product $H\\cdot X$ is the element-wise product of $H$ and $X$.\n",
    "\n",
    "This gives us a recipe for computing the convolution using the DFT:\n",
    "\n",
    "1. Pad $x$ and $h$ to the same length (if necessary)\n",
    "2. Compute DFTs $X$ and $H$,\n",
    "3. Multiply $Y[m] = H[m] \\cdot X[m]$,\n",
    "4. Take the inverse DFT of $Y$.\n",
    "\n",
    "If $h$ and $x$ are of comparable length (say, both $N$ samples), then this can be more efficient than the {ref}`direct convolution algorithm <direct-convolution>`.\n",
    "The direct convolution has an outer loop of $N$ steps (one for each output sample) and an inner loop of $N$ steps (one for each delay), for a total of $\\sim N^2$ computation.\n",
    "\n",
    "However, the recipe above takes:\n",
    "\n",
    "1. $\\leq N$ steps for padding\n",
    "2. Two DFT calculations\n",
    "3. $N$ steps to multiply the spectra\n",
    "4. One inverse DFT calculation\n",
    "\n",
    "Steps 2 and 4 can be performed with $\\sim N + N \\cdot \\log N$ steps.\n",
    "The total computation time will therefore scale like $N\\cdot \\log N \\ll N^2$!\n",
    "\n",
    "However, if $h$ is much shorter than $N$, this may not be worth it, as the direct method would take $N\\cdot K$ steps.\n",
    "Standard convolution implementations like `scipy.signal.convolve` typically compare the lengths of the signal to determine the most efficient means of computing the result."
   ]
  },
  {
   "cell_type": "markdown",
   "metadata": {},
   "source": [
    "### Algebraic properties\n",
    "\n",
    "You may recall from the earlier section on {ref}`properties of convolution <convolution-properties>` that we asserted (without proof) that convolution is commutative:\n",
    "\n",
    "```{math}\n",
    "h*x = x*h,\n",
    "```\n",
    "\n",
    "and associative:\n",
    "\n",
    "```{math}\n",
    "h*(g*x) = (h*g)*x,\n",
    "```\n",
    "\n",
    "but we did not prove those properties.  (We could have, but it would have been pretty tedious!)\n",
    "\n",
    "The convolution theorem provides a more direct and intuitive way to see these properties:\n",
    "\n",
    "- Commutativity must exist because complex multiplication is commutative: $X[m]\\cdot H[m] = H[m] \\cdot X[m]$.\n",
    "- Likewise for associativity: $H[m] \\cdot (G[m] \\cdot X[m]) = (H[m] \\cdot G[m]) \\cdot X[m]$.\n",
    "\n",
    "Inheriting these properties from multiplication is much easier than deriving them from scratch!"
   ]
  },
  {
   "cell_type": "markdown",
   "metadata": {},
   "source": [
    "### Filter analysis\n",
    "\n",
    "Finally, the convolution theorem provides a way to understand the effect a particular impulse response $h$ might have on a signal.\n",
    "Initially, we thought of each $h[k]$ as the gain applied to the delayed signal $x[n-k]$.\n",
    "\n",
    "In the frequency domain, each $H[m]$ is a complex number, which we can denote as\n",
    "\n",
    "```{math}\n",
    "H[m] = A \\cdot e^{\\mathrm{j} \\cdot \\phi},\n",
    "```\n",
    "where $A \\geq 0$ is the magnitude and $\\phi$ is the phase.\n",
    "\n",
    "Using the inverse DFT, we can interpret $X[m] = B \\cdot e^{\\mathrm{j} \\cdot \\theta}$ as encoding the magnitude $B$ and phase $\\theta$ of a particular sinusoid present in the signal $x$.\n",
    "\n",
    "Multiplying these two together, we see that $Y[m]$ has magnitude $A \\cdot B$ and phase $\\phi + \\theta$.\n",
    "That is, $H[m]$ encodes how much each sinusoidal component of $x$ is amplified (or attenuated) (by $A$) and delayed (by $\\phi$) when convolved with $h$!\n",
    "\n",
    "In the following sections, we'll see how to put this idea into practice for filtering signals."
   ]
  },
  {
   "cell_type": "markdown",
   "metadata": {},
   "source": [
    "### Dual convolution theorem\n",
    "\n",
    "One interesting corollary of the convolution theorem is its so-called *dual* theorem:\n",
    "\n",
    "````{admonition} Corollary: frequency-domain convolution\n",
    "\n",
    "If $w$ and $x$ are sequences of length $N$, then element-wise multiplication in the time domain is equivalent to circular convolution *in the frequency domain*.\n",
    "\n",
    "```{math}\n",
    "\\text{DFT}(w \\cdot x) = \\text{DFT}(w) * \\text{DFT}(x)\n",
    "```\n",
    "````\n",
    "\n",
    "The proof of this theorem is nearly identical to that of the convolution theorem, except that it uses a variation of the shifting theorem for the *inverse* DFT.\n",
    "\n",
    "The dual convolution theorem is mainly useful as a theoretical device, as it can help us to understand the effects of element-wise multiplication (e.g., when windowing a signal).\n",
    "\n",
    "We won't go into detail here, but the table below summarizes the relationships between DFT, IDFT, circular convolution, and element-wise multiplication.\n",
    "\n",
    "\n",
    "| Time domain   |  | Frequency domain    |\n",
    "| :--- | --- | ---: |\n",
    "| Convolution $h*x$   | $\\Leftrightarrow$ | Multiplication $H\\cdot X$    |\n",
    "| Multiplication $w\\cdot x$   | $\\Leftrightarrow$  | Convolution $W*X$    |\n"
   ]
  }
 ],
 "metadata": {
  "kernelspec": {
   "display_name": "dstbook",
   "language": "python",
   "name": "dstbook"
  },
  "language_info": {
   "codemirror_mode": {
    "name": "ipython",
    "version": 3
   },
   "file_extension": ".py",
   "mimetype": "text/x-python",
   "name": "python",
   "nbconvert_exporter": "python",
   "pygments_lexer": "ipython3",
   "version": "3.9.4"
  }
 },
 "nbformat": 4,
 "nbformat_minor": 4
}
