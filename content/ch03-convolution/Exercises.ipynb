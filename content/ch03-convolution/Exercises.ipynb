{
 "cells": [
  {
   "cell_type": "markdown",
   "metadata": {},
   "source": [
    "# Exercises\n",
    "\n",
    "```{exercise}\n",
    ":label: ex3-1\n",
    "\n",
    "For each of the following systems, what is its impulse response?\n",
    "    \n",
    "1. $y[n] = x[n] - x[n-1]$   \n",
    "1. $y[n] = 2\\cdot x[n] + x[n-2]$    \n",
    "1. $y[n] = \\frac{1}{3} \\cdot \\left(x[n-2] + x[n-3] + x[n-4]\\right)$\n",
    "```"
   ]
  },
  {
   "cell_type": "markdown",
   "metadata": {},
   "source": [
    "```{exercise}\n",
    ":label: ex3-2\n",
    "\n",
    "If $x$ is a signal of $N=100$ samples, an $h$ is an impulse response of $K=11$ samples, how many samples does $y=h*x$ have in each of the following modes?\n",
    "    \n",
    "1. Full   \n",
    "1. Valid\n",
    "1. Same (centered)\n",
    "```"
   ]
  },
  {
   "cell_type": "markdown",
   "metadata": {},
   "source": [
    "```{exercise}\n",
    ":label: ex3-3\n",
    "\n",
    "For each of the following systems, determine whether it is linear, shift-invariant, both, or neither.\n",
    "    \n",
    "1. $y[n] = -x[n]$\n",
    "1. $y[n] = x[0]$\n",
    "1. $y[n] = \\frac{1}{2} \\cdot |x[n] + x[n-1]|$\n",
    "1. $y[n] = 20$\n",
    "1. $y[n] = n^2$\n",
    "```"
   ]
  },
  {
   "cell_type": "markdown",
   "metadata": {},
   "source": [
    "````{exercise}\n",
    ":label: ex3-4\n",
    "\n",
    "Let $h = [1/K, 1/K, \\dots, 1/K]$ ($K$ times) denote a *moving average filter* so that if $y = h*x$, then $y[n]$ is the average of the previous $K$ samples in $x$.\n",
    "\n",
    "Using an input recording $x$ of your choice (not more than 10 seconds), compute $y$ for different values of $K = 1, 4, 16, 64, 256, 1024$ and listen to each one.  \n",
    "    \n",
    "How does each $y$ sound compared to the original signal?  Do you notice any artifacts?\n",
    "   \n",
    "```{code-block} python\n",
    "# Starter code for making a moving average filter\n",
    "K = 8\n",
    "h_K = 1/K * np.ones(K)\n",
    "```\n",
    "````"
   ]
  }
 ],
 "metadata": {
  "kernelspec": {
   "display_name": "dstbook",
   "language": "python",
   "name": "dstbook"
  },
  "language_info": {
   "codemirror_mode": {
    "name": "ipython",
    "version": 3
   },
   "file_extension": ".py",
   "mimetype": "text/x-python",
   "name": "python",
   "nbconvert_exporter": "python",
   "pygments_lexer": "ipython3",
   "version": "3.9.9"
  }
 },
 "nbformat": 4,
 "nbformat_minor": 4
}
