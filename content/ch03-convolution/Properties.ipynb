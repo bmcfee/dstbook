{
 "cells": [
  {
   "cell_type": "markdown",
   "metadata": {},
   "source": [
    "(convolution-properties)=\n",
    "# Properties of convolution"
   ]
  },
  {
   "cell_type": "code",
   "execution_count": 1,
   "metadata": {
    "tags": [
     "remove_input",
     "remove_output"
    ]
   },
   "outputs": [],
   "source": [
    "%run ../setup.ipynb"
   ]
  },
  {
   "cell_type": "markdown",
   "metadata": {},
   "source": [
    "As stated earlier in this chapter, convolution acts like a kind of abstract *multiplication* between signals.\n",
    "Making this statement more precise will have to wait until we've developed the Fourier transform, but for now we can end this chapter by showing some of the properties that convolution shares with multiplication.\n",
    "\n",
    "Note: we'll assume for now that all convolutions are **full mode**.  With appropriate trimming, you can extend these properties to the other modes, but the notation will get a bit more complicated."
   ]
  },
  {
   "cell_type": "markdown",
   "metadata": {},
   "source": [
    "## Commutative property\n",
    "\n",
    "Convolution is **commutative**, which is a fancy word for saying that order doesn't matter.\n",
    "Precisely, commutativity is the property that for any $x$ and $h$, the following holds:\n",
    "\n",
    "````{prf:property} Commutativity of convolution\n",
    ":label: commute-prop\n",
    "\n",
    "If $\\blue{x}$ is a signal and $\\red{h}$ is an impulse response, then\n",
    "```{math}\n",
    "\\red{h}*\\blue{x} = \\red{x}*\\blue{h}.\n",
    "```\n",
    "````\n",
    "\n",
    "What this says in words is that there is no difference between *signals* and *filters*: any sequence of numbers can be interpreted as either (or both)!"
   ]
  },
  {
   "cell_type": "markdown",
   "metadata": {},
   "source": [
    "## Associative property\n",
    "\n",
    "Convolution is also **associative**, which means that if we're chaining a series of convolutions together, it doesn't matter which one you do first.\n",
    "Imagine that we convolve $x *h$ and then convolve the result by some other filter $g$.\n",
    "Associativity says that we could equivalently convolve $h$ with $g$ first, and then convolve the result with $x$.\n",
    "Formally, we have\n",
    "\n",
    "````{prf:property} Associativity of convolution\n",
    ":label: associativity-prop\n",
    "\n",
    "If $\\blue{x}$ is a signal and $\\red{h}$ and $\\red{g}$ are impulse responses, then\n",
    "```{math}\n",
    "\\red{g}*(\\purple{h*x}) = \\red{(g*h)}*\\blue{x}\n",
    "```\n",
    "````\n",
    "\n",
    "Why does this matter?  Imagine that $h$ and $g$ are both short (maybe a dozen samples) and $x$ is long (millions of samples).\n",
    "Computing $h*x$ would take work proportional to the length of $x$, as would convolving the output with $g$: you'd have to step through large arrays twice.\n",
    "However, if you convolve $g*h$ first, that only takes work proportional to the length of the filters (which are small), and then you'd only have to step through the large array once.\n",
    "Reasoning about filters in this way can help you develop more efficient processing chains without changing the calculations.\n",
    "\n",
    "By combining associativity with commutativity, it turns out that a sequence of convolutions $x * h * g * \\dots$ can be equivalently computed **in any order**!\n",
    "This fact can be exploited to find the most efficient possible order (e.g. by ordering the inputs from short to long)."
   ]
  },
  {
   "cell_type": "markdown",
   "metadata": {},
   "source": [
    "(convolution-distributive)=\n",
    "## Distributive over addition\n",
    "\n",
    "Imagine we have two signals $x_1$ and $x_2$ that we'd like to filter by $h$ and then mix.\n",
    "The **distributive** property says that we can equivalently mix the signals first, and then convolve by $h$:\n",
    "\n",
    "````{prf:property} Distributivity of convolution\n",
    ":label: distributivity-prop\n",
    "\n",
    "If $\\blue{x_1,x_2}$ are signals and $\\red{h}$ is an impulse response, then\n",
    "```{math}\n",
    "\\red{h}*\\blue{x_1} + \\red{h}*\\blue{x_2} = \\red{h}*\\blue{(x_1 + x_2)}.\n",
    "```\n",
    "````\n",
    "Like the associative property, the distributive property can be used to reduce the amount of computation needed to produce a particular output.\n",
    "Note that the left-hand side of the equation has two convolutions, and the right-hand side has only one.\n",
    "\n",
    "As we'll see later, this property can be generalized slightly to show that convolution is a *linear operator*."
   ]
  },
  {
   "cell_type": "markdown",
   "metadata": {},
   "source": [
    "## Proving these properties\n",
    "\n",
    "To prove that one of these properties holds, one would generally proceed by using the formal definition of convolution, and then applying a sequence of algebraic manipulations until we arrive at the desired result.\n",
    "\n",
    "As an example, here's how one could prove the distributive property ({prf:ref}`distributivity-prop`).\n",
    "\n",
    "````{prf:proof}\n",
    "Let $\\purple{y} = \\red{h}*\\blue{(x_1+x_2)}$.\n",
    "Then the $n$th sample of $y$ is\n",
    "\n",
    "\\begin{align*}\n",
    "\\purple{y[n]} &= \\sum_{k=0}^{K-1} \\red{h[k]} \\cdot \\blue{\\left(x_1[n-k] + x_2[n-k]\\right)} & \\text{by definition of } y\\\\\n",
    "&= \\sum_{k=0}^{K-1} \\left(\\red{h[k]} \\cdot \\blue{x_1[n-k]} + \\red{h[k]} \\cdot \\blue{x_2[n-k]}\\right) & \\text{pull }h[k]\\text{ into sum}\\\\\n",
    "&= \\left(\\sum_{k=0}^{K-1} \\red{h[k]} \\cdot \\blue{x_1[n-k]}\\right) + \\left(\\sum_{k=0}^{K-1} \\red{h[k]} \\cdot \\blue{x_2[n-k]}\\right) & \\text{re-arrange the sum}\\\\\n",
    "&= (\\red{h}*\\blue{x_1})[n] + (\\red{h}*\\blue{x_2})[n] & \\text{ by definition of }*.\n",
    "\\end{align*}\n",
    "\n",
    "And since this holds for all $n$, we get \n",
    "\n",
    "```{math}\n",
    "\\red{h}*\\blue{(x_1+x_2)} = \\purple{y} = (\\red{h}*\\blue{x_1}) + (\\red{h}*\\blue{x_2}).\n",
    "```\n",
    "````"
   ]
  },
  {
   "cell_type": "markdown",
   "metadata": {},
   "source": [
    "Similar types of arguments to the one above can be used to show that commutativity or associativity hold.\n",
    "For the mathematically inclined reader, this can be a good exercise.\n",
    "However, **this style of proof can be tedious.**\n",
    "For the time being, we'll assume that these properties hold without giving explicit proofs.\n",
    "\n",
    "In [chapter 10](convolution-theorem), we'll see some mathematical tools that make it much simpler to show these properties of convolution from (more or less) first principles, without relying on so much algebra."
   ]
  }
 ],
 "metadata": {
  "kernelspec": {
   "display_name": "dstbook",
   "language": "python",
   "name": "dstbook"
  },
  "language_info": {
   "codemirror_mode": {
    "name": "ipython",
    "version": 3
   },
   "file_extension": ".py",
   "mimetype": "text/x-python",
   "name": "python",
   "nbconvert_exporter": "python",
   "pygments_lexer": "ipython3",
   "version": "3.9.9"
  }
 },
 "nbformat": 4,
 "nbformat_minor": 4
}
