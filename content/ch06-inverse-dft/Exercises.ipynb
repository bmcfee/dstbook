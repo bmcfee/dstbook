{
 "cells": [
  {
   "cell_type": "markdown",
   "metadata": {},
   "source": [
    "# Exercises"
   ]
  },
  {
   "cell_type": "markdown",
   "metadata": {},
   "source": [
    "1. Synthesize a sinusoid $x[n] = A \\cdot \\cos(2\\pi \\cdot f \\cdot n / N + \\phi)$ by directly constructing the frequency domain representation $X[m]$ and applying the inverse DFT.  Use the following starter code:\n",
    "```python\n",
    "\n",
    "# sampling rate\n",
    "fs = 8000\n",
    "\n",
    "# duration / number of frequencies\n",
    "N = 8000\n",
    "\n",
    "# Wave parametrs\n",
    "A = 5\n",
    "f = 250  # Hz\n",
    "phi = np.pi / 4\n",
    "\n",
    "X = np.zeros(N, dtype=np.complex)\n",
    "\n",
    "# INSERT YOUR CODE HERE TO BUILD X\n",
    "\n",
    "# Invert to recover the signal\n",
    "x = np.fft.ifft(X)\n",
    "```\n",
    "```{hint}\n",
    "Check your synthesis against a signal generated purely in the time-domain.\n",
    "Your IDFT should be numerically identical to the time-domain signal, including amplitude and phase.\n",
    "    \n",
    "Make sure to construct your DFT so that the output is real-valued!\n",
    "```\n",
    "\n",
    "\n",
    "2. A *low-pass filter* allows frequencies below some cut-off $f_T$ to propagate through, and blocks all frequencies above the cut-off.  Try implementing this on a signal of your choice by setting any DFT coefficients $X[m]$ to 0 if the corresponding frequency is above 500 Hz.  Apply the inverse DFT and listen to the results.  How does it sound?  Do you notice any artifacts?\n",
    "  - It is best to try this on a few different sounds, including natural and synthetic signals.  Hand claps might be particularly interesting!"
   ]
  }
 ],
 "metadata": {
  "kernelspec": {
   "display_name": "bloody",
   "language": "python",
   "name": "bloody"
  },
  "language_info": {
   "codemirror_mode": {
    "name": "ipython",
    "version": 3
   },
   "file_extension": ".py",
   "mimetype": "text/x-python",
   "name": "python",
   "nbconvert_exporter": "python",
   "pygments_lexer": "ipython3",
   "version": "3.7.6"
  }
 },
 "nbformat": 4,
 "nbformat_minor": 4
}
