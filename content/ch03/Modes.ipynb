{
 "cells": [
  {
   "cell_type": "markdown",
   "metadata": {},
   "source": [
    "# Convolution modes"
   ]
  },
  {
   "cell_type": "code",
   "execution_count": 1,
   "metadata": {
    "tags": [
     "hide_input",
     "hide_output",
     "remove_input"
    ]
   },
   "outputs": [],
   "source": [
    "import numpy as np\n",
    "import scipy.signal\n",
    "\n",
    "import matplotlib\n",
    "import matplotlib.pyplot as plt\n",
    "from matplotlib import cycler\n",
    "import matplotlib.path as path\n",
    "import matplotlib.patches as patches\n",
    "from matplotlib.transforms import Bbox\n",
    "import warnings\n",
    "warnings.simplefilter('ignore')\n",
    "\n",
    "from matplotlib.animation import FuncAnimation\n",
    "import matplotlib.style\n",
    "matplotlib.style.use('bauhaus')\n",
    "\n",
    "np.random.seed(20200101)\n",
    "\n",
    "colors = [_['color'] for _ in list(matplotlib.rcParams['axes.prop_cycle'])]\n",
    "\n",
    "def figaspect(arg):\n",
    "    # min/max sizes to respect when autoscaling.  If John likes the idea, they\n",
    "    # could become rc parameters, for now they're hardwired.\n",
    "    figsize_min = np.array((4.0, 2.0))  # min length for width/height\n",
    "    figsize_max = np.array((16.0, 16.0))  # max length for width/height\n",
    "\n",
    "    # Extract the aspect ratio of the array\n",
    "    isarray = hasattr(arg, 'shape') and not np.isscalar(arg)\n",
    "    if isarray:\n",
    "        nr, nc = arg.shape[:2]\n",
    "        arr_ratio = nr / nc\n",
    "    else:\n",
    "        arr_ratio = arg\n",
    "\n",
    "    # Height of user figure defaults\n",
    "    fig_width = matplotlib.rcParams['figure.figsize'][0]\n",
    "\n",
    "    # New size for the figure, keeping the aspect ratio of the caller\n",
    "    newsize = np.array((fig_width, fig_width *arr_ratio))\n",
    "    #newsize = np.array((fig_height / arr_ratio, fig_height))\n",
    "\n",
    "    # Sanity checks, don't drop either dimension below figsize_min\n",
    "    newsize /= min(1.0, *(newsize / figsize_min))\n",
    "\n",
    "    # Avoid humongous windows as well\n",
    "    newsize /= max(1.0, *(newsize / figsize_max))\n",
    "\n",
    "    # Finally, if we have a really funky aspect ratio, break it but respect\n",
    "    # the min/max dimensions (we don't want figures 10 feet tall!)\n",
    "    newsize = np.clip(newsize, figsize_min, figsize_max)\n",
    "    return newsize"
   ]
  },
  {
   "cell_type": "markdown",
   "metadata": {},
   "source": [
    "As we saw in the first section of this chapter, the first few samples produced by a convolution $y = x*h$ depend on *negative sample indices* $x[n-k]$ where $n < k$.\n",
    "To ensure that the convolution is well-defined for these indices, we assume $x[n-k]=0$ for $n<k < K$ (the length of the filter), which we may also think of as **padding** the signal with zeros on the left.\n",
    "This means that we can think of the first $k$ samples of $y$ as depending on these additional zeros.  Any sample $n \\geq k$ will not depend on this padding.\n",
    "\n",
    "Depending on how you want to use convolution, it may or may not be appropriate to include these first few samples.\n",
    "In this section, we'll describe different commonly used **modes** of convolution, which can all be implemented by some combination of padding and trimming the inputs and outputs.\n",
    "Note that these modes do not fundamentally alter how convolution works: all that changes is which outputs are retained in the output signal.\n",
    "\n",
    "Throughout this section, we will assume that $x$ and $h$ have $N$ and $K$ samples, respectively, and that $N \\geq K$.\n",
    "This latter assumption is for convenience, and as we'll see in the next section, it is not necessary."
   ]
  },
  {
   "cell_type": "markdown",
   "metadata": {},
   "source": [
    "## Full mode\n",
    "\n",
    "**Full mode** convolution is implemented by padding the input on both the left *and the right* by $K-1$ samples each.\n",
    "A full mode convolution will have $N + K - 1$ output samples.\n",
    "\n",
    "The intuition for this is that it captures both a *warm up* phase ($n < K$), as well as a *ringing out* phase ($N \\leq n < N + K$).\n",
    "The warm up phase contains all outputs which depend on some (but not only) prepended silence, the ringing out phase similarly contains outputs which depend on some (but not only) appended silence.\n",
    "\n",
    "These effects can be seen in the example below, where we compute a full convolution between an increasing sequence $[5, 6, 7, 8, 9]$ and a differencing filter $[1, 0, -1]$.\n",
    "With this example, we'll have $y[n] = x[n] - x[n-2]$ in general, which will be the constant 2 for this sequence.\n",
    "However, at the beginning and end, you can see the effects of left- and right-padding by zeros."
   ]
  },
  {
   "cell_type": "code",
   "execution_count": 2,
   "metadata": {},
   "outputs": [
    {
     "name": "stdout",
     "output_type": "stream",
     "text": [
      "Input:\t\t [5 6 7 8 9]\n",
      "Filter:\t\t [ 1  0 -1]\n",
      "Full convolution:\t [ 5  6  2  2  2 -8 -9]\n"
     ]
    }
   ],
   "source": [
    "# Full mode example\n",
    "x = np.arange(5, 10)\n",
    "\n",
    "# This is a differencing filter:\n",
    "#   y[n] = x[n] - x[n-2]\n",
    "h = np.array([1, 0, -1])\n",
    "\n",
    "y = np.convolve(x, h, mode='full')\n",
    "\n",
    "print('Input:\\t\\t', x)\n",
    "print('Filter:\\t\\t', h)\n",
    "print('Full convolution:\\t', y)"
   ]
  },
  {
   "cell_type": "markdown",
   "metadata": {},
   "source": [
    "## Valid mode\n",
    "\n",
    "**Valid mode** convolution eliminates any outputs that depend on padding at all.\n",
    "If we start from the **full mode** convolution described above, the *valid* outputs are the middle 3, because they depend only on values explicitly observed in the input: $7-5$, $8-6$, and $9-7$.\n",
    "\n",
    "A valid mode convolution will have $N - K + 1$ output samples."
   ]
  },
  {
   "cell_type": "code",
   "execution_count": 3,
   "metadata": {},
   "outputs": [
    {
     "name": "stdout",
     "output_type": "stream",
     "text": [
      "Input:\t\t [5 6 7 8 9]\n",
      "Filter:\t\t [ 1  0 -1]\n",
      "Valid convolution:\t [2 2 2]\n"
     ]
    }
   ],
   "source": [
    "y = np.convolve(x, h, mode='valid')\n",
    "print('Input:\\t\\t', x)\n",
    "print('Filter:\\t\\t', h)\n",
    "print('Valid convolution:\\t', y)"
   ]
  },
  {
   "cell_type": "markdown",
   "metadata": {},
   "source": [
    "## Same mode\n",
    "\n",
    "**Same mode** is derived from **full mode** by extracting $N$ samples from the full convolution, so that \n",
    "the output $y$ has the *same length* $N$ as $x$.\n",
    "Most implementations of **same mode** extract the *middle* of the output, so that both the first and last $K/2$ samples depend on zero padding, as demonstrated below:"
   ]
  },
  {
   "cell_type": "code",
   "execution_count": 4,
   "metadata": {},
   "outputs": [
    {
     "name": "stdout",
     "output_type": "stream",
     "text": [
      "Input:\t\t [5 6 7 8 9]\n",
      "Filter:\t\t [ 1  0 -1]\n",
      "Same convolution:\t [ 6  2  2  2 -8]\n"
     ]
    }
   ],
   "source": [
    "y = np.convolve(x, h, mode='same')\n",
    "\n",
    "print('Input:\\t\\t', x)\n",
    "print('Filter:\\t\\t', h)\n",
    "print('Same convolution:\\t', y)"
   ]
  },
  {
   "cell_type": "markdown",
   "metadata": {},
   "source": [
    "Sometimes, you may want a left-aligned (or right-aligned) same-mode convolution, including the warm-up but not ring-out (or vice versa).\n",
    "These can be helpful if you want to introduce a delay effect to a signal, but retain its length.\n",
    "While the standard implementation used above does not do this, it's easy enough to construct by trimming the full mode convolution differently:"
   ]
  },
  {
   "cell_type": "code",
   "execution_count": 5,
   "metadata": {},
   "outputs": [
    {
     "name": "stdout",
     "output_type": "stream",
     "text": [
      "Input:\t\t [5 6 7 8 9]\n",
      "Filter:\t\t [ 1  0 -1]\n",
      "Same (left-align):\t [5 6 2 2 2]\n"
     ]
    }
   ],
   "source": [
    "# Include only the warm-up phase\n",
    "N = len(x)\n",
    "y = np.convolve(x, h, mode='full')\n",
    "y = y[:N]  # Truncate to the first N samples\n",
    "\n",
    "print('Input:\\t\\t', x)\n",
    "print('Filter:\\t\\t', h)\n",
    "print('Same (left-align):\\t', y)"
   ]
  },
  {
   "cell_type": "code",
   "execution_count": 6,
   "metadata": {},
   "outputs": [
    {
     "name": "stdout",
     "output_type": "stream",
     "text": [
      "Input:\t\t [5 6 7 8 9]\n",
      "Filter:\t\t [ 1  0 -1]\n",
      "Same (right-align):\t [ 2  2  2 -8 -9]\n"
     ]
    }
   ],
   "source": [
    "# Discard the warm-up, but include the ring-out\n",
    "N = len(x)\n",
    "y = np.convolve(x, h, mode='full')\n",
    "y = y[-N:]  # Truncate to the last N samples\n",
    "\n",
    "print('Input:\\t\\t', x)\n",
    "print('Filter:\\t\\t', h)\n",
    "print('Same (right-align):\\t', y)"
   ]
  },
  {
   "cell_type": "markdown",
   "metadata": {},
   "source": [
    "## Summary\n",
    "The different convolution modes are summarized visually below, with $h$ as the differencing filter used above, and $x$ now as a square wave over 25 samples.\n",
    "\n",
    "The shaded regions of the bottom subplot correspond to those which depend on zero-padding."
   ]
  },
  {
   "cell_type": "code",
   "execution_count": 12,
   "metadata": {
    "tags": [
     "hide_input",
     "remove_input"
    ]
   },
   "outputs": [
    {
     "data": {
      "image/png": "[encoded data removed]",
      "text/plain": [
       "<Figure size 720x720 with 3 Axes>"
      ]
     },
     "metadata": {
      "needs_background": "light"
     },
     "output_type": "display_data"
    }
   ],
   "source": [
    "## TODO: animate this\n",
    "# Make an array of samples with a square wave\n",
    "from matplotlib import gridspec\n",
    "fs = 50\n",
    "k = 3\n",
    "n = np.arange(fs//2)\n",
    "N = len(n)\n",
    "times = np.arange(fs) / fs\n",
    "x = scipy.signal.square(2 * np.pi * 5 * n / fs)\n",
    "\n",
    "fig = plt.figure(figsize=figaspect(1))\n",
    "\n",
    "gs = gridspec.GridSpec(3, 4)\n",
    "\n",
    "ax = plt.subplot(gs[0:1, 0:3])\n",
    "\n",
    "\n",
    "ax.plot(x, label=r'$x$', linewidth=1, marker='o', markersize=10)\n",
    "ax.plot(-np.arange(1, k), [0] * (k-1), linewidth=1, marker='o', markersize=10,\n",
    "         label='zero-padding', color=colors[3])\n",
    "ax.plot(np.arange(N, N + k-1), [0] * (k-1), linewidth=1, marker='o',\n",
    "        markersize=10, color=colors[3])\n",
    "ax.legend(ncol=2, loc='upper right')\n",
    "ax.label_outer()\n",
    "\n",
    "\n",
    "ax2 = plt.subplot(gs[1:3, 0:3], sharex=ax, sharey=ax)\n",
    "\n",
    "y = np.convolve(x, h, mode='full')\n",
    "\n",
    "ax2.plot(y, label='$y = h*x$ (Full)'.format(k), linewidth=0,\n",
    "           marker='o', markersize=10, color=colors[4], zorder=10)\n",
    "ax2.plot(y, linewidth=1, zorder=2,\n",
    "           markersize=5, color=colors[4], alpha=0.5)\n",
    "ax2.axvspan(0, (k-1), alpha=0.1, zorder=-1, color=colors[3])\n",
    "ax2.axvspan(N-1, N + k - 2, alpha=0.1, zorder=-1, color=colors[3])\n",
    "ax2.set_xlabel('Sample indices')\n",
    "\n",
    "ax2.arrow(0, 1.5, len(y)-1, 0, length_includes_head=True,\n",
    "            head_width=0.25, head_length=0.5, color=colors[3], linewidth=3, zorder=-1)\n",
    "ax2.arrow(len(y)-1, 1.5, -len(y)+1, 0, length_includes_head=True,\n",
    "            head_width=0.25, head_length=0.5, color=colors[3], linewidth=3, zorder=-1)\n",
    "ax2.text(3, 1.7, 'Full', size=18, color=colors[3]);\n",
    "\n",
    "ax2.axvline(0, color=colors[3], linestyle='--', linewidth=3, zorder=-1, alpha=0.5)\n",
    "ax2.axvline(len(y)-1, color=colors[3], linestyle='--', linewidth=3, zorder=-1, alpha=0.5)\n",
    "\n",
    "ax2.arrow(2, 0.5, len(y)-5, 0, length_includes_head=True,\n",
    "            head_width=0.25, head_length=0.5, color=colors[5], linewidth=3, zorder=-1)\n",
    "ax2.arrow(len(y)-3, 0.5, -len(y)+5, 0, length_includes_head=True,\n",
    "            head_width=0.25, head_length=0.5, color=colors[5], linewidth=3, zorder=-1)\n",
    "ax2.text(4, 0.7, 'Valid', size=18, color=colors[5]);\n",
    "\n",
    "ax2.axvline(2, color=colors[5], linestyle='--', linewidth=3, zorder=-1, alpha=0.5)\n",
    "ax2.axvline(len(y)-3, color=colors[5], linestyle='--', linewidth=3, zorder=-1, alpha=0.5)\n",
    "\n",
    "ax2.arrow(1, -1.5, len(x)-1, 0, length_includes_head=True,\n",
    "            head_width=0.25, head_length=0.5, color=colors[7], linewidth=3, zorder=-1)\n",
    "ax2.arrow(len(x)-1, -1.5, -len(x)+2, 0, length_includes_head=True,\n",
    "            head_width=0.25, head_length=0.5, color=colors[7], linewidth=3, zorder=-1)\n",
    "ax2.text(8, -1.3, 'Same (centered)', size=18, color=colors[7]);\n",
    "\n",
    "\n",
    "ax2.axvline(1, color=colors[7], linestyle='--', linewidth=3, zorder=-1, alpha=0.5)\n",
    "ax2.axvline(len(y)-2, color=colors[7], linestyle='--', linewidth=3, zorder=-1, alpha=0.5)\n",
    "\n",
    "ax2.arrow(0, -2.6, len(x)-1, 0, length_includes_head=True,\n",
    "            head_width=0.25, head_length=0.5, color=colors[10], linewidth=3, zorder=-1)\n",
    "ax2.arrow(len(x)-2, -2.6, -len(x)+2, 0, length_includes_head=True,\n",
    "            head_width=0.25, head_length=0.5, color=colors[10], linewidth=3, zorder=-1)\n",
    "ax2.text(7, -2.4, 'Same (left)', size=18, color=colors[10]);\n",
    "\n",
    "ax2.arrow(2, -3.7, len(x)-1, 0, length_includes_head=True,\n",
    "            head_width=0.25, head_length=0.5, color=colors[6], linewidth=3, zorder=-1)\n",
    "ax2.arrow(len(y)-1, -3.7, -len(x)+1, 0, length_includes_head=True,\n",
    "            head_width=0.25, head_length=0.5, color=colors[6], linewidth=3, zorder=-1)\n",
    "ax2.text(16, -3.3, 'Same (right)', size=18, color=colors[6]);\n",
    "\n",
    "ax2.set_ylim([-4, 4])\n",
    "\n",
    "\n",
    "ax2.set_yticks([0])\n",
    "ax2.set_xticks([0, len(x)-1])\n",
    "ax2.label_outer()\n",
    "ax2.legend(ncol=2, loc='upper right');\n",
    "\n",
    "ax3 = plt.subplot(gs[0:1, 3])\n",
    "p_h = ax3.bar(np.arange(len(h)), h, color=colors[1], label='$h[k]$',\n",
    "                linewidth=2, edgecolor=colors[1])\n",
    "ax3.legend(loc='lower left')\n",
    "ax3.set_xticks(np.arange(len(h)))\n",
    "ax3.set_ylim([-2, 2])\n",
    "ax3.set_yticks(np.arange(-3, 4))\n",
    "ax3.get_xaxis().set_ticks_position('top')\n",
    "ax3.get_yaxis().set_ticklabels([]);"
   ]
  },
  {
   "cell_type": "markdown",
   "metadata": {},
   "source": [
    "The table below provides a rubric for deriving the different convolution modes from **full** mode in Python.\n",
    "For each mode, the length of the output signal is listed, as well as the *slice notation* for finding the different mode outputs within the `full` convolution.\n",
    "\n",
    "In this table, we've assumed that $N \\geq K \\geq 1$.\n",
    "\n",
    "| Mode | Length | Slice | Code |\n",
    "| --- |:---:|:---:|:--- | \n",
    "| Full | ${N+K-1}$| `0 : N + K - 1` | `np.convolve(x, h, mode='full')` |\n",
    "| Valid | ${N-K-1}$ | `K : N` | `np.convolve(x, h, mode='valid')` |\n",
    "| Same (centered) | $N$ | `(K-1)//2 : N + (K-1)//2` | `np.convolve(x, h, mode='same')` |\n",
    "| Same (left) | $N$ | `0 : N`| `np.convolve(x, h, mode='full')[:N]` |\n",
    "| Same (right) | $N$ | `K -1 : N + K-1` | `np.convolve(x, h, mode='full')[K-1:]` |\n",
    "\n",
    "Remember that array slices in Python do not include the upper limit.\n",
    "For example, `K:N` denotes indices `K, K+1, K+2, ..., N-1`.\n"
   ]
  }
 ],
 "metadata": {
  "kernelspec": {
   "display_name": "Python 3.7",
   "language": "python",
   "name": "py37"
  },
  "language_info": {
   "codemirror_mode": {
    "name": "ipython",
    "version": 3
   },
   "file_extension": ".py",
   "mimetype": "text/x-python",
   "name": "python",
   "nbconvert_exporter": "python",
   "pygments_lexer": "ipython3",
   "version": "3.7.6"
  }
 },
 "nbformat": 4,
 "nbformat_minor": 4
}
