{
 "cells": [
  {
   "cell_type": "markdown",
   "metadata": {},
   "source": [
    "# Properties of convolution"
   ]
  },
  {
   "cell_type": "code",
   "execution_count": 2,
   "metadata": {
    "tags": [
     "hide_input",
     "hide_output",
     "remove_input"
    ]
   },
   "outputs": [],
   "source": [
    "import numpy as np\n",
    "import scipy.signal\n",
    "\n",
    "import matplotlib\n",
    "import matplotlib.pyplot as plt\n",
    "from matplotlib import cycler\n",
    "import matplotlib.path as path\n",
    "import matplotlib.patches as patches\n",
    "from matplotlib.transforms import Bbox\n",
    "import warnings\n",
    "warnings.simplefilter('ignore')\n",
    "\n",
    "from matplotlib.animation import FuncAnimation\n",
    "import matplotlib.style\n",
    "matplotlib.style.use('bauhaus')\n",
    "\n",
    "np.random.seed(20200101)\n",
    "\n",
    "colors = [_['color'] for _ in list(matplotlib.rcParams['axes.prop_cycle'])]"
   ]
  },
  {
   "cell_type": "markdown",
   "metadata": {},
   "source": [
    "As stated earlier in this chapter, convolution acts like a kind of abstract *multiplication* between signals.\n",
    "Making this statement more precise will have to wait until we've developed the Fourier transform, but for now we can end this chapter by showing some of the properties that convolution shares with multiplication.\n",
    "\n",
    "Note: we'll assume for now that all convolutions are **full mode**.  With appropriate trimming, you can extend these properties to the other modes, but the notation will get a bit more complicated."
   ]
  },
  {
   "cell_type": "markdown",
   "metadata": {},
   "source": [
    "## Commutative property\n",
    "\n",
    "Convolution is **commutative**, which is a fancy word for saying that order doesn't matter.\n",
    "Precisely, commutativity is the property that for any $x$ and $h$, the following holds:\n",
    "$$\n",
    "x*h = h*x.\n",
    "$$\n",
    "What this says in words is that there is no difference between *signals* and *filters*: any sequence of numbers can be interpreted as either (or both)!"
   ]
  },
  {
   "cell_type": "markdown",
   "metadata": {},
   "source": [
    "## Associative property\n",
    "\n",
    "Convolution is also **associative**, which means that if we're chaining a series of convolutions together, it doesn't matter which one you do first.\n",
    "Imagine that we convolve $x *h$ and then convolve the result by some other filter $g$.\n",
    "Associativity says that we could equivalently convolve $h$ with $g$ first, and then convolve the result with $x$.\n",
    "Formally, we have\n",
    "$$\n",
    "(x*h)*g = x*(h*g)\n",
    "$$\n",
    "\n",
    "Why does this matter?  Imagine that $h$ and $g$ are both short (maybe a dozen samples) and $x$ is very long (millions of samples).\n",
    "Computing $x*h$ would take work proportional to the length of $x$, as would convolving the output with $g$: you'd have to step through large arrays twice.\n",
    "However, if you convolve $h*g$ first, that only takes work proportional to the length of the filters (which are small), and then you'd only have to step through the large array once.\n",
    "Reasoning about filters in this way can help you develop more efficient processing chains without changing the calculations.\n",
    "\n",
    "By combining associativity with commutativity, it turns out that a sequence of convolutions $x * h * g * \\dots$ can be equivalently computed **in any order**!\n",
    "This fact can be exploited to find the most efficient possible order (e.g. by ordering the inputs from short to long)."
   ]
  },
  {
   "cell_type": "markdown",
   "metadata": {},
   "source": [
    "## Distributive over addition\n",
    "\n",
    "Imagine we have two signals $x_1$ and $x_2$ that we'd like to filter by $h$ and then mix together.\n",
    "The **distributive** property says that we can equivalently mix the signals first, and then convolve by $h$:\n",
    "$$\n",
    "x_1 *h + x_2 * h = (x_1 + x_2) * h.\n",
    "$$\n",
    "Like the associative property, the distributive property can be used to reduce the amount of computation needed to produce a particular output.\n",
    "Note that the left-hand side of the equation has two convolutions, and the right-hand side has only one.\n",
    "\n",
    "As we'll see in the next chapter, this property can be generalized slightly to show that convolution is a *linear operator*."
   ]
  }
 ],
 "metadata": {
  "kernelspec": {
   "display_name": "Python 3.7",
   "language": "python",
   "name": "py37"
  },
  "language_info": {
   "codemirror_mode": {
    "name": "ipython",
    "version": 3
   },
   "file_extension": ".py",
   "mimetype": "text/x-python",
   "name": "python",
   "nbconvert_exporter": "python",
   "pygments_lexer": "ipython3",
   "version": "3.7.7"
  }
 },
 "nbformat": 4,
 "nbformat_minor": 4
}
