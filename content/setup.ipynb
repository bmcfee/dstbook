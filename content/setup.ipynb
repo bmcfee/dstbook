{
 "cells": [
  {
   "cell_type": "code",
   "execution_count": null,
   "metadata": {},
   "outputs": [],
   "source": [
    "import numpy as np\n",
    "import scipy.signal\n",
    "\n",
    "import matplotlib\n",
    "import matplotlib.pyplot as plt\n",
    "from matplotlib import cycler\n",
    "import matplotlib.path as path\n",
    "import matplotlib.patches as patches\n",
    "from matplotlib.transforms import Bbox\n",
    "import warnings\n",
    "warnings.simplefilter('ignore')\n",
    "\n",
    "from matplotlib.animation import FuncAnimation\n",
    "import matplotlib.style\n",
    "matplotlib.style.use('bauhaus')\n",
    "from IPython.display import set_matplotlib_formats, display, Audio\n",
    "set_matplotlib_formats('svg')\n",
    "from myst_nb import glue\n",
    "\n",
    "np.random.seed(20200101)\n",
    "\n",
    "colors = [_['color'] for _ in list(matplotlib.rcParams['axes.prop_cycle'])]\n",
    "\n",
    "def figaspect(arg):\n",
    "    # min/max sizes to respect when autoscaling.  If John likes the idea, they\n",
    "    # could become rc parameters, for now they're hardwired.\n",
    "    figsize_min = np.array((4.0, 2.0))  # min length for width/height\n",
    "    figsize_max = np.array((16.0, 16.0))  # max length for width/height\n",
    "\n",
    "    # Extract the aspect ratio of the array\n",
    "    isarray = hasattr(arg, 'shape') and not np.isscalar(arg)\n",
    "    if isarray:\n",
    "        nr, nc = arg.shape[:2]\n",
    "        arr_ratio = nr / nc\n",
    "    else:\n",
    "        arr_ratio = arg\n",
    "\n",
    "    # Height of user figure defaults\n",
    "    fig_width = matplotlib.rcParams['figure.figsize'][0]\n",
    "\n",
    "    # New size for the figure, keeping the aspect ratio of the caller\n",
    "    newsize = np.array((fig_width, fig_width *arr_ratio))\n",
    "    #newsize = np.array((fig_height / arr_ratio, fig_height))\n",
    "\n",
    "    # Sanity checks, don't drop either dimension below figsize_min\n",
    "    newsize /= min(1.0, *(newsize / figsize_min))\n",
    "\n",
    "    # Avoid humongous windows as well\n",
    "    newsize /= max(1.0, *(newsize / figsize_max))\n",
    "\n",
    "    # Finally, if we have a really funky aspect ratio, break it but respect\n",
    "    # the min/max dimensions (we don't want figures 10 feet tall!)\n",
    "    newsize = np.clip(newsize, figsize_min, figsize_max)\n",
    "    return newsize"
   ]
  }
 ],
 "metadata": {
  "kernelspec": {
   "display_name": "bloody",
   "language": "python",
   "name": "bloody"
  },
  "language_info": {
   "codemirror_mode": {
    "name": "ipython",
    "version": 3
   },
   "file_extension": ".py",
   "mimetype": "text/x-python",
   "name": "python",
   "nbconvert_exporter": "python",
   "pygments_lexer": "ipython3",
   "version": "3.7.6"
  }
 },
 "nbformat": 4,
 "nbformat_minor": 4
}
