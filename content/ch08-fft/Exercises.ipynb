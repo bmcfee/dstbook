{
 "cells": [
  {
   "cell_type": "markdown",
   "metadata": {},
   "source": [
    "# Exercises"
   ]
  },
  {
   "cell_type": "markdown",
   "metadata": {},
   "source": [
    "```{exercise}\n",
    ":label: ex8-1\n",
    "\n",
    "Imagine that you want to optimize the radix-2 method to only compute the positive frequencies (i.e., like `np.fft.rfft`).  How would you change the method?\n",
    "```"
   ]
  },
  {
   "cell_type": "markdown",
   "metadata": {},
   "source": [
    "```{exercise}\n",
    ":label: ex8-2\n",
    "\n",
    "If you have an input $N = 3^k$ (for some integer $k$), how would you modify the radix-2 algorithm to get a radix-3 algorithm?\n",
    "\n",
    "1. How many recursive calls will the FFT function need to make?\n",
    "1. What should the sub-problems represent, if not \"even\"- and \"odd\"-indexed signals?\n",
    "1. How would you define the \"twiddle\" factors for combining the results of recursive calls?\n",
    "```"
   ]
  }
 ],
 "metadata": {
  "kernelspec": {
   "display_name": "dstbook",
   "language": "python",
   "name": "dstbook"
  },
  "language_info": {
   "codemirror_mode": {
    "name": "ipython",
    "version": 3
   },
   "file_extension": ".py",
   "mimetype": "text/x-python",
   "name": "python",
   "nbconvert_exporter": "python",
   "pygments_lexer": "ipython3",
   "version": "3.9.9"
  }
 },
 "nbformat": 4,
 "nbformat_minor": 4
}
