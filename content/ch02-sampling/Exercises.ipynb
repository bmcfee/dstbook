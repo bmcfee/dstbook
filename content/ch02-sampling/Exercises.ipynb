{
 "cells": [
  {
   "cell_type": "markdown",
   "metadata": {},
   "source": [
    "# Exercises"
   ]
  },
  {
   "cell_type": "markdown",
   "metadata": {},
   "source": [
    "````{exercise}\n",
    ":label: ex2-1\n",
    "\n",
    "Imagine you are given a sampled signal $x[n]$ of $N$ samples, taken at $f_s = 8000$ Hz.  If you derive a new signal $y[n]$ by taking every other sample from $x[n]$:\n",
    "\n",
    "```{math}\n",
    "y[n] = x[2\\cdot n],\n",
    "```\n",
    "- What is the sampling rate $f_s$ of $y[n]$?\n",
    "- What is the sampling period $t_s$ of $y[n]$?\n",
    "- How many samples will $y[n]$ have?\n",
    "\n",
    "```{hint}\n",
    "Be sure to consider what happens when $N$ is even or odd.\n",
    "```\n",
    "````"
   ]
  },
  {
   "cell_type": "markdown",
   "metadata": {},
   "source": [
    "```{exercise}\n",
    ":label: ex2-2\n",
    "\n",
    "If the sampling rate is $f_s = 100$ Hz, use the aliasing equation {eq}`aliasing-eqn` to find two aliases for each of the following frequencies:\n",
    "- $f = 100$ Hz\n",
    "- $f = -25$ Hz\n",
    "- $f = 210$ Hz\n",
    "```"
   ]
  },
  {
   "cell_type": "markdown",
   "metadata": {},
   "source": [
    "```{exercise}\n",
    ":label: ex2-3\n",
    "\n",
    "Imagine that you want to sample a continuous wave $x(t) = \\cos(2\\pi \\cdot f \\cdot t)$ of some arbitrary (known) frequency $f > 0$.  Which sampling rates $f_s$ would you need to use to produce the following discrete observations by sampling $x(t)$?  Express your answers as a fraction of $f$.\n",
    "- $x[n] = 1, 1, 1, 1, \\dots$,\n",
    "- $x[n] = 1, 0, -1, 0, 1, 0, -1, 0, \\dots$,\n",
    "- $x[n] = 1, \\sqrt{1/2}, 0, -\\sqrt{1/2}, -1, \\dots$.\n",
    "    \n",
    "Which (if any) of these sampling rates satisfy the conditions of the Nyquist-Shannon theorem?\n",
    "```"
   ]
  },
  {
   "cell_type": "markdown",
   "metadata": {},
   "source": [
    "````{exercise}\n",
    ":label: ex2-4\n",
    "\n",
    "Using the {ref}`quantize function <quantize-function>` from this chapter, apply different levels of quantization (varying `n_bits` from 1 to 16) to a recording of your choice.  For each quantized signal, subtract it from the original signal and listen to the difference:\n",
    "\n",
    "```python\n",
    "# We need to normalize the signal to cover the same range\n",
    "# before and after quantization if we're going to compare them.\n",
    "x_span = x.max() - x.min()\n",
    "x_diff = x / x_span - quantize(x, n_bits) / 2**n_bits\n",
    "```\n",
    "    \n",
    "What does it sound like for each quantization level?\n",
    "````"
   ]
  }
 ],
 "metadata": {
  "kernelspec": {
   "display_name": "dstbook",
   "language": "python",
   "name": "dstbook"
  },
  "language_info": {
   "codemirror_mode": {
    "name": "ipython",
    "version": 3
   },
   "file_extension": ".py",
   "mimetype": "text/x-python",
   "name": "python",
   "nbconvert_exporter": "python",
   "pygments_lexer": "ipython3",
   "version": "3.9.9"
  }
 },
 "nbformat": 4,
 "nbformat_minor": 4
}
