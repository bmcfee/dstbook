{
 "cells": [
  {
   "cell_type": "markdown",
   "metadata": {},
   "source": [
    "# Properties of the z-transform\n",
    "\n",
    "$$\n",
    "\\require{color}\\notag%\n",
    "$$\n",
    "\n",
    "Like the discrete Fourier transform, the z-Transform has many convenient mathematical properties.\n",
    "In this section, we'll establish the most important ones: linearity, shifting, and convolution.\n",
    "These properties should all be conceptually familiar from our earlier study of the DFT, however they may look a little different in our new context."
   ]
  },
  {
   "cell_type": "code",
   "execution_count": 1,
   "metadata": {
    "tags": [
     "remove_input",
     "remove_output"
    ]
   },
   "outputs": [],
   "source": [
    "%run ../setup.ipynb"
   ]
  },
  {
   "cell_type": "markdown",
   "metadata": {},
   "source": [
    "## Linearity\n",
    "\n",
    "````{admonition} The z-Transform is linear.\n",
    ":class: information\n",
    "\n",
    "Let $x[n] = c_1\\cdot x_1[n] + c_2 \\cdot x_2[n]$ denote a combination of two signals $x_1$ and $x_2$, each with gain coefficients $c_1, c_2 \\in \\mathbb{R}$.\n",
    "\n",
    "Then the z-Transform of $x[n]$ is equivalent to\n",
    "```{math}\n",
    "X(z) = c_1\\cdot X_1(z) + c_2\\cdot X_2(z),\n",
    "```\n",
    "\n",
    "where $X_1(z)$ and $X_2(z)$ are the z-transforms of $x_1[n]$ and $x_2[n]$ respectively.\n",
    "````\n",
    "\n",
    "Or, in plain language: the z-Transform of a weighted combination of signals is equivalent to the weighted combination of their individual z-Transforms.\n",
    "\n",
    "### Proof\n",
    "\n",
    "The proof of z-Transform linearity is almost identical to our earlier proof of DFT {ref}`dft-linearity`, but now using an arbitrary complex number $z$ in place of the complex sinusoid of the DFT.\n",
    "\n",
    "```{math}\n",
    "\n",
    "\\begin{align*}\n",
    "X(z) &= \\sum_{n=0}^{\\infty} x[n] \\cdot z^{-n} & \\text{definition of z-Transform}\\\\\n",
    "&= \\sum_{n=0}^{\\infty} \\left(c_1 \\cdot x_1[n] + c_2 \\cdot x_2[n] \\right) \\cdot z^{-n} & \\text{definition of } x[n]\\\\\n",
    "&= \\sum_{n=0}^{\\infty} \\left(c_1 \\cdot x_1[n]\\cdot z^{-n}\\right) + \\left(c_2 \\cdot x_2[n] \\cdot z^{-n}\\right) & \\text{distributing } z^{-n} \\text{ over sum}\\\\\n",
    "&=  c_1 \\cdot  \\left(\\sum_{n=0}^{\\infty}x_1[n]\\cdot z^{-n}\\right) + c_2 \\cdot\\left(\\sum_{n=0}^{\\infty}  x_2[n] \\cdot z^{-n}\\right) & c_1, c_2 \\text{ do not depend on } n\\\\\n",
    "&= c_1 \\cdot X_1(z) + c_2 \\cdot X_2(z) & \\text{definition of z-Transform}\n",
    "\\end{align*}\n",
    "```"
   ]
  },
  {
   "cell_type": "markdown",
   "metadata": {},
   "source": [
    "## Shifting theorem\n",
    "\n",
    "The shifting theorem for z-Transforms looks a little different from the DFT shifting theorem, but it's conceptually quite similar.\n",
    "The main distinction is that we no longer have the circular / repetition assumption, and instead assume silence outside the observed samples.\n",
    "\n",
    "````{admonition} z-Transform shifting theorem\n",
    ":class: information\n",
    "\n",
    "Let $y[n] = x[n-k]$ denote a $k$-step delay of a signal $x[n]$, with the assumption that $x[n<0] = x[n \\geq N] = 0$.\n",
    "\n",
    "Then the z-Transform of $y[n]$ is given by\n",
    "\n",
    "```{math}\n",
    ":label: zt-shifting\n",
    "\n",
    "Y(z) = z^{-k} \\cdot X(z).\n",
    "```\n",
    "````\n",
    "\n",
    "### Proof\n",
    "\n",
    "Let $y[n] = x[n-k]$.\n",
    "Since we're assuming $x[n<0] = 0$ (silence before the signal starts), we must have $y[n<k] = 0$.\n",
    "\n",
    "The z-Transform is then given by\n",
    "\n",
    "```{math}\n",
    "\n",
    "\\begin{align*}\n",
    "Y(z) &= \\sum_{n=0}^\\infty y[n] \\cdot z^{-n} & \\text{definition of z-Transform}\\\\\n",
    "&= \\sum_{n=k}^\\infty y[n] \\cdot z^{-n} & \\text{since } y[n < k] = 0\\\\\n",
    "&= \\sum_{n=k}^\\infty x[n-k] \\cdot z^{-n} & \\text{definition of } y[n]\\\\\n",
    "&= \\sum_{n=0}^\\infty x[n] \\cdot z^{-(n+k)}\\\\\n",
    "\\end{align*}\n",
    "```\n",
    "This last step follows from the observation that each $z^{-n}$ pairs with the sample $x[n-k]$.\n",
    "For example, $z^{-k}$ pairs with $x[k-k] = x[0]$, $z^{-(k+1)}$ pairs with $x[k+1-1] = x[1]$, and so on.\n",
    "In general, we have $z^{-(n+k)}$ pairing with $x[n+k-k] = x[n]$.\n",
    "\n",
    "Continuing the proof, we can factor $z^{-(n+k)} = z^{-n-k} = z^{-n} \\cdot z^{-k}$.\n",
    "```{math}\n",
    "\n",
    "\\begin{align*}\n",
    "Y(z) &= \\sum_{n=0}^\\infty x[n] \\cdot z^{-(n+k)}\\\\\n",
    "&= \\sum_{n=0}^\\infty x[n] \\cdot z^{-n} \\cdot z^{-k}\\\\\n",
    "&= z^{-k} \\cdot \\sum_{n=0}^\\infty x[n] \\cdot z^{-n} & z^{-k} \\text{ does not depend on } n\\\\\n",
    "&= z^{-k} \\cdot X(z) & \\text{definition of z-Transform}.\n",
    "\\end{align*}\n",
    "```"
   ]
  },
  {
   "cell_type": "markdown",
   "metadata": {},
   "source": [
    "### Remark: the DFT shifting theorem\n",
    "\n",
    "Remember that the DFT can be derived from the z-Transform by letting $z = \\exp\\left(2\\pi\\cdot \\mathrm{j} \\cdot m / N\\right)$.\n",
    "If we plug this into the z-Transform shifting theorem, then a delay $k$ results in multiplication by $z^{-k}$, which in this case gives us\n",
    "\n",
    "$$\n",
    "\\left(\\exp\\left(2\\pi\\cdot \\mathrm{j} \\cdot m / N\\right)\\right)^{-k} = \\exp\\left(- 2\\pi\\cdot \\mathrm{j} \\cdot k \\cdot m / N\\right),\n",
    "$$\n",
    "exactly as stated by the DFT shifting theorem!\n"
   ]
  },
  {
   "cell_type": "markdown",
   "metadata": {},
   "source": [
    "## Convolution theorem\n",
    "\n",
    "Just like the DFT, we also have a convolution theorem for the z-Transform, and its proof follows basically the same form as that of the DFT convolution theorem, except relying on the z-Transform shifting theorem where appropriate.\n",
    "\n",
    "````{admonition} z-Transform convolution theorem\n",
    "\n",
    "Let \n",
    "```{math}\n",
    "y[n] = \\sum_{k=0}^{K-1} h[k] \\cdot x[n-k]\n",
    "```\n",
    "denote the convolution of a signal $x[n]$ with an impulse response $h[k]$ of length $K$.\n",
    "We will assume that $h[k < 0] = h[k \\geq K] = 0$.\n",
    "\n",
    "The z-Transform of the convolution $y$ is equal to the product of the z-Transforms:\n",
    "\n",
    "```{math}\n",
    ":label: zt-convolution\n",
    "\n",
    "Y(z) = H(z) \\cdot X(z),\n",
    "```\n",
    "\n",
    "where $Y(z)$, $H(z)$, and $X(z)$ are the z-Transforms of $y[n]$, $h[k]$, and $x[n]$ respectively.\n",
    "````"
   ]
  },
  {
   "cell_type": "markdown",
   "metadata": {},
   "source": [
    "### Proof\n",
    "\n",
    "Let $y[n] = \\sum_{k=0}^{K-1} h[k] \\cdot x[n-k]$.  Taking the z-Transform of both sides gives us:\n",
    "\n",
    "```{math}\n",
    "\n",
    "\\begin{align*}\n",
    "Y(z) &= \\text{ZT}\\left(\\sum_{k=0}^{K-1} h[k] \\cdot x[n-k]\\right)\\\\\n",
    "&= \\sum_{k=0}^{K-1} h[k] \\cdot \\text{ZT}(x[n-k]) & \\text{by linearity of the z-Transform}\\\\\n",
    "&= \\sum_{k=0}^{K-1} h[k] \\cdot z^{-k} \\cdot X(z) & \\text{by the z-Transform shifting theorem}\\\\\n",
    "&= X(z) \\cdot \\sum_{k=0}^{K-1} h[k] \\cdot z^{-k} & X(z) \\text{ does not depend on } k\\\\\n",
    "&= X(z) \\cdot \\sum_{k=0}^\\infty h[k] \\cdot z^{-k} & h[k\\geq K] = 0, \\text{ so summands past } k=K \\text{ add 0 to the total}\\\\\n",
    "&= X(z) \\cdot H(z) & \\text{by definition of z-Transform}. \n",
    "\\end{align*}\n",
    "```\n"
   ]
  },
  {
   "cell_type": "markdown",
   "metadata": {},
   "source": [
    "## Summary\n",
    "\n",
    "In this section, we've revisited the core properties of the DFT that are necessary for understanding FIR filters: linearity, shifting, and convolution.\n",
    "The derivations for the z-Transform versions of these theorems are not substantially different from what we've seen previously with the DFT, though some of the notation and underlying assumptions have changed to fit our new setting.\n",
    "\n",
    "In the next section, we'll see how to apply these properties in the analysis of IIR filters."
   ]
  }
 ],
 "metadata": {
  "kernelspec": {
   "display_name": "bloody",
   "language": "python",
   "name": "dstbook"
  },
  "language_info": {
   "codemirror_mode": {
    "name": "ipython",
    "version": 3
   },
   "file_extension": ".py",
   "mimetype": "text/x-python",
   "name": "python",
   "nbconvert_exporter": "python",
   "pygments_lexer": "ipython3",
   "version": "3.7.7"
  }
 },
 "nbformat": 4,
 "nbformat_minor": 4
}
