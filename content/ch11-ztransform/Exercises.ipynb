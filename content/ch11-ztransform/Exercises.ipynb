{
 "cells": [
  {
   "cell_type": "markdown",
   "metadata": {},
   "source": [
    "# Exercises"
   ]
  },
  {
   "cell_type": "markdown",
   "metadata": {},
   "source": [
    "1. Compute the poles and zeros of each of the following filters.  Which ones are stable?\n",
    "    a. $y[n] = \\frac{1}{2} \\cdot x[n] + \\frac{1}{2} \\cdot y[n-1] - y[n-2]$\n",
    "    b. $y[n] = x[n] + x[n-2] - 2 \\cdot y[n-1]$\n",
    "\n",
    "2. A system is given to you with poles at $\\{0.5 + 0.5 \\mathrm{j}, 0.5 - 0.5\\mathrm{j}\\}$ and zeros at $\\{-0.5, +0.5\\}$.\n",
    "    - Create a pole-zero plot for this system, similar to {numref}`polezero` (left).\n",
    "    - Is the system stable?\n",
    "    - Is the system high-pass, low-pass, or neither?\n",
    "\n",
    "3. We've seen the function `scipy.signal.tf2zpk`, which produces the zeros, poles, and gain of a filter when given the feed-forward and feed-back coefficients `b` and `a`.  There is also a function which reverses this process, `scipy.signal.zpk2tf`.\n",
    "\n",
    "      - Starting from the example code given in {numref}`elliptic-transfer`, construct an elliptic filter with the following properties: sampling rate of $f_s=44100$, cutoff frequency of $f_c=16000$, transition bandwidth of 2000 Hz, pass-band ripple of 3dB, and stop-band attenuation of 120dB.\n",
    "      - Use `tf2zpk` to calculate the zeros, poles, and gain of the filter.\n",
    "      - Use `zpk2tf` to derive new filters with the following properties:\n",
    "          - `poles = []` (i.e., no poles), but with zeros and gain from the original filter;\n",
    "          - `zeros = []` (i.e., no zeros), but with poles and gain from the original filter.\n",
    "          - Substitute the poles for zeros and vice versa, e.g., `scipy.signal.zpk2tf(poles, zeros, gain)`.\n",
    "      - For each of these three filters (original, no-poles, no-zeros, swapped), plot the resulting frequency response curves given by `scipy.signal.freqz`.  How do the modified filters differ from the original?"
   ]
  }
 ],
 "metadata": {
  "kernelspec": {
   "display_name": "bloody",
   "language": "python",
   "name": "bloody"
  },
  "language_info": {
   "codemirror_mode": {
    "name": "ipython",
    "version": 3
   },
   "file_extension": ".py",
   "mimetype": "text/x-python",
   "name": "python",
   "nbconvert_exporter": "python",
   "pygments_lexer": "ipython3",
   "version": "3.7.7"
  }
 },
 "nbformat": 4,
 "nbformat_minor": 4
}
