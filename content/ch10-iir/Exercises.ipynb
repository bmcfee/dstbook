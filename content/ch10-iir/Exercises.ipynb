{
 "cells": [
  {
   "cell_type": "markdown",
   "metadata": {},
   "source": [
    "# Exercises"
   ]
  },
  {
   "cell_type": "markdown",
   "metadata": {},
   "source": [
    "1. Consider the following IIR system:\n",
    "    ```{math}\n",
    "    y[n] = \\frac{1}{2} \\left(x[n] - x[n-2]\\right) + y[n-1]\n",
    "    ```\n",
    "    \n",
    "    a. What is the order of this system?\n",
    "    \n",
    "    b. Put this system into the standard form of {eq}`iir`.  What are $b$ and $a$ for this system?\n",
    "    \n",
    "    c. What is its impulse response?    \n",
    " \n",
    "2. Use `scipy.signal.butter` to construct a **high-pass** filter at (and $f_s=44100$) with the following properties:\n",
    "    - $f_c = 500$\n",
    "    - a transition width of 250 Hz,\n",
    "    - at most 1 dB of pass-band loss, and \n",
    "    - stop-band attenuation of 60 dB. \n",
    "    \n",
    "    What is the order of the resulting filter?\n",
    "\n",
    "3. You are asked to implement a low-pass filter  at $f_s=44100$ with the following specification:\n",
    "    - Cut-off frequency $f_c = 1000$ Hz\n",
    "    - No more than 1.5 dB of ripple in the pass-band (less is acceptable)\n",
    "    - At least 80 dB of attenuation in the stop-band (more is acceptable)\n",
    "    - A transition band of no more than 500 Hz (less is acceptable)\n",
    "    \n",
    "    a. Which of the IIR filter(s) covered in this chapter could you use to implement a filter with these constraints?\n",
    "    \n",
    "    b. Using the helper functions provided by scipy (e.g., `scipy.signal.ellipord`), determine the order of the filter.\n",
    "       If there are multiple filter types that will work, which one gives the smallest order?\n",
    "       \n",
    "    c. Use the {ref}`Parks-McClellan method <parks-mcclellan>` to implement an FIR filter with the given constraints.  What order does the filter need to be to satisfy the constraints?\n",
    "    \n",
    "    For this question, stick to single-pass (`lfilter`) filtering, and not bidirectional (`filtfilt`) filtering.\n",
    "    \n",
    "    ```{hint}\n",
    "    For part (c), the `remez` function does not allow explicit constraints on the attenuation.\n",
    "    Try starting with a small order, measuring the frequency response, and then increasing the order until the constraints are satisfied.\n",
    "    ```"
   ]
  }
 ],
 "metadata": {
  "kernelspec": {
   "display_name": "bloody",
   "language": "python",
   "name": "dstbook"
  },
  "language_info": {
   "codemirror_mode": {
    "name": "ipython",
    "version": 3
   },
   "file_extension": ".py",
   "mimetype": "text/x-python",
   "name": "python",
   "nbconvert_exporter": "python",
   "pygments_lexer": "ipython3",
   "version": "3.7.7"
  }
 },
 "nbformat": 4,
 "nbformat_minor": 4
}
