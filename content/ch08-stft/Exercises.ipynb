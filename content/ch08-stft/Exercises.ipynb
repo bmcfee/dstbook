{
 "cells": [
  {
   "cell_type": "markdown",
   "metadata": {},
   "source": [
    "# Exercises"
   ]
  },
  {
   "cell_type": "markdown",
   "metadata": {},
   "source": [
    "1. Imagine you have a signal with length $N=44100$ sampled at $f_s = 44100$.  How many frames would you get if you take an STFT with frame length $N_F=4096$ and hop length $N_H=512$?\n",
    "\n",
    "2. Sometimes, one does not want to discard any samples when performing an STFT.  This can be done by **padding** the signal with trailing zeros.  In the configuration from question 1, what is the smallest number of samples that you would need to add to capture the entire signal?\n",
    "\n",
    "    - Can you give a more general form for calculating the required padding, in terms of (unknown) parameters $N, N_F, N_H$?\n",
    "\n",
    "3. The SciPy package provides an STFT implementation [`scipy.signal.stft`](https://docs.scipy.org/doc/scipy/reference/generated/scipy.signal.stft.html) which uses a slightly different parametrization that the one presented in this chapter.\n",
    "\n",
    "    Using a (non-trivial) test signal $x$ of your choice, can you find parameter settings of `scipy.signal.stft` that produce identical output to the `wstft` function for $N_F=2048$ and $N_H=512$?\n",
    "    \n",
    "    ````{hint}\n",
    "    It's easiest to check the shape of the outputs first:\n",
    "    \n",
    "    ```{code-block} python\n",
    "    import numpy as np\n",
    "    import scipy\n",
    "    \n",
    "    # [COPY in wstft definition from the text]\n",
    "    \n",
    "    s1 = wstft(x, n_frame, n_hop, 'hann')\n",
    "    s2 = scipy.signal.stft(...)\n",
    "    \n",
    "    # Check shapes\n",
    "    assert s1.shape == s2.shape\n",
    "    ```\n",
    "    \n",
    "    Note: you may need to transpose `s2` by saying `s2 = s2.T` so that the time- and frequency dimensions are in the same order as ours.\n",
    "    \n",
    "    After you get the shapes to line up, test for numerical equivalence by using `np.allclose`\n",
    "    ```{code-block} python\n",
    "    assert np.allclose(s1, s2)\n",
    "    ```\n",
    "    ````"
   ]
  }
 ],
 "metadata": {
  "kernelspec": {
   "display_name": "bloody",
   "language": "python",
   "name": "bloody"
  },
  "language_info": {
   "codemirror_mode": {
    "name": "ipython",
    "version": 3
   },
   "file_extension": ".py",
   "mimetype": "text/x-python",
   "name": "python",
   "nbconvert_exporter": "python",
   "pygments_lexer": "ipython3",
   "version": "3.7.6"
  }
 },
 "nbformat": 4,
 "nbformat_minor": 4
}
