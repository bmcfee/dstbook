{
 "cells": [
  {
   "cell_type": "markdown",
   "metadata": {},
   "source": [
    "# Exercises"
   ]
  },
  {
   "cell_type": "code",
   "execution_count": 1,
   "metadata": {
    "tags": [
     "remove_input"
    ]
   },
   "outputs": [],
   "source": [
    "%run ../setup.ipynb"
   ]
  },
  {
   "cell_type": "markdown",
   "metadata": {},
   "source": [
    "1. In general, magnitude is not a linear operation for complex numbers: $|w + z| \\neq |w| + |z|$.  Are there any special cases where this equality does hold?  That is, can you find two complex numbers $w$ and $z$ such that $|w + z| = |w| + |z|$?  If so, what general property must these numbers satisfy to ensure that equality holds?\n",
    "\n",
    "2. The DFT shifting theorem gives an equation to express $Y[m]$ as a complex rotation of $X[m]$ when $y[n]$ is a cyclic shift of $x[n]$.  For a fixed frequency index $m$ and signal length $N$, can you find a delay $d \\notin \\{0, N\\}$ such that $X[m] = Y[m]$?  That is, is there a non-trivial delay that leaves $X[m]$ unchanged?\n",
    "\n",
    "3. Let $y[n] = x[N-n]$ be the time-reversal of $x[n]$.  What can you say about how the DFT $Y[m]$ relates to $X[m]$?\n",
    "\n",
    "4. Create (or find) a recording of an instrument playing a single, isolated note.  Analyze the recording using:\n",
    "    - No windowing function: `np.fft.rfft(x)`\n",
    "    - Hann window: `np.fft.rfft(x * scipy.signal.hann(len(x), sym=False))`\n",
    "    - Two other window functions of your choice: e.g., Hamming, triangular, Kaiser, Blackman-Harris, etc.\n",
    "    \n",
    "    How do the resulting spectra compare to each other, qualitatively?  In particular, how do the height and widths of the spectral peaks change when different windows are used?"
   ]
  }
 ],
 "metadata": {
  "kernelspec": {
   "display_name": "bloody",
   "language": "python",
   "name": "bloody"
  },
  "language_info": {
   "codemirror_mode": {
    "name": "ipython",
    "version": 3
   },
   "file_extension": ".py",
   "mimetype": "text/x-python",
   "name": "python",
   "nbconvert_exporter": "python",
   "pygments_lexer": "ipython3",
   "version": "3.7.6"
  }
 },
 "nbformat": 4,
 "nbformat_minor": 4
}
