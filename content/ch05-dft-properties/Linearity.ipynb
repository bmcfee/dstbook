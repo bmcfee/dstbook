{
 "cells": [
  {
   "cell_type": "markdown",
   "metadata": {},
   "source": [
    "# Linearity\n"
   ]
  },
  {
   "cell_type": "code",
   "execution_count": 1,
   "metadata": {
    "tags": [
     "remove_input"
    ]
   },
   "outputs": [],
   "source": [
    "%run ../setup.ipynb"
   ]
  },
  {
   "cell_type": "markdown",
   "metadata": {},
   "source": [
    "The first major property of the DFT that we'll cover is **linearity**.\n",
    "We've already seen linearity in the context of {ref}`LSI systems <linearity>`, where we used it do understand what happens when you convolve a filter $h$ with a mixture of signals.\n",
    "\n",
    "Here, we'll use linearity slightly differently, but the basic idea is the same.\n",
    "\n",
    "````{admonition} Theorem: DFT Linearity\n",
    "\n",
    "For any pair of signals ${\\color{#0271AE}{x_1[n]}}$ and ${\\color{#0271AE}{x_2[n]}}$ of the same length, and real numbers ${\\color{#DC2830}{c_1, c_2}}$, the following holds:\n",
    "\n",
    "```{math}\n",
    "\\text{DFT}({\\color{#DC2830}{c_1}} \\cdot {\\color{#0271AE}{x_1}} + {\\color{#DC2830}{c_2}} \\cdot {\\color{#0271AE}{x_2}}) = \n",
    "{\\color{#DC2830}{c_1}} \\cdot \\text{DFT}({\\color{#0271AE}{x_1}}) + {\\color{#DC2830}{c_2}} \\cdot \\text{DFT}({\\color{#0271AE}{x_2}}).\n",
    "```\n",
    "````"
   ]
  },
  {
   "cell_type": "markdown",
   "metadata": {},
   "source": [
    "We'll prove this property algebraically, starting from the definition of the DFT {eq}`dft-polar`:\n",
    "\n",
    "```{math}\n",
    "X[m] = \\sum_{n=0}^{N-1} x[n] \\cdot \\exp\\left(-\\mathrm{j}\\cdot 2\\pi \\cdot \\frac{m}{N} \\cdot n\\right)\n",
    "```\n",
    "\n",
    "Let $0 \\leq m < N$ be any frequency index.\n",
    "Using ${\\color{#DC2830}{c_1}} \\cdot {\\color{#0271AE}{x_1}} + {\\color{#DC2830}{c_2}} \\cdot {\\color{#0271AE}{x_2}}$ as our input signal, its $m$th DFT component is\n",
    "\n",
    "```{math}\n",
    "\\begin{align*}\n",
    "\\sum_{n=0}^{N-1} \\left({\\color{#DC2830}{c_1}} \\cdot {\\color{#0271AE}{x_1[n]}} + {\\color{#DC2830}{c_2}} \\cdot {\\color{#0271AE}{x_2[n]}}\\right) \\cdot {\\color{#6E3B87}{\\exp\\left(-\\mathrm{j}\\cdot 2\\pi \\cdot \\frac{m}{N} \\cdot n\\right)}}\n",
    "&= \n",
    "\\sum_{n=0}^{N-1} {\\color{#DC2830}{c_1}} \\cdot {\\color{#0271AE}{x_1[n]}} \\cdot {\\color{#6E3B87}{\\exp\\left(-\\mathrm{j}\\cdot 2\\pi \\cdot \\frac{m}{N} \\cdot n\\right)}} \\\\\n",
    "&\\;\\;+ {\\color{#DC2830}{c_2}} \\cdot {\\color{#0271AE}{x_2[n]}} \\cdot {\\color{#6E3B87}{\\exp\\left(-\\mathrm{j}\\cdot 2\\pi \\cdot \\frac{m}{N} \\cdot n\\right)}}\\\\\n",
    "&=\n",
    "{\\color{#DC2830}{c_1}} \\cdot \\sum_{n=0}^{N-1}  {\\color{#0271AE}{x_1[n]}} \\cdot {\\color{#6E3B87}{\\exp\\left(-\\mathrm{j}\\cdot 2\\pi \\cdot \\frac{m}{N} \\cdot n\\right)}} \\\\\n",
    "&\\;\\;+ {\\color{#DC2830}{c_2}} \\cdot \\sum_{n=0}^{N-1} \\cdot {\\color{#0271AE}{x_2[n]}} \\cdot {\\color{#6E3B87}{\\exp\\left(-\\mathrm{j}\\cdot 2\\pi \\cdot \\frac{m}{N} \\cdot n\\right)}}\\\\\n",
    "&= {\\color{#DC2830}{c_1}} \\cdot X_1[m] + {\\color{#DC2830}{c_1}} \\cdot X_2[m].\n",
    "\\end{align*}\n",
    "```\n",
    "So if we scale and mix two input signals, the resulting DFT component is the same scaling and mixing of their individual DFT components $X_1[m]$ and $X_2[m]$.\n",
    "Since this holds for any $m$ it must hold for all $m$, so the entire DFT sequence of the mixture is the mixture of the DFT sequences.\n",
    "This is what we set out to prove."
   ]
  },
  {
   "cell_type": "markdown",
   "metadata": {},
   "source": [
    "***What does linearity buy us?***\n",
    "\n",
    "DFT linearity is important because most interesting signals are *not* just simple sinusoids.\n",
    "What DFT linearity says is that if we can represent an arbitrary signal $x$ as a weighted combination of sinusoids, then we can reason about its DFT in terms of its constituent sinusoids.\n",
    "\n",
    "As we will see in the next chapter (and as we've hinted at earlier), it turns out that *all* signals can be represented as a weighted combination of sinusoids."
   ]
  },
  {
   "cell_type": "markdown",
   "metadata": {},
   "source": [
    "## Magnitude is not linear\n",
    "\n",
    "Note that DFT linearity applies to the **complex numbers** $X[m]$ which encode both magnitude and phase.\n",
    "There is nothing wrong with adding complex numbers: it's a fine and wholesome pastime!\n",
    "\n",
    "However, it is a common mistake to add **magnitudes** rather than the full complex numbers.\n",
    "\n",
    "````{admonition} Magnitude is not linear!\n",
    ":class: warning\n",
    "\n",
    "If signals $x_1[n]$ and $x_2[n]$ have DFT series $X_1[m]$ and $X_2[m]$, then the sum $y[n] = x_1[n] + x_2[n]$ has DFT series $Y[m] = X_1[m] + X_2[m]$.\n",
    "\n",
    "But remember,\n",
    "```{math}\n",
    "|Y[m]| = |X_1[m] + X_2[m]| \\neq |X_1[m]| + |X_2[m]|.\n",
    "```\n",
    "````\n",
    "\n",
    "### Example\n",
    "\n",
    "For an extreme case, consider $x_2[n] = -x_1[n]$ for some arbitrary, non-empty signal $x_1$.\n",
    "DFT linearity says that $X_2[m] = -1 \\cdot X_1[m]$ (taking $c=-1$), so the spectra $X_1$ and $X_2$ are opposites.\n",
    "However, the spectral *magnitudes* are identical:\n",
    "```{math}\n",
    "X_2[m] = -X_1[m] \\quad \\Rightarrow \\quad |X_2[m]| = |-1 \\cdot X_1[m]| = |X_1[m]|.\n",
    "```\n",
    "If we were to add the magnitude spectra, we'd get\n",
    "```{math}\n",
    "|X_1[m]| + |X_2[m]| = |X_1[m]| + |X_1[m]| = 2\\cdot |X_1[m]|.\n",
    "```\n",
    "However, if we mix the two signals in the time domain, we get the empty signal:\n",
    "```{math}\n",
    "y[n] = x_1[n] + x_2[n] = x_1[n] - x_1[n] = 0.\n",
    "```\n",
    "The empty signal has an empty spectrum: $Y[m] = 0$ for all $m$, but \n",
    "```{math}\n",
    "|Y[m]| = 0 \\neq 2 \\cdot |X_1[m]|\n",
    "```\n",
    "in general.\n",
    "\n",
    "What this says is that **mixing signals** does not equate to **mixing DFT magnitudes**."
   ]
  },
  {
   "cell_type": "code",
   "execution_count": null,
   "metadata": {},
   "outputs": [],
   "source": []
  }
 ],
 "metadata": {
  "kernelspec": {
   "display_name": "Python 3.7",
   "language": "python",
   "name": "py37"
  },
  "language_info": {
   "codemirror_mode": {
    "name": "ipython",
    "version": 3
   },
   "file_extension": ".py",
   "mimetype": "text/x-python",
   "name": "python",
   "nbconvert_exporter": "python",
   "pygments_lexer": "ipython3",
   "version": "3.7.6"
  }
 },
 "nbformat": 4,
 "nbformat_minor": 4
}
