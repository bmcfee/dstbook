{
 "cells": [
  {
   "cell_type": "code",
   "execution_count": 1,
   "id": "af2758b9-9167-46ee-8904-46fcfd57a663",
   "metadata": {
    "tags": [
     "remove_input",
     "remove_output"
    ]
   },
   "outputs": [],
   "source": [
    "%run ../setup.ipynb"
   ]
  },
  {
   "cell_type": "markdown",
   "id": "fe263691-926e-4363-a87d-a0dada2d4662",
   "metadata": {},
   "source": [
    "## Sequences\n",
    "\n",
    "A *sequence* is exactly what it sounds like: an ordered list of things.\n",
    "Sequences are different from *sets* in that they are ordered, and repetition is allowed.\n",
    "\n",
    "The most common usage of sequences in DSP is the sequence of sample values representing a digital signal.\n",
    "This is commonly denoted by $x[n]$, where $n \\in \\mathbb{N}$ is the sample index, and $x[n]$ is the sampled value of the signal at the $n$th position."
   ]
  },
  {
   "cell_type": "markdown",
   "id": "18a978f4-5d52-4288-b90c-e37dc148d2cd",
   "metadata": {},
   "source": [
    "## Summations\n",
    "\n",
    "Throughout signal processing, we often need to add up long sequences of numbers. While we could easily express this using the standard $+$ notation, such as\n",
    "\n",
    "$$\n",
    "S = 1 + 2 + 3 + \\dots + 100,\n",
    "$$\n",
    "\n",
    "this can get cumbersome and difficult to read, especially when the terms of the summation involve other calculations.\n",
    "\n",
    "Instead, mathematicians express summations using the $\\sum$ symbol, derived from the (capital) Greek letter *sigma* (equivalent to *S* in the latin alphabet, standing for *s*ummation).\n",
    "The summation above would be equivalently expressed as\n",
    "\n",
    "$$\n",
    "\\begin{align*}\n",
    "S &= \\sum_{n=1}^{100} n\\\\\n",
    "&= 1 + 2 + 3 + \\dots + 100.\n",
    "\\end{align*}\n",
    "$$\n",
    "\n",
    "The notation specifies the variable which is changing throughout the summation (in our case, $n$), and the start and end-points of the sum (1 to 100, inclusive) below and above the $\\sum$ symbol.\n",
    "Everything after the summation symbol describes what's being added up: in this case, just the values of $n$.\n",
    "\n",
    "It's often helpful to think programmatically when reading summation expressions. \n",
    "The summation above would be translated to Python code as follows:\n",
    "```python\n",
    "S = 0\n",
    "\n",
    "# Python ranges do not include the end point, so we need to go one past where we want to stop\n",
    "for n in range(1, 101):\n",
    "    S = S + n\n",
    "```"
   ]
  }
 ],
 "metadata": {
  "kernelspec": {
   "display_name": "dstbook",
   "language": "python",
   "name": "dstbook"
  },
  "language_info": {
   "codemirror_mode": {
    "name": "ipython",
    "version": 3
   },
   "file_extension": ".py",
   "mimetype": "text/x-python",
   "name": "python",
   "nbconvert_exporter": "python",
   "pygments_lexer": "ipython3",
   "version": "3.9.4"
  }
 },
 "nbformat": 4,
 "nbformat_minor": 5
}
