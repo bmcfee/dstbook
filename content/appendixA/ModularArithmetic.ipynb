{
 "cells": [
  {
   "cell_type": "code",
   "execution_count": 1,
   "id": "b30141d9-1e2a-43b8-a5bd-bc555c54dc1e",
   "metadata": {
    "tags": [
     "remove_input",
     "remove_output"
    ]
   },
   "outputs": [],
   "source": [
    "%run ../setup.ipynb"
   ]
  },
  {
   "cell_type": "markdown",
   "id": "a0ef07e6-d2b9-4d36-8446-b3974bc7a60e",
   "metadata": {},
   "source": [
    "## Modular arithmetic\n",
    "\n",
    "Another common feature of mathematics of signal processing is the need to deal with repeating sequences and periodicity.\n",
    "We use real numbers to model continuously repeating processes (like a point traveling continuously around a circle), but we also occasionally have **discrete** repeating processes, like the hours on a clock: 12:00, 1:00, 2:00, \\dots, 11:00.\n",
    "**Modular arithmetic** is the math of discrete repetition.\n",
    "\n",
    "For a positive integer $N > 1$ (the *modulus*), we define for any integer $q \\in \\mathbb{Z}$\n",
    "```{math}\n",
    "q \\mod N \\in \\{0, 1, \\dots, N-1\\}\n",
    "```\n",
    "to be the remainder of $q / N$.\n",
    "Equivalently:\n",
    "```{math}\n",
    "q \\mod N = k \\quad\\quad \\text{such that } a \\cdot N + k = q.\n",
    "```\n",
    "for non-negative integer $a \\in \\mathbb{N}$.\n",
    "\n",
    "In Python code, this is implemented by\n",
    "```python\n",
    "# The % symbol\n",
    "q % N\n",
    "\n",
    "# Or the numpy function np.mod\n",
    "np.mod(q, N)\n",
    "```\n",
    "\n",
    "### Examples\n",
    "\n",
    "A few examples:\n",
    "\n",
    "- $3 \\mod 2 = 1$\n",
    "- $-1 \\mod 4 = 3$\n",
    "- $20 \\mod 5 = 0$\n",
    "- $10 \\mod 10 = 0$"
   ]
  }
 ],
 "metadata": {
  "kernelspec": {
   "display_name": "dstbook",
   "language": "python",
   "name": "dstbook"
  },
  "language_info": {
   "codemirror_mode": {
    "name": "ipython",
    "version": 3
   },
   "file_extension": ".py",
   "mimetype": "text/x-python",
   "name": "python",
   "nbconvert_exporter": "python",
   "pygments_lexer": "ipython3",
   "version": "3.9.4"
  }
 },
 "nbformat": 4,
 "nbformat_minor": 5
}
