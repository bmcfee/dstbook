{
 "cells": [
  {
   "cell_type": "code",
   "execution_count": 1,
   "id": "ac45eba6-8c8d-4ac9-be9c-dc684899ab2f",
   "metadata": {
    "tags": [
     "remove_input",
     "remove_output"
    ]
   },
   "outputs": [],
   "source": [
    "%run ../setup.ipynb"
   ]
  },
  {
   "cell_type": "markdown",
   "id": "717540a8-0fa3-44a4-b0ef-4e41d32dc58d",
   "metadata": {},
   "source": [
    "# Sets\n",
    "```{eval-rst}\n",
    ".. index:: set\n",
    "```\n",
    "A *set* is a basic concept in mathematics used to define collections of *elements*.\n",
    "The [technical underpinnings of set theory](https://en.wikipedia.org/wiki/Set_(mathematics)) can get a bit tricky, but for our purposes, you can think of a set as any un-ordered collection.\n",
    "\n",
    "Notationally, we use curly braces $\\{\\}$ to denote a set.  For example, we could have a set consisting of three colors defined as\n",
    "\n",
    "$$\n",
    "S = \\{\\text{red},\\;\\text{green},\\;\\text{blue}\\}.\n",
    "$$\n",
    "\n",
    "Each of the three colors **red, green, blue** are *elements* of the set $S$.\n",
    "Order is not important here: the set above is equivalent to the set $\\{\\text{blue},\\;\\text{green},\\;\\text{red}\\}$.\n",
    "Repetition also does not matter: an element is either in the set or not.\n",
    "\n",
    "We use the symbol $\\in$ (a funny-looking *E*, denoting *element*) to denote membership in a set:\n",
    "\n",
    "$$\n",
    "\\text{red} \\in S,\n",
    "$$\n",
    "\n",
    "and $\\notin$ to denote that an element does not belong to a set:\n",
    "\n",
    "$$\n",
    "\\text{Cleveland} \\notin S.\n",
    "$$\n",
    "\n",
    "We won't do too much with sets in this text, but the basic notation is helpful to have, especially when dealing with different types of numbers."
   ]
  },
  {
   "cell_type": "markdown",
   "id": "83168f90-b038-47c5-b503-45a6ae17bbe1",
   "metadata": {},
   "source": [
    "## Number systems\n",
    "```{eval-rst}\n",
    ".. index:: numbers, numbers ; natural, numbers; integer, numbers; rational, numbers; real, numbers; complex\n",
    "```\n",
    "In digital signal processing, we use many kinds of numbers to represent different quantities.\n",
    "It's helpful to have notation to specify exactly what kind of numbers we're talking about, so here's a brief list with their standard notations:\n",
    "\n",
    "```{margin} How natural is zero?\n",
    "\n",
    "Note: some authors do not include 0 in the natural numbers $\\mathbb{N}$.\n",
    "You are likely to encounter differences of opinion when reading other sources, so beware!\n",
    "I've adopted the convention of $0 \\in \\mathbb{N}$ here for many reasons, but principally because it simplifies notation overall and aligns closely to how we use these numbers when programming.\n",
    "```\n",
    "* $\\mathbb{N}$, the *natural  numbers*: $\\{0, 1, 2, 3, \\dots\\}$\n",
    "* $\\mathbb{Z}$, the *integers*: $\\{\\dots, -3, -2, -1, 0, 1, 2, 3, \\dots\\}$\n",
    "* $\\mathbb{Q}$, the *rational numbers* (fractions): $\\left\\{\\frac{n}{m} ~\\middle|~ n,m \\in \\mathbb{Z}, m \\neq 0\\right\\}$\n",
    "* $\\mathbb{R}$, the *real numbers* (i.e., the continuous number line)\n",
    "* $\\mathbb{C}$, the *complex numbers*: $\\{a + \\mathrm{j}b ~|~ a,b \\in \\mathbb{R}\\}$\n",
    "\n",
    "where $\\mathrm{j} = \\sqrt{-1}$ is the *imaginary unit*.\n",
    "\n",
    "Natural numbers ($\\mathbb{N}$) are often used for whole number quantities, such as sample positions $n$.\n",
    "Note that this means that the first sample will occur at index $n=0$!\n",
    "\n",
    "Real numbers ($\\mathbb{R}$) are often used for continuous quantities, such as angles (in radians), frequencies (in cycles/sec), or time (in seconds).\n",
    "\n",
    "Complex numbers occupy a special place in signal processing because they turn out to be a great tool for modeling periodic processes."
   ]
  }
 ],
 "metadata": {
  "kernelspec": {
   "display_name": "dstbook",
   "language": "python",
   "name": "dstbook"
  },
  "language_info": {
   "codemirror_mode": {
    "name": "ipython",
    "version": 3
   },
   "file_extension": ".py",
   "mimetype": "text/x-python",
   "name": "python",
   "nbconvert_exporter": "python",
   "pygments_lexer": "ipython3",
   "version": "3.9.9"
  }
 },
 "nbformat": 4,
 "nbformat_minor": 5
}
